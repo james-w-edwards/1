{
 "cells": [
  {
   "cell_type": "markdown",
   "metadata": {
    "collapsed": true
   },
   "source": [
    "# Chapter 2. The Simple Regression Model"
   ]
  },
  {
   "cell_type": "markdown",
   "metadata": {
    "collapsed": true
   },
   "source": [
    "We are concerned with estimating the population parameters &beta;0 and &beta;1 of the simple linear regression model"
   ]
  },
  {
   "cell_type": "markdown",
   "metadata": {
    "collapsed": true
   },
   "source": [
    "\\begin{equation}\n",
    "y=\\beta_0 + \\beta_1 +u\n",
    "\\tag{2.1}\n",
    "\\end{equation}"
   ]
  },
  {
   "cell_type": "markdown",
   "metadata": {},
   "source": [
    "Where Y and X are the dependent and independent variable respectively. Also sometimes called Response and Control variable respectively."
   ]
  },
  {
   "cell_type": "markdown",
   "metadata": {},
   "source": [
    "The variable u, called the error term or disturbance in the relationship, represents factors other than x that affect y. A simple regression analysis effectively treats all factors affecting y other than x as being unobserved. Thus you can usefully think of u as standing for \"unobserved\"."
   ]
  },
  {
   "cell_type": "markdown",
   "metadata": {},
   "source": [
    "Equation (2.1) also states a linear relationship between y and x. If the other factors in u are held fixed, so that the change in u is zero then x has a linear effect on y."
   ]
  },
  {
   "cell_type": "markdown",
   "metadata": {},
   "source": [
    "\\begin{equation}\n",
    "\\Delta y=\\Delta \\beta_1  \\quad if \\Delta u =0\n",
    "\\tag{2.2}\n",
    "\\end{equation}"
   ]
  },
  {
   "cell_type": "markdown",
   "metadata": {},
   "source": [
    "This means that &beta;1 is the slope parameter in the relationship between y and x, holding the other parameters in u fixed."
   ]
  },
  {
   "cell_type": "markdown",
   "metadata": {},
   "source": [
    "    ### Wooldridge. Example 2.1 Soybean Yield and Fertilizer"
   ]
  },
  {
   "cell_type": "markdown",
   "metadata": {},
   "source": [
    "Supposse that soybean yield is determined by the model"
   ]
  },
  {
   "cell_type": "markdown",
   "metadata": {},
   "source": [
    "\\begin{equation}\n",
    "yield=\\beta_0 + \\beta_1 * fertilizer +u\n",
    "\\tag{2.3}\n",
    "\\end{equation}"
   ]
  },
  {
   "cell_type": "markdown",
   "metadata": {},
   "source": [
    "The researcher is interested in the effect of fertilizer on yield, holding other factors fixed. This effect is given by &beta;1. The error term u contains factors such as land, quality, rainfall and so on. The coefficient &beta;1 neasures the effect of fertilizer on yield, holding other factors fixed: &Delta;yield=&Beta;1*&Delta;fertilizer"
   ]
  },
  {
   "cell_type": "markdown",
   "metadata": {},
   "source": [
    " ### Wooldridge. Example 2.2 A Simple Wage Equation"
   ]
  },
  {
   "cell_type": "markdown",
   "metadata": {},
   "source": [
    "A model related a person's wage to observed education and other unobserved factors is"
   ]
  },
  {
   "cell_type": "markdown",
   "metadata": {},
   "source": [
    "\\begin{equation}\n",
    "wage=\\beta_0 + \\beta_1 * educ +u\n",
    "\\tag{2.4}\n",
    "\\end{equation}"
   ]
  },
  {
   "cell_type": "markdown",
   "metadata": {},
   "source": [
    "If wage is measured in dollars per hour and educ is years of education, then &beta;1 measures the change in hourly wage given another year of education, holding all other factors fixed. Some of those factors include labor force experience, innate ability, tenure with current employer, work ethic among many others."
   ]
  },
  {
   "cell_type": "markdown",
   "metadata": {},
   "source": [
    "A crucial assumption is that the average value of u does not depend on the value of x. We can write this assumption as"
   ]
  },
  {
   "cell_type": "markdown",
   "metadata": {},
   "source": [
    "\\begin{equation}\n",
    "E(u|x)=E(u)\n",
    "\\tag{2.6}\n",
    "\\end{equation}"
   ]
  },
  {
   "cell_type": "markdown",
   "metadata": {},
   "source": [
    "Equation (2.6) says that the average value of the unobservables is the same accross all slices of the population determined by the value of x."
   ]
  },
  {
   "cell_type": "markdown",
   "metadata": {},
   "source": [
    "In the Simple Wage (Example 2.2), Equation (2.6) requires that the average level of ability is the same regardless of years of education. For example, if E(abil|8) denotes the average ability for the group of all people with eight years of education, and E(abil|16) denotes the average ability among people with sixteen years of education, then equation (2.6) implies that these must be the same. "
   ]
  },
  {
   "cell_type": "markdown",
   "metadata": {},
   "source": [
    "If, for example, we think that average ability increases with years of education, then equation (2.6) is false. This would happen for instance if people with more ability chose to be more educated. As we cannot observe innate ability, we have no way of knowing whether or not average ability is the same for all education levels."
   ]
  },
  {
   "cell_type": "markdown",
   "metadata": {},
   "source": [
    "## 2-2 Deriving the Ordinary Least Squares Estimates"
   ]
  },
  {
   "cell_type": "code",
   "execution_count": null,
   "metadata": {
    "collapsed": true
   },
   "outputs": [],
   "source": []
  },
  {
   "cell_type": "markdown",
   "metadata": {
    "collapsed": true
   },
   "source": [
    "from a random sample of y and x. According to Wooldridge (2016, section 2.2) the ordinary least (OLS) estimators are"
   ]
  },
  {
   "cell_type": "markdown",
   "metadata": {
    "collapsed": true
   },
   "source": [
    "\\begin{equation}\n",
    "\\tag{2.17}\n",
    "\\hat{\\beta_0}=\\hat{y}-\\hat{\\beta_1}\\hat{x}\n",
    "\\end{equation}"
   ]
  },
  {
   "cell_type": "markdown",
   "metadata": {
    "collapsed": true
   },
   "source": [
    "\\begin{equation}\n",
    "\\tag{2.19 a}\n",
    "\\hat{\\beta_1}=\\frac{\\sum_{i=1}^n (x_i-\\vec{x})(y_i-\\vec{y})}{\\sum_{i=1}^n(x_i-\\vec{x})^2}\n",
    "\\end{equation}"
   ]
  },
  {
   "cell_type": "markdown",
   "metadata": {
    "collapsed": true
   },
   "source": [
    "\\begin{equation}\n",
    "\\tag{2.19 b}\n",
    "\\hat{\\beta_1}=\\frac{Cov(x,y)}{Var(x}\n",
    "\\end{equation}"
   ]
  },
  {
   "cell_type": "markdown",
   "metadata": {
    "collapsed": true
   },
   "source": [
    "Based in these estimated parameters, the OLS regression line is"
   ]
  },
  {
   "cell_type": "markdown",
   "metadata": {},
   "source": [
    "\\begin{equation}\n",
    "\\hat{y}=\\hat{\\beta_0} + \\hat{\\beta_1}x\n",
    "\\tag{2.1}\n",
    "\\end{equation}"
   ]
  },
  {
   "cell_type": "markdown",
   "metadata": {
    "collapsed": true
   },
   "source": [
    "Thus, for a given sample, we just need to calculate four statistics yHAT, xHAT, Cov(x,y) and Var(x) and plug them into the previous equation. "
   ]
  },
  {
   "cell_type": "markdown",
   "metadata": {},
   "source": [
    "### Wooldridge. Example 2.3 CEO Salary and Return on Equity"
   ]
  },
  {
   "cell_type": "markdown",
   "metadata": {},
   "source": [
    "For the population of chief executive officer, let y be the annual salary (salary) in thousands of dollars. Let x be the average return on equity (roe) for the CEO's firm for the previous three years. To study the relationship between this measure of firm performance and CEO compensation, we postulate the simple model"
   ]
  },
  {
   "cell_type": "markdown",
   "metadata": {},
   "source": [
    "\\begin{equation}\n",
    "salary=\\beta_0 + \\beta_1 * roe +u\n",
    "\\end{equation}"
   ]
  },
  {
   "cell_type": "code",
   "execution_count": 1,
   "metadata": {},
   "outputs": [
    {
     "ename": "ERROR",
     "evalue": "Error in parse(text = x, srcfile = src): <text>:1:5: unexpected symbol\n1: the slope\n        ^\n",
     "output_type": "error",
     "traceback": [
      "Error in parse(text = x, srcfile = src): <text>:1:5: unexpected symbol\n1: the slope\n        ^\nTraceback:\n"
     ]
    }
   ],
   "source": [
    "the slope parameter &beta1; measures the change in annual salary, in thousands of dollars, when return on equity increases by one percentage point. "
   ]
  },
  {
   "cell_type": "code",
   "execution_count": null,
   "metadata": {
    "collapsed": true
   },
   "outputs": [],
   "source": [
    "We are using the data set CEOSAL1.dta. We then calculate the four statistics we need for equations 2.17 and 2.19a"
   ]
  },
  {
   "cell_type": "code",
   "execution_count": null,
   "metadata": {
    "scrolled": false
   },
   "outputs": [],
   "source": [
    "require(foreign)\n",
    "ceosal1<-read.dta(\"https://github.com/thousandoaks/Wooldridge/blob/master/ceosal1.dta?raw=true\")\n",
    "head(ceosal1)\n"
   ]
  },
  {
   "cell_type": "code",
   "execution_count": null,
   "metadata": {},
   "outputs": [],
   "source": [
    "# ingredients to the OLS formulas \n",
    "cat(\"Cov(roe, salary):\",cov(roe,salary))\n",
    "cat(\"\\nVar ROE:\",var(roe))\n",
    "cat(\"\\nMean Salary:\",mean(salary))\n",
    "cat(\"\\nMean ROE:\",mean(roe))\n",
    "\n",
    "# manual calculation of OLS coefficients \n",
    "cat(\"\\nb1hat:\",( b1hat <- cov(roe,salary)/var(roe) ))\n",
    "cat(\"\\nb0hat:\",( b0hat <- mean(salary) - b1hat*mean(roe) ))\n",
    "\n",
    "# \"detach\" the data frame\n"
   ]
  },
  {
   "cell_type": "code",
   "execution_count": null,
   "metadata": {
    "collapsed": true
   },
   "outputs": [],
   "source": [
    "So the OLS regression line is"
   ]
  },
  {
   "cell_type": "markdown",
   "metadata": {},
   "source": [
    "\\begin{equation}\n",
    "\\hat{salary}=963.1913 + 18.50119 * roe\n",
    "\\end{equation}"
   ]
  },
  {
   "cell_type": "markdown",
   "metadata": {},
   "source": [
    "Thus we see that if the return of equity is zero (roe=0) then the predicted salary is the intercept, 963.191, or $963191. We also observe that if roe increases by one percentage point then salary is about to change by 18.50, or $18500. "
   ]
  },
  {
   "cell_type": "markdown",
   "metadata": {},
   "source": [
    "### Wooldridge. Example 2.3 CEO Salary and Return on Equity (cont.)"
   ]
  },
  {
   "cell_type": "markdown",
   "metadata": {},
   "source": [
    "There is a more convenient way to compute the coefficients using R. Following with the previous example:"
   ]
  },
  {
   "cell_type": "code",
   "execution_count": null,
   "metadata": {},
   "outputs": [],
   "source": [
    "lm(ceosal1$salary~ceosal1$roe)"
   ]
  },
  {
   "cell_type": "markdown",
   "metadata": {},
   "source": [
    "### Wooldridge. Example 2.3 CEO Salary and Return on Equity (cont.)"
   ]
  },
  {
   "cell_type": "code",
   "execution_count": null,
   "metadata": {
    "collapsed": true
   },
   "outputs": [],
   "source": [
    "A useful feature of R is the ability to store the output of the execution of lm in a object for further use, for instance to plot the regresion line"
   ]
  },
  {
   "cell_type": "code",
   "execution_count": 2,
   "metadata": {},
   "outputs": [
    {
     "data": {
      "image/png": "[encoded data removed]",
      "text/plain": [
       "plot without title"
      ]
     },
     "metadata": {},
     "output_type": "display_data"
    }
   ],
   "source": [
    "library(foreign)\n",
    "ceosal1<-read.dta(\"https://github.com/thousandoaks/Wooldridge/blob/master/ceosal1.dta?raw=true\")\n",
    "\n",
    "# OLS regression\n",
    "CEOregres <- lm( salary ~ roe, data=ceosal1 )\n",
    "\n",
    "# Scatter plot (restrict y axis limits)\n",
    "plot(ceosal1$roe, ceosal1$salary, ylim=c(0,4000))\n",
    "\n",
    "# Add OLS regression line\n",
    "abline(CEOregres)"
   ]
  },
  {
   "cell_type": "markdown",
   "metadata": {},
   "source": [
    "### Wooldridge. Example 2.4 Wage and Education"
   ]
  },
  {
   "cell_type": "markdown",
   "metadata": {
    "collapsed": true
   },
   "source": [
    "We are using the data set in WAGE1.dta We are interested in studying the relation between education and wage. Thus"
   ]
  },
  {
   "cell_type": "markdown",
   "metadata": {},
   "source": [
    "\\begin{equation}\n",
    "wage=\\beta_0 + \\beta_1 * education +u\n",
    "\\end{equation}"
   ]
  },
  {
   "cell_type": "code",
   "execution_count": 8,
   "metadata": {},
   "outputs": [
    {
     "data": {
      "text/plain": [
       "\n",
       "Call:\n",
       "lm(formula = wage ~ educ, data = wage1)\n",
       "\n",
       "Coefficients:\n",
       "(Intercept)         educ  \n",
       "    -0.9049       0.5414  \n"
      ]
     },
     "metadata": {},
     "output_type": "display_data"
    }
   ],
   "source": [
    "library(foreign)\n",
    "wage1<-read.dta(\"https://github.com/thousandoaks/Wooldridge/blob/master/wage1.dta?raw=true\")\n",
    "\n",
    "# OLS regression:\n",
    "lm(wage ~ educ, data=wage1)"
   ]
  },
  {
   "cell_type": "markdown",
   "metadata": {},
   "source": [
    "Given the previous results, we conclude that one additional year of education is associated with an increase of the typical wage by about 54 cents an hour"
   ]
  },
  {
   "cell_type": "code",
   "execution_count": null,
   "metadata": {
    "collapsed": true
   },
   "outputs": [],
   "source": []
  },
  {
   "cell_type": "markdown",
   "metadata": {},
   "source": [
    "### Wooldridge. Example 2.5 Voting Outcomes and Campaign Expenditures"
   ]
  },
  {
   "cell_type": "markdown",
   "metadata": {},
   "source": [
    "The file VOTE1 contains data on election outcomes and campaign expenditures for 173 two-party races for the US. House of Representatives in 1998. There are two candidates in each race A and B. Let the voteA be the percentage of the vote received by CandidateA and share A be the percentage of total campaign expenditure accounted for by CandidateA. "
   ]
  },
  {
   "cell_type": "markdown",
   "metadata": {},
   "source": [
    "We can estimate a simple regression model to find out whether spending more relative to one's challenger implies a higher percentage of the vote. Thus we entertain a model of the form."
   ]
  },
  {
   "cell_type": "markdown",
   "metadata": {},
   "source": [
    "\\begin{equation}\n",
    "voteA=\\beta_0 + \\beta_1 * shareA +u\n",
    "\\end{equation}"
   ]
  },
  {
   "cell_type": "code",
   "execution_count": 9,
   "metadata": {},
   "outputs": [
    {
     "data": {
      "text/plain": [
       "\n",
       "Call:\n",
       "lm(formula = voteA ~ shareA, data = vote1)\n",
       "\n",
       "Coefficients:\n",
       "(Intercept)       shareA  \n",
       "    26.8125       0.4638  \n"
      ]
     },
     "metadata": {},
     "output_type": "display_data"
    },
    {
     "data": {
      "image/png": "[encoded data removed]",
      "text/plain": [
       "plot without title"
      ]
     },
     "metadata": {},
     "output_type": "display_data"
    }
   ],
   "source": [
    "require(foreign)\n",
    "vote1<-read.dta(\"https://github.com/thousandoaks/Wooldridge/blob/master/vote1.dta?raw=true\")\n",
    "\n",
    "# OLS regression (parentheses for immediate output):\n",
    "( VOTEres <- lm(voteA ~ shareA, data=vote1) )\n",
    "\n",
    "# scatter plot with regression line:\n",
    "plot(vote1$shareA, vote1$voteA)\n",
    "abline(VOTEres)"
   ]
  },
  {
   "cell_type": "markdown",
   "metadata": {},
   "source": [
    "This means that if Candidate A's share of spending increases by one percentage point, Candidate A receives almost one-half a percentage point (0.464) more of the total vote."
   ]
  },
  {
   "cell_type": "markdown",
   "metadata": {},
   "source": [
    "## 2-3 Properties of OLS on Any Sample of Data"
   ]
  },
  {
   "cell_type": "markdown",
   "metadata": {},
   "source": [
    "### 2-3a Coefficients, Fitted Values and Residuals"
   ]
  },
  {
   "cell_type": "markdown",
   "metadata": {
    "collapsed": true
   },
   "source": [
    "The object returned by lm contains all relevant information on the regression. "
   ]
  },
  {
   "cell_type": "markdown",
   "metadata": {},
   "source": [
    "### Wooldridge. Example 2.6 CEO Salary and Return on Equity (Option A)"
   ]
  },
  {
   "cell_type": "code",
   "execution_count": 11,
   "metadata": {},
   "outputs": [
    {
     "data": {
      "text/html": [
       "<table>\n",
       "<thead><tr><th></th><th scope=col>roe</th><th scope=col>sal</th><th scope=col>sal.hat</th><th scope=col>u.hat</th></tr></thead>\n",
       "<tbody>\n",
       "\t<tr><th scope=row>1</th><td>14.1       </td><td>1095       </td><td>1224.058   </td><td>-129.058071</td></tr>\n",
       "\t<tr><th scope=row>2</th><td>10.9       </td><td>1001       </td><td>1164.854   </td><td>-163.854261</td></tr>\n",
       "\t<tr><th scope=row>3</th><td>23.5       </td><td>1122       </td><td>1397.969   </td><td>-275.969216</td></tr>\n",
       "\t<tr><th scope=row>4</th><td> 5.9       </td><td> 578       </td><td>1072.348   </td><td>-494.348338</td></tr>\n",
       "\t<tr><th scope=row>5</th><td>13.8       </td><td>1368       </td><td>1218.508   </td><td> 149.492288</td></tr>\n",
       "\t<tr><th scope=row>6</th><td>20.0       </td><td>1145       </td><td>1333.215   </td><td>-188.215063</td></tr>\n",
       "\t<tr><th scope=row>7</th><td>16.4       </td><td>1078       </td><td>1266.611   </td><td>-188.610785</td></tr>\n",
       "\t<tr><th scope=row>8</th><td>16.3       </td><td>1094       </td><td>1264.761   </td><td>-170.760660</td></tr>\n",
       "\t<tr><th scope=row>9</th><td>10.5       </td><td>1237       </td><td>1157.454   </td><td>  79.546207</td></tr>\n",
       "\t<tr><th scope=row>10</th><td>26.3       </td><td> 833       </td><td>1449.773   </td><td>-616.772523</td></tr>\n",
       "\t<tr><th scope=row>11</th><td>25.9       </td><td> 567       </td><td>1442.372   </td><td>-875.372056</td></tr>\n",
       "\t<tr><th scope=row>12</th><td>26.8       </td><td> 933       </td><td>1459.023   </td><td>-526.023116</td></tr>\n",
       "\t<tr><th scope=row>13</th><td>14.8       </td><td>1339       </td><td>1237.009   </td><td> 101.991102</td></tr>\n",
       "\t<tr><th scope=row>14</th><td>22.3       </td><td> 937       </td><td>1375.768   </td><td>-438.767778</td></tr>\n",
       "\t<tr><th scope=row>15</th><td>56.3       </td><td>2011       </td><td>2004.808   </td><td>   6.191886</td></tr>\n",
       "</tbody>\n",
       "</table>\n"
      ],
      "text/latex": [
       "\\begin{tabular}{r|llll}\n",
       "  & roe & sal & sal.hat & u.hat\\\\\n",
       "\\hline\n",
       "\t1 & 14.1        & 1095        & 1224.058    & -129.058071\\\\\n",
       "\t2 & 10.9        & 1001        & 1164.854    & -163.854261\\\\\n",
       "\t3 & 23.5        & 1122        & 1397.969    & -275.969216\\\\\n",
       "\t4 &  5.9        &  578        & 1072.348    & -494.348338\\\\\n",
       "\t5 & 13.8        & 1368        & 1218.508    &  149.492288\\\\\n",
       "\t6 & 20.0        & 1145        & 1333.215    & -188.215063\\\\\n",
       "\t7 & 16.4        & 1078        & 1266.611    & -188.610785\\\\\n",
       "\t8 & 16.3        & 1094        & 1264.761    & -170.760660\\\\\n",
       "\t9 & 10.5        & 1237        & 1157.454    &   79.546207\\\\\n",
       "\t10 & 26.3        &  833        & 1449.773    & -616.772523\\\\\n",
       "\t11 & 25.9        &  567        & 1442.372    & -875.372056\\\\\n",
       "\t12 & 26.8        &  933        & 1459.023    & -526.023116\\\\\n",
       "\t13 & 14.8        & 1339        & 1237.009    &  101.991102\\\\\n",
       "\t14 & 22.3        &  937        & 1375.768    & -438.767778\\\\\n",
       "\t15 & 56.3        & 2011        & 2004.808    &    6.191886\\\\\n",
       "\\end{tabular}\n"
      ],
      "text/markdown": [
       "\n",
       "| <!--/--> | roe | sal | sal.hat | u.hat | \n",
       "|---|---|---|---|---|---|---|---|---|---|---|---|---|---|---|\n",
       "| 1 | 14.1        | 1095        | 1224.058    | -129.058071 | \n",
       "| 2 | 10.9        | 1001        | 1164.854    | -163.854261 | \n",
       "| 3 | 23.5        | 1122        | 1397.969    | -275.969216 | \n",
       "| 4 |  5.9        |  578        | 1072.348    | -494.348338 | \n",
       "| 5 | 13.8        | 1368        | 1218.508    |  149.492288 | \n",
       "| 6 | 20.0        | 1145        | 1333.215    | -188.215063 | \n",
       "| 7 | 16.4        | 1078        | 1266.611    | -188.610785 | \n",
       "| 8 | 16.3        | 1094        | 1264.761    | -170.760660 | \n",
       "| 9 | 10.5        | 1237        | 1157.454    |   79.546207 | \n",
       "| 10 | 26.3        |  833        | 1449.773    | -616.772523 | \n",
       "| 11 | 25.9        |  567        | 1442.372    | -875.372056 | \n",
       "| 12 | 26.8        |  933        | 1459.023    | -526.023116 | \n",
       "| 13 | 14.8        | 1339        | 1237.009    |  101.991102 | \n",
       "| 14 | 22.3        |  937        | 1375.768    | -438.767778 | \n",
       "| 15 | 56.3        | 2011        | 2004.808    |    6.191886 | \n",
       "\n",
       "\n"
      ],
      "text/plain": [
       "   roe  sal  sal.hat  u.hat      \n",
       "1  14.1 1095 1224.058 -129.058071\n",
       "2  10.9 1001 1164.854 -163.854261\n",
       "3  23.5 1122 1397.969 -275.969216\n",
       "4   5.9  578 1072.348 -494.348338\n",
       "5  13.8 1368 1218.508  149.492288\n",
       "6  20.0 1145 1333.215 -188.215063\n",
       "7  16.4 1078 1266.611 -188.610785\n",
       "8  16.3 1094 1264.761 -170.760660\n",
       "9  10.5 1237 1157.454   79.546207\n",
       "10 26.3  833 1449.773 -616.772523\n",
       "11 25.9  567 1442.372 -875.372056\n",
       "12 26.8  933 1459.023 -526.023116\n",
       "13 14.8 1339 1237.009  101.991102\n",
       "14 22.3  937 1375.768 -438.767778\n",
       "15 56.3 2011 2004.808    6.191886"
      ]
     },
     "metadata": {},
     "output_type": "display_data"
    }
   ],
   "source": [
    "require(foreign)\n",
    "ceosal1<-read.dta(\"https://github.com/thousandoaks/Wooldridge/blob/master/ceosal1.dta?raw=true\")\n",
    "\n",
    "# extract variables as vectors:\n",
    "sal <- ceosal1$salary\n",
    "roe <- ceosal1$roe\n",
    "\n",
    "# regression with vectors:\n",
    "CEOregres <- lm( sal ~ roe  )\n",
    "\n",
    "# obtain predicted values and residuals\n",
    "sal.hat <- fitted(CEOregres)\n",
    "u.hat <- resid(CEOregres)\n",
    "\n",
    "# Wooldridge, Table 2.2: \n",
    "cbind(roe, sal, sal.hat, u.hat)[1:15,]\n"
   ]
  },
  {
   "cell_type": "markdown",
   "metadata": {},
   "source": [
    "### Wooldridge. Example 2.6 CEO Salary and Return on Equity (Option B)"
   ]
  },
  {
   "cell_type": "code",
   "execution_count": 12,
   "metadata": {},
   "outputs": [
    {
     "data": {
      "text/html": [
       "<ol class=list-inline>\n",
       "\t<li>'coefficients'</li>\n",
       "\t<li>'residuals'</li>\n",
       "\t<li>'effects'</li>\n",
       "\t<li>'rank'</li>\n",
       "\t<li>'fitted.values'</li>\n",
       "\t<li>'assign'</li>\n",
       "\t<li>'qr'</li>\n",
       "\t<li>'df.residual'</li>\n",
       "\t<li>'xlevels'</li>\n",
       "\t<li>'call'</li>\n",
       "\t<li>'terms'</li>\n",
       "\t<li>'model'</li>\n",
       "</ol>\n"
      ],
      "text/latex": [
       "\\begin{enumerate*}\n",
       "\\item 'coefficients'\n",
       "\\item 'residuals'\n",
       "\\item 'effects'\n",
       "\\item 'rank'\n",
       "\\item 'fitted.values'\n",
       "\\item 'assign'\n",
       "\\item 'qr'\n",
       "\\item 'df.residual'\n",
       "\\item 'xlevels'\n",
       "\\item 'call'\n",
       "\\item 'terms'\n",
       "\\item 'model'\n",
       "\\end{enumerate*}\n"
      ],
      "text/markdown": [
       "1. 'coefficients'\n",
       "2. 'residuals'\n",
       "3. 'effects'\n",
       "4. 'rank'\n",
       "5. 'fitted.values'\n",
       "6. 'assign'\n",
       "7. 'qr'\n",
       "8. 'df.residual'\n",
       "9. 'xlevels'\n",
       "10. 'call'\n",
       "11. 'terms'\n",
       "12. 'model'\n",
       "\n",
       "\n"
      ],
      "text/plain": [
       " [1] \"coefficients\"  \"residuals\"     \"effects\"       \"rank\"         \n",
       " [5] \"fitted.values\" \"assign\"        \"qr\"            \"df.residual\"  \n",
       " [9] \"xlevels\"       \"call\"          \"terms\"         \"model\"        "
      ]
     },
     "metadata": {},
     "output_type": "display_data"
    }
   ],
   "source": [
    "names(CEOregres)"
   ]
  },
  {
   "cell_type": "code",
   "execution_count": 13,
   "metadata": {},
   "outputs": [
    {
     "data": {
      "text/html": [
       "<table>\n",
       "<thead><tr><th></th><th scope=col>roe</th><th scope=col>sal</th><th scope=col>sal.hat</th><th scope=col>u.hat</th></tr></thead>\n",
       "<tbody>\n",
       "\t<tr><th scope=row>1</th><td>14.1       </td><td>1095       </td><td>1224.058   </td><td>-129.058071</td></tr>\n",
       "\t<tr><th scope=row>2</th><td>10.9       </td><td>1001       </td><td>1164.854   </td><td>-163.854261</td></tr>\n",
       "\t<tr><th scope=row>3</th><td>23.5       </td><td>1122       </td><td>1397.969   </td><td>-275.969216</td></tr>\n",
       "\t<tr><th scope=row>4</th><td> 5.9       </td><td> 578       </td><td>1072.348   </td><td>-494.348338</td></tr>\n",
       "\t<tr><th scope=row>5</th><td>13.8       </td><td>1368       </td><td>1218.508   </td><td> 149.492288</td></tr>\n",
       "\t<tr><th scope=row>6</th><td>20.0       </td><td>1145       </td><td>1333.215   </td><td>-188.215063</td></tr>\n",
       "\t<tr><th scope=row>7</th><td>16.4       </td><td>1078       </td><td>1266.611   </td><td>-188.610785</td></tr>\n",
       "\t<tr><th scope=row>8</th><td>16.3       </td><td>1094       </td><td>1264.761   </td><td>-170.760660</td></tr>\n",
       "\t<tr><th scope=row>9</th><td>10.5       </td><td>1237       </td><td>1157.454   </td><td>  79.546207</td></tr>\n",
       "\t<tr><th scope=row>10</th><td>26.3       </td><td> 833       </td><td>1449.773   </td><td>-616.772523</td></tr>\n",
       "\t<tr><th scope=row>11</th><td>25.9       </td><td> 567       </td><td>1442.372   </td><td>-875.372056</td></tr>\n",
       "\t<tr><th scope=row>12</th><td>26.8       </td><td> 933       </td><td>1459.023   </td><td>-526.023116</td></tr>\n",
       "\t<tr><th scope=row>13</th><td>14.8       </td><td>1339       </td><td>1237.009   </td><td> 101.991102</td></tr>\n",
       "\t<tr><th scope=row>14</th><td>22.3       </td><td> 937       </td><td>1375.768   </td><td>-438.767778</td></tr>\n",
       "\t<tr><th scope=row>15</th><td>56.3       </td><td>2011       </td><td>2004.808   </td><td>   6.191886</td></tr>\n",
       "</tbody>\n",
       "</table>\n"
      ],
      "text/latex": [
       "\\begin{tabular}{r|llll}\n",
       "  & roe & sal & sal.hat & u.hat\\\\\n",
       "\\hline\n",
       "\t1 & 14.1        & 1095        & 1224.058    & -129.058071\\\\\n",
       "\t2 & 10.9        & 1001        & 1164.854    & -163.854261\\\\\n",
       "\t3 & 23.5        & 1122        & 1397.969    & -275.969216\\\\\n",
       "\t4 &  5.9        &  578        & 1072.348    & -494.348338\\\\\n",
       "\t5 & 13.8        & 1368        & 1218.508    &  149.492288\\\\\n",
       "\t6 & 20.0        & 1145        & 1333.215    & -188.215063\\\\\n",
       "\t7 & 16.4        & 1078        & 1266.611    & -188.610785\\\\\n",
       "\t8 & 16.3        & 1094        & 1264.761    & -170.760660\\\\\n",
       "\t9 & 10.5        & 1237        & 1157.454    &   79.546207\\\\\n",
       "\t10 & 26.3        &  833        & 1449.773    & -616.772523\\\\\n",
       "\t11 & 25.9        &  567        & 1442.372    & -875.372056\\\\\n",
       "\t12 & 26.8        &  933        & 1459.023    & -526.023116\\\\\n",
       "\t13 & 14.8        & 1339        & 1237.009    &  101.991102\\\\\n",
       "\t14 & 22.3        &  937        & 1375.768    & -438.767778\\\\\n",
       "\t15 & 56.3        & 2011        & 2004.808    &    6.191886\\\\\n",
       "\\end{tabular}\n"
      ],
      "text/markdown": [
       "\n",
       "| <!--/--> | roe | sal | sal.hat | u.hat | \n",
       "|---|---|---|---|---|---|---|---|---|---|---|---|---|---|---|\n",
       "| 1 | 14.1        | 1095        | 1224.058    | -129.058071 | \n",
       "| 2 | 10.9        | 1001        | 1164.854    | -163.854261 | \n",
       "| 3 | 23.5        | 1122        | 1397.969    | -275.969216 | \n",
       "| 4 |  5.9        |  578        | 1072.348    | -494.348338 | \n",
       "| 5 | 13.8        | 1368        | 1218.508    |  149.492288 | \n",
       "| 6 | 20.0        | 1145        | 1333.215    | -188.215063 | \n",
       "| 7 | 16.4        | 1078        | 1266.611    | -188.610785 | \n",
       "| 8 | 16.3        | 1094        | 1264.761    | -170.760660 | \n",
       "| 9 | 10.5        | 1237        | 1157.454    |   79.546207 | \n",
       "| 10 | 26.3        |  833        | 1449.773    | -616.772523 | \n",
       "| 11 | 25.9        |  567        | 1442.372    | -875.372056 | \n",
       "| 12 | 26.8        |  933        | 1459.023    | -526.023116 | \n",
       "| 13 | 14.8        | 1339        | 1237.009    |  101.991102 | \n",
       "| 14 | 22.3        |  937        | 1375.768    | -438.767778 | \n",
       "| 15 | 56.3        | 2011        | 2004.808    |    6.191886 | \n",
       "\n",
       "\n"
      ],
      "text/plain": [
       "   roe  sal  sal.hat  u.hat      \n",
       "1  14.1 1095 1224.058 -129.058071\n",
       "2  10.9 1001 1164.854 -163.854261\n",
       "3  23.5 1122 1397.969 -275.969216\n",
       "4   5.9  578 1072.348 -494.348338\n",
       "5  13.8 1368 1218.508  149.492288\n",
       "6  20.0 1145 1333.215 -188.215063\n",
       "7  16.4 1078 1266.611 -188.610785\n",
       "8  16.3 1094 1264.761 -170.760660\n",
       "9  10.5 1237 1157.454   79.546207\n",
       "10 26.3  833 1449.773 -616.772523\n",
       "11 25.9  567 1442.372 -875.372056\n",
       "12 26.8  933 1459.023 -526.023116\n",
       "13 14.8 1339 1237.009  101.991102\n",
       "14 22.3  937 1375.768 -438.767778\n",
       "15 56.3 2011 2004.808    6.191886"
      ]
     },
     "metadata": {},
     "output_type": "display_data"
    }
   ],
   "source": [
    "require(foreign)\n",
    "ceosal1<-read.dta(\"https://github.com/thousandoaks/Wooldridge/blob/master/ceosal1.dta?raw=true\")\n",
    "\n",
    "# extract variables as vectors:\n",
    "sal <- ceosal1$salary\n",
    "roe <- ceosal1$roe\n",
    "\n",
    "# regression with vectors:\n",
    "CEOregres <- lm( sal ~ roe  )\n",
    "\n",
    "# obtain predicted values and residuals\n",
    "sal.hat <- CEOregres$fitted.values\n",
    "u.hat <- CEOregres$residuals\n",
    "\n",
    "# Wooldridge, Table 2.2: \n",
    "cbind(roe, sal, sal.hat, u.hat)[1:15,]\n"
   ]
  },
  {
   "cell_type": "code",
   "execution_count": null,
   "metadata": {
    "collapsed": true
   },
   "outputs": [],
   "source": []
  },
  {
   "cell_type": "markdown",
   "metadata": {},
   "source": [
    "### 2-3b Algebraic properties of OLS statistics"
   ]
  },
  {
   "cell_type": "markdown",
   "metadata": {
    "collapsed": true
   },
   "source": [
    "Writing each Y_i as its fitted value, plus its residual, provides another way to interpret an OLS regression. For each i, write"
   ]
  },
  {
   "cell_type": "markdown",
   "metadata": {},
   "source": [
    "\\begin{equation}\n",
    "y_i=\\hat{y_i}+\\hat{u_i}\n",
    "\\end{equation}"
   ]
  },
  {
   "cell_type": "markdown",
   "metadata": {
    "collapsed": true
   },
   "source": [
    "Thus we can view OLS as decomposing each Yi into two parts, a fitted valueand a residual. The fitted values and residuals are uncorrelated in the sample."
   ]
  },
  {
   "cell_type": "markdown",
   "metadata": {
    "collapsed": true
   },
   "source": [
    "Wooldridge defines the total sum of squares (SST),the explained sum of squares (SSE), and the residual sum of squares (SSR) as follows:"
   ]
  },
  {
   "cell_type": "markdown",
   "metadata": {},
   "source": [
    "\\begin{equation}\n",
    "\\tag{2.33}\n",
    "SST=\\sum_{i=1}^n (y_i-\\vec{i})^2\n",
    "\\end{equation}"
   ]
  },
  {
   "cell_type": "markdown",
   "metadata": {},
   "source": [
    "\\begin{equation}\n",
    "\\tag{2.34}\n",
    "SSE=\\sum_{i=1}^n (\\hat{y_i}-\\vec{y_i})^2\n",
    "\\end{equation}"
   ]
  },
  {
   "cell_type": "markdown",
   "metadata": {},
   "source": [
    "\\begin{equation}\n",
    "\\tag{2.35}\n",
    "SSR=\\sum_{i=1}^n \\hat{u_i}^2\n",
    "\\end{equation}"
   ]
  },
  {
   "cell_type": "markdown",
   "metadata": {},
   "source": [
    "SST is a measure of the total sample variation in the Yi, this is, a measure of how spread out the Yi are in the sample. Similarly SSE measures the sample variation in the Yhati, and SSR measures the sample variation in the uhati. The total variation in y can always be expressed as the sum of the explained variation and the unexplained variation SSR, Thus,"
   ]
  },
  {
   "cell_type": "markdown",
   "metadata": {},
   "source": [
    "\\begin{equation}\n",
    "\\tag{2.36}\n",
    "SST= SSE+ SSR\n",
    "\\end{equation}"
   ]
  },
  {
   "cell_type": "code",
   "execution_count": null,
   "metadata": {
    "collapsed": true
   },
   "outputs": [],
   "source": []
  },
  {
   "cell_type": "markdown",
   "metadata": {},
   "source": [
    "### 2-3c Goodness-of-Fit"
   ]
  },
  {
   "cell_type": "markdown",
   "metadata": {
    "collapsed": true
   },
   "source": [
    "So far, we have no way of measuring how well the explanatory or independent variable, x, explains the dependent variable, y. "
   ]
  },
  {
   "cell_type": "markdown",
   "metadata": {},
   "source": [
    "Assuming that the total sum of squares, SST, is not equal to zero we can divide (2.36) by SST to get 1=SSE/SST+SSR/SST. The R-squared of the regression, sometimes called the coefficient of determination, is defined as"
   ]
  },
  {
   "cell_type": "markdown",
   "metadata": {},
   "source": [
    "\\begin{equation}\n",
    "\\tag{2.38}\n",
    "R^2:= SSE/SST = 1-SSR/SST = 1- \\frac{Var(\\hat{u})}{Var(y)}\n",
    "\\end{equation}"
   ]
  },
  {
   "cell_type": "markdown",
   "metadata": {},
   "source": [
    "R^2 is the ratio of the explained variation compared to the total variation. Thus it is interpreted as the fraction of the sample variation in y that is explained by x. "
   ]
  },
  {
   "cell_type": "markdown",
   "metadata": {},
   "source": [
    "If the data points all lie on the same line, OLS provides a perfect fit to the data. In this case, R^2=1. A value of R^2 that is nearly equal to zero indicates a poor fit of the OLS line: very little of the variation in the Yi is captured by the variation in the yHATi (which all lie on the OLS regression line)."
   ]
  },
  {
   "cell_type": "markdown",
   "metadata": {},
   "source": [
    "### Wooldridge. Example 2.8 CEO Salary and Return on Equity"
   ]
  },
  {
   "cell_type": "code",
   "execution_count": 18,
   "metadata": {},
   "outputs": [
    {
     "name": "stdout",
     "output_type": "stream",
     "text": [
      "R^2 (1st option): 0.01318862\n",
      "R^2 (2nd option): 0.01318862\n",
      "R^2 (2nd option): 0.01318862"
     ]
    }
   ],
   "source": [
    "library(foreign)\n",
    "ceosal1<-read.dta(\"https://github.com/thousandoaks/Wooldridge/blob/master/ceosal1.dta?raw=true\")\n",
    "\n",
    "CEOregres <- lm( salary ~ roe, data=ceosal1 )\n",
    "\n",
    "# Calculate predicted values & residuals:\n",
    "sal.hat <- fitted(CEOregres)\n",
    "u.hat <- resid(CEOregres)\n",
    "\n",
    "# Calculate R^2 in three different ways:\n",
    "sal <- ceosal1$salary\n",
    "cat(\"R^2 (1st option):\",var(sal.hat) / var(sal))\n",
    "cat(\"\\nR^2 (2nd option):\",1 - var(u.hat) / var(sal))\n",
    "cat(\"\\nR^2 (2nd option):\",cor(sal, sal.hat)^2)"
   ]
  },
  {
   "cell_type": "code",
   "execution_count": 19,
   "metadata": {
    "collapsed": true
   },
   "outputs": [],
   "source": [
    "### Wooldridge. Example 2.9 Voting Outcomes and Campaign Expenditures"
   ]
  },
  {
   "cell_type": "code",
   "execution_count": 20,
   "metadata": {},
   "outputs": [
    {
     "data": {
      "text/plain": [
       "\n",
       "Call:\n",
       "lm(formula = voteA ~ shareA, data = vote1)\n",
       "\n",
       "Residuals:\n",
       "     Min       1Q   Median       3Q      Max \n",
       "-16.8924  -4.0649  -0.1697   3.4972  29.9759 \n",
       "\n",
       "Coefficients:\n",
       "            Estimate Std. Error t value Pr(>|t|)    \n",
       "(Intercept) 26.81254    0.88719   30.22   <2e-16 ***\n",
       "shareA       0.46382    0.01454   31.90   <2e-16 ***\n",
       "---\n",
       "Signif. codes:  0 '***' 0.001 '**' 0.01 '*' 0.05 '.' 0.1 ' ' 1\n",
       "\n",
       "Residual standard error: 6.385 on 171 degrees of freedom\n",
       "Multiple R-squared:  0.8561,\tAdjusted R-squared:  0.8553 \n",
       "F-statistic:  1018 on 1 and 171 DF,  p-value: < 2.2e-16\n"
      ]
     },
     "metadata": {},
     "output_type": "display_data"
    }
   ],
   "source": [
    "library(foreign)\n",
    "vote1 <- read.dta(\"https://github.com/thousandoaks/Wooldridge/blob/master/vote1.dta?raw=true\")\n",
    "\n",
    "VOTEres <- lm(voteA ~ shareA, data=vote1)\n",
    "\n",
    "# Summary of the regression results\n",
    "summary(VOTEres)\n",
    "\n"
   ]
  },
  {
   "cell_type": "markdown",
   "metadata": {},
   "source": [
    "In the previous example R^2= 0.856. Thus the share of campaign expenditures explains over 85% of the variation in the election outcomes for this sample."
   ]
  },
  {
   "cell_type": "markdown",
   "metadata": {},
   "source": [
    "## 2-4 Nonlinearities in Simple Regression"
   ]
  },
  {
   "cell_type": "markdown",
   "metadata": {},
   "source": [
    "So far we have focused on linear relationships between the dependent and independent variables. However linear relationships are not nearly general enough for all economic applications. Fortunately it is relatively easy to incorporate many nonlinearities into simple regression analysis"
   ]
  },
  {
   "cell_type": "markdown",
   "metadata": {},
   "source": [
    "Recall the wage education example, where we regressed hourly wage on years of education. We obtain a slope estimation of 0.54, which means that each additional year of education is predicted to increase hourly wage by 54 cents. Because of the linear nature of the equation (2.27) 54 cents is the increase for either the first year of education or the twentieth year, this may not be reasonable."
   ]
  },
  {
   "cell_type": "markdown",
   "metadata": {},
   "source": [
    "Probably a better characterization of how wages changes with education is that each year of education increases wages by a constant percentage. For example an increase in education from 5 years to 6 years increases wages by, say, 8% (ceteris paribus), and an increase in education from 11 to 12 years also increases wages by 8%. A model that gives (approximately) a constant percentage effect is"
   ]
  },
  {
   "cell_type": "markdown",
   "metadata": {},
   "source": [
    "\\begin{equation}\n",
    "\\tag{2.42}\n",
    "log(wage)=\\beta_0 + \\beta_1 * educ +u\n",
    "\\end{equation}"
   ]
  },
  {
   "cell_type": "markdown",
   "metadata": {},
   "source": [
    "### Wooldridge. Example 2.10  A Log Wage Equation"
   ]
  },
  {
   "cell_type": "markdown",
   "metadata": {
    "collapsed": true
   },
   "source": [
    "Using the same data as in example 2.4 but using log(wage) as the dependent variable, we obtain the following relationship:"
   ]
  },
  {
   "cell_type": "code",
   "execution_count": 22,
   "metadata": {},
   "outputs": [
    {
     "data": {
      "text/plain": [
       "\n",
       "Call:\n",
       "lm(formula = log(wage) ~ educ, data = wage1)\n",
       "\n",
       "Coefficients:\n",
       "(Intercept)         educ  \n",
       "    0.58377      0.08274  \n"
      ]
     },
     "metadata": {},
     "output_type": "display_data"
    }
   ],
   "source": [
    "require(foreign)\n",
    "wage1 <- read.dta(\"https://github.com/thousandoaks/Wooldridge/blob/master/wage1.dta?raw=true\")\n",
    "\n",
    "# Estimate log-level model\n",
    "lm( log(wage) ~ educ, data=wage1 )"
   ]
  },
  {
   "cell_type": "markdown",
   "metadata": {},
   "source": [
    "\\begin{equation}\n",
    "\\tag{2.44}\n",
    "log(wage)=0.584 + 0.083 * educ +u\n",
    "\\end{equation}"
   ]
  },
  {
   "cell_type": "markdown",
   "metadata": {},
   "source": [
    "From the above we see that wage increases by 8.3% for every additional year of education. This is what economists mean when they refer to \"return to another year of education\""
   ]
  },
  {
   "cell_type": "markdown",
   "metadata": {
    "collapsed": true
   },
   "source": [
    "It is important to remember that the main reason for using the log of wage in (2.42) is to impose a constant percentage effect of education on wage."
   ]
  },
  {
   "cell_type": "markdown",
   "metadata": {
    "collapsed": true
   },
   "source": [
    "Finally it is important to note that equation (2.44) might not capture all of the nonlinearity in the relationship between wage and schooling. If there are \"\"diploma effects then the twelfth year of education (graduation from high school) could be worth much more that the eleventh year."
   ]
  },
  {
   "cell_type": "markdown",
   "metadata": {},
   "source": [
    "### Wooldridge. Example 2.11 CEO Salary and Firm Sales"
   ]
  },
  {
   "cell_type": "markdown",
   "metadata": {},
   "source": [
    "We can estimate a constant elasticity model relating CEO salary to firm sales. The data set in the same one used in Example 2.3, except we now relate salary to sales. Let sales be annual firms sales, measures in millions of dollars. A constant elasticity model is "
   ]
  },
  {
   "cell_type": "markdown",
   "metadata": {},
   "source": [
    "\\begin{equation}\n",
    "\\tag{2.45}\n",
    "log(salary)=\\beta_0 + \\beta_1 * log(sales) +u\n",
    "\\end{equation}"
   ]
  },
  {
   "cell_type": "markdown",
   "metadata": {},
   "source": [
    "where &beta;1 is the elasticity of salary with respect to sales. Estimating this equation by OLS gives"
   ]
  },
  {
   "cell_type": "code",
   "execution_count": 24,
   "metadata": {},
   "outputs": [
    {
     "data": {
      "text/plain": [
       "\n",
       "Call:\n",
       "lm(formula = log(salary) ~ log(sales), data = ceosal1)\n",
       "\n",
       "Coefficients:\n",
       "(Intercept)   log(sales)  \n",
       "     4.8220       0.2567  \n"
      ]
     },
     "metadata": {},
     "output_type": "display_data"
    }
   ],
   "source": [
    "require(foreign)\n",
    "ceosal1<-read.dta(\"https://github.com/thousandoaks/Wooldridge/blob/master/ceosal1.dta?raw=true\")\n",
    "\n",
    "# Estimate log-log model\n",
    "lm( log(salary) ~ log(sales), data=ceosal1 )"
   ]
  },
  {
   "cell_type": "code",
   "execution_count": null,
   "metadata": {
    "collapsed": true
   },
   "outputs": [],
   "source": []
  },
  {
   "cell_type": "markdown",
   "metadata": {},
   "source": [
    "The coefficient of log(sales) is the estimated elasticity of salary with respect to sales. It implies that a 1% increase in firm sales increases CEO salary by about 0.257%. This is the usual interpretation of an elasticity"
   ]
  },
  {
   "cell_type": "markdown",
   "metadata": {},
   "source": [
    "## 2-5 Expected Values and Variances of the OLS Estimators"
   ]
  },
  {
   "cell_type": "markdown",
   "metadata": {},
   "source": [
    "We now return to the population model and study the statistical properties of OLS. In other words, we now view B0Hat and B1Hat as estimators of &B0; and &B1; that appear in the population model. This means that we will study properties of the distributions of B0Hat and B1Hat over different random samples from the population."
   ]
  },
  {
   "cell_type": "markdown",
   "metadata": {},
   "source": [
    "### 2-5a Unbiadseness of OLS"
   ]
  },
  {
   "cell_type": "markdown",
   "metadata": {},
   "source": [
    "The unbiadseness of OLS is verified under a set of 4 assumptions."
   ]
  },
  {
   "cell_type": "markdown",
   "metadata": {},
   "source": [
    "### Assumption SLR.1 Linear in parameters"
   ]
  },
  {
   "cell_type": "markdown",
   "metadata": {},
   "source": [
    "In the population model, the dependent variable, y, is related to the independent variable, x, and the error (or disturbance), u, as"
   ]
  },
  {
   "cell_type": "markdown",
   "metadata": {},
   "source": [
    "\\begin{equation}\n",
    "y=\\beta_0+\\beta_1*x+u\n",
    "\\tag{2.47}\n",
    "\\end{equation}"
   ]
  },
  {
   "cell_type": "markdown",
   "metadata": {},
   "source": [
    "### Assumption SLR.2 Random Sampling"
   ]
  },
  {
   "cell_type": "markdown",
   "metadata": {},
   "source": [
    "We have a random sample of size n, {(Xi,Yi):i=1,2,...,n}, following the population model in equation (2.47)"
   ]
  },
  {
   "cell_type": "markdown",
   "metadata": {},
   "source": [
    "Let's note at this point that the random sampling assumption might not always verified, for instance in time series data."
   ]
  },
  {
   "cell_type": "markdown",
   "metadata": {},
   "source": [
    "We can write (2.47) in terms of the random sample as"
   ]
  },
  {
   "cell_type": "markdown",
   "metadata": {},
   "source": [
    "\\begin{equation}\n",
    "y=\\beta_0+\\beta_1*x_i+u_i, i=1,2,...,n\n",
    "\\tag{2.48}\n",
    "\\end{equation}"
   ]
  },
  {
   "cell_type": "markdown",
   "metadata": {},
   "source": [
    "where u_i is the error or disturbance for observation i (for example, person i, firm i, city i, and so on). Thus, ui contains the unobservables for observation i that affect yi. The ui should not be confused with the residuals uHATi"
   ]
  },
  {
   "cell_type": "markdown",
   "metadata": {},
   "source": [
    "### Assumption SLR.3 Sample Variation in the Explanatory Variable"
   ]
  },
  {
   "cell_type": "markdown",
   "metadata": {},
   "source": [
    "The sample outcomes on x, namely, {xi,i=1,...,n} are not all the same value."
   ]
  },
  {
   "cell_type": "markdown",
   "metadata": {},
   "source": [
    "### Assumption SLR.4 Zero Conditional Mean"
   ]
  },
  {
   "cell_type": "markdown",
   "metadata": {},
   "source": [
    "The error u has an expected value of zero given any value of the explanatory variable. In other words"
   ]
  },
  {
   "cell_type": "markdown",
   "metadata": {},
   "source": [
    "\\begin{equation}\n",
    "E(u|x) =0\n",
    "\\end{equation}"
   ]
  },
  {
   "cell_type": "markdown",
   "metadata": {},
   "source": [
    "### Theorem 2.1. Unbiadseness of OLS"
   ]
  },
  {
   "cell_type": "markdown",
   "metadata": {},
   "source": [
    "Using Assumptions SLR.1 through SLR.4,"
   ]
  },
  {
   "cell_type": "markdown",
   "metadata": {},
   "source": [
    "\\begin{equation}\n",
    "E(\\hat{\\beta}_0)=\\beta_0\n",
    ";\n",
    "E(\\hat{\\beta}_1)=\\beta_1\n",
    "\\end{equation}"
   ]
  },
  {
   "cell_type": "markdown",
   "metadata": {},
   "source": [
    "for any values of &Beta;0 and &Beta;1. In other words the estimators BHAT0 and BHAT1 are unbiased for &Beta;0 and &Beta;1"
   ]
  },
  {
   "cell_type": "markdown",
   "metadata": {},
   "source": [
    "### Wooldridge. Example 2.12 Student Math Performance and the School Lunch Program"
   ]
  },
  {
   "cell_type": "markdown",
   "metadata": {},
   "source": [
    "Let math10 denote the percentage of tenth graders at high school receiving a passing score on a standarized mathematics exam. Suppose we wish to estimate the effect of the federally funded school lunch program on student performance. If anything, we expect the lunch programm to have a positive ceteris paribus effect on performance: all other factors being equal, if a student who is too poor to each regular meals becomes eligible for the school lunch program, his or her performance should improve. Let lnchprg denote the percentage of students who are eligible for the lunch program. Then, a simple regression model is"
   ]
  },
  {
   "cell_type": "markdown",
   "metadata": {},
   "source": [
    "\\begin{equation}\n",
    "math10=\\beta_0+\\beta_1*lunchprg+u\n",
    "\\tag{2.54}\n",
    "\\end{equation}"
   ]
  },
  {
   "cell_type": "markdown",
   "metadata": {},
   "source": [
    "where u constains school caracteristics and student characteristics that affect overall school performance. Using the data in MEAP93 on 408 Michigan school for the 1992-1992 school year"
   ]
  },
  {
   "cell_type": "code",
   "execution_count": 25,
   "metadata": {},
   "outputs": [
    {
     "data": {
      "text/plain": [
       "\n",
       "Call:\n",
       "lm(formula = math10 ~ lnchprg, data = meap93)\n",
       "\n",
       "Residuals:\n",
       "    Min      1Q  Median      3Q     Max \n",
       "-24.386  -5.979  -1.207   4.865  45.845 \n",
       "\n",
       "Coefficients:\n",
       "            Estimate Std. Error t value Pr(>|t|)    \n",
       "(Intercept) 32.14271    0.99758  32.221   <2e-16 ***\n",
       "lnchprg     -0.31886    0.03484  -9.152   <2e-16 ***\n",
       "---\n",
       "Signif. codes:  0 '***' 0.001 '**' 0.01 '*' 0.05 '.' 0.1 ' ' 1\n",
       "\n",
       "Residual standard error: 9.566 on 406 degrees of freedom\n",
       "Multiple R-squared:  0.171,\tAdjusted R-squared:  0.169 \n",
       "F-statistic: 83.77 on 1 and 406 DF,  p-value: < 2.2e-16\n"
      ]
     },
     "metadata": {},
     "output_type": "display_data"
    }
   ],
   "source": [
    "library(foreign)\n",
    "meap93<-read.dta(\"https://github.com/thousandoaks/Wooldridge/blob/master/meap93.dta?raw=true\")\n",
    "\n",
    "# Estimate the model and save the results as \"results\"\n",
    "results <- lm(math10 ~ lnchprg, data=meap93)\n",
    "\n",
    "\n",
    "\n",
    "# Automatic calculations:\n",
    "summary(results)"
   ]
  },
  {
   "cell_type": "markdown",
   "metadata": {},
   "source": [
    "\\begin{equation}\n",
    "\\hat{math10}=32.14-0.319*lunchprg\n",
    "\\\\\n",
    "R^2=0.171\n",
    "\\end{equation}"
   ]
  },
  {
   "cell_type": "markdown",
   "metadata": {},
   "source": [
    "This equation predict that if student eligibility in the lunch program increases by 10 percentage points, the percentage of students passing the math exam falls by about 3.2 percentage points. Do we really believe that higher participation in the lunch program actually causes worse performance ? Almost certainly not."
   ]
  },
  {
   "cell_type": "markdown",
   "metadata": {},
   "source": [
    "A better explanation is that the error term u in equation (2.54) is correlated with lunchprg. In fact, u contains factors such as the poverty rate of children attending school, which affects student performance and is highly correlated with eligibility in the lunch program. Variables such as school quality and resources are also contained in u, and these are likely correlated with lunchprg."
   ]
  },
  {
   "cell_type": "markdown",
   "metadata": {},
   "source": [
    "### 2-5b Variances of the OLS Estimators"
   ]
  },
  {
   "cell_type": "markdown",
   "metadata": {},
   "source": [
    "In addition to knowing that the sampling distribution of &beta1HAT is centered about &beta1;, it is important to know how far we can expect &beta1;HAT to be away from &beta1; on average. "
   ]
  },
  {
   "cell_type": "markdown",
   "metadata": {},
   "source": [
    "The homoskedasticity of \"constant variance\" assumption provides a simple approach to compute the variance of the estimators"
   ]
  },
  {
   "cell_type": "markdown",
   "metadata": {},
   "source": [
    "### Assumption SLR.5 Homoskedasticity"
   ]
  },
  {
   "cell_type": "markdown",
   "metadata": {},
   "source": [
    "The error u has the same variance given any value of the explanatory variable. In other words,"
   ]
  },
  {
   "cell_type": "markdown",
   "metadata": {},
   "source": [
    "\\begin{equation}\n",
    "Var(u|x) = \\sigma^2\n",
    "\\end{equation}"
   ]
  },
  {
   "cell_type": "markdown",
   "metadata": {},
   "source": [
    "&sigma;^2 is the unconditional variance of u and so it is often called the error variance or disturbance variance."
   ]
  },
  {
   "cell_type": "markdown",
   "metadata": {},
   "source": [
    "### Theorem 2.2 Sampling Variances of the OLS Estimators"
   ]
  },
  {
   "cell_type": "markdown",
   "metadata": {},
   "source": [
    "Under Assumptions SLR1 through SLR.5"
   ]
  },
  {
   "cell_type": "markdown",
   "metadata": {},
   "source": [
    "\\begin{equation}\n",
    "Var(\\hat{\\beta_1}) = \\frac{\\sigma^2}{\\sum_{i=1}^n (x_i-\\vec{x})^2}=\\sigma^2/SST_x\n",
    "\\tag{2.57}\n",
    "\\end{equation}\n",
    "\\begin{equation}\n",
    "Var(\\hat{\\beta_0}) = \\frac{\\sigma^2*n^{-1}\\sum_{i=1}^nx_i^2 }{\\sum_{i=1}^n (x_i-\\vec{x})^2}\n",
    "\\tag{2.58}\n",
    "\\end{equation}"
   ]
  },
  {
   "cell_type": "markdown",
   "metadata": {},
   "source": [
    "Equations (2.57) and (2.58) are the \"standard\" formulas for simple regression analysis, which are invalid in the presence of heteroskedasticity. "
   ]
  },
  {
   "cell_type": "markdown",
   "metadata": {},
   "source": [
    "### 2-5c Estimating the Error Variance"
   ]
  },
  {
   "cell_type": "markdown",
   "metadata": {},
   "source": [
    "The formulas in (2.57) and (2.58) allow us to isolate the factors that contribute to Var(&beta;1HAT) and Var(&beta0;HAT). But these formulas are unknown, except in the extremely rare case that &sigma;^2 is known. Nevertheless we can use data to estimate &sigma;^2"
   ]
  },
  {
   "cell_type": "markdown",
   "metadata": {},
   "source": [
    "An unbiased estimator of &simga;^2 is:"
   ]
  },
  {
   "cell_type": "markdown",
   "metadata": {},
   "source": [
    "\\begin{equation}\n",
    "\\hat{\\sigma^2}=\\frac{a}{(n-2)}\\sum_{i=1}^nu_i^2=SSR/(n-2)\n",
    "\\tag{2.61}\n",
    "\\end{equation}"
   ]
  },
  {
   "cell_type": "markdown",
   "metadata": {},
   "source": [
    "refer to Wooldridge 2016 page 49 for more details "
   ]
  },
  {
   "cell_type": "markdown",
   "metadata": {},
   "source": [
    "### Theorem 2.3. Unbiased Estimation of &sigma;^2"
   ]
  },
  {
   "cell_type": "markdown",
   "metadata": {},
   "source": [
    "Under Assumptions SLR.1 through SLR.5"
   ]
  },
  {
   "cell_type": "markdown",
   "metadata": {},
   "source": [
    "\\begin{equation}\n",
    "E(\\hat{\\sigma}^2)=\\sigma^2\n",
    "\\end{equation}"
   ]
  },
  {
   "cell_type": "markdown",
   "metadata": {},
   "source": [
    "Theorem 2.3 states that, under assumptions SLR1 trough SLR5, If &sigma;^2 HAT is plugged into the variance formulas (2.57) and (2.58), then we have unbiased estimators of Var(&beta;1HAT) and Var(&beta;0HAT)"
   ]
  },
  {
   "cell_type": "markdown",
   "metadata": {
    "collapsed": true
   },
   "source": [
    "A natural estimator of &sigma; is "
   ]
  },
  {
   "cell_type": "markdown",
   "metadata": {},
   "source": [
    "\\begin{equation}\n",
    "\\hat{\\sigma}=\\sqrt{\\hat{\\sigma}^2}\n",
    "\\tag{2.62}\n",
    "\\end{equation}"
   ]
  },
  {
   "cell_type": "markdown",
   "metadata": {},
   "source": [
    "and is called the standard error of the regression (SER). Other names are the standard error of the estimate and the root mean squared error. Although &sigma;HAT is not an umbiased estimator of &sigma; it is a consistent estimator of &sigma;"
   ]
  },
  {
   "cell_type": "markdown",
   "metadata": {},
   "source": [
    "a natural estimator of the standard deviation of &beta;1 HAT is"
   ]
  },
  {
   "cell_type": "markdown",
   "metadata": {},
   "source": [
    "\\begin{equation}\n",
    "se(\\hat{\\beta}_1)=\\hat{\\sigma}/\\sqrt{SST_x}=\\hat{\\sigma}/(\\sum_{i=1}^n(x_i-\\vec{x})^2)^{1/2}\n",
    "\\end{equation}"
   ]
  },
  {
   "cell_type": "markdown",
   "metadata": {},
   "source": [
    "this is called the standard error of &beta;1HAT. Similarly, se(&beta;0 HAT) is obtained from sd(&beta;0 HAT) by replacing &sigma; with &sigma;HAT. Standard errors play a central role in econometrics as they are used to construct test statistics and confidence intervals\n"
   ]
  },
  {
   "cell_type": "markdown",
   "metadata": {},
   "source": [
    "## 2-7 Violation of Assumptions SLR.1-SLR.5"
   ]
  },
  {
   "cell_type": "markdown",
   "metadata": {},
   "source": [
    "Lets start first with an analysis of the performance of OLS under assumptions SLR.1 through SLR.5. We simulate a sample of size n=1000 with population parameters &beta;0=1 and &beta;1=0.5. We set the standard deviation of the error term tu to &sigma;=2"
   ]
  },
  {
   "cell_type": "code",
   "execution_count": 27,
   "metadata": {},
   "outputs": [
    {
     "data": {
      "text/plain": [
       "\n",
       "Call:\n",
       "lm(formula = y ~ x)\n",
       "\n",
       "Coefficients:\n",
       "(Intercept)            x  \n",
       "     1.2092       0.4384  \n"
      ]
     },
     "metadata": {},
     "output_type": "display_data"
    }
   ],
   "source": [
    "# Set the random seed\n",
    "set.seed(1234567)\n",
    "\n",
    "# set sample size\n",
    "n<-1000\n",
    "\n",
    "# set true parameters: betas and sd of u\n",
    "b0<-1; b1<-0.5; su<-2\n",
    "\n",
    "# Draw a sample of size n:\n",
    "x <- rnorm(n,4,1)\n",
    "u <- rnorm(n,0,su)\n",
    "y <- b0 + b1*x + u\n",
    "\n",
    "# estimate parameters by OLS\n",
    "(olsres <- lm(y~x))\n",
    "\n",
    "# features of the sample for the variance formula:\n",
    "#mean(x^2)\n",
    "#sum((x-mean(x))^2)\n",
    "\n"
   ]
  },
  {
   "cell_type": "markdown",
   "metadata": {},
   "source": [
    "The previous results reveal that OLS works reasonably well in estimating the true values &beta;0=1 and &beta;1=0.5 with &beta;0HAT=1.2 and &beta;1HAT=0.43"
   ]
  },
  {
   "cell_type": "markdown",
   "metadata": {
    "collapsed": true
   },
   "source": [
    "Theorem 2.2. of Wooldridge (2016) states the sampling variance of the estimators conditional on the sample values {x1,..,xn}. Using equations (2.57) and (2.58)"
   ]
  },
  {
   "cell_type": "markdown",
   "metadata": {},
   "source": [
    "\\begin{equation}\n",
    "Var(\\hat{\\beta_1}) = \\frac{\\sigma^2}{\\sum_{i=1}^n (x_i-\\vec{x})^2}=\\frac{4}{990.41}=0.0040\n",
    "\\end{equation}\n",
    "\\begin{equation}\n",
    "Var(\\hat{\\beta_0}) = \\frac{\\sigma^2*n^{-1}\\sum_{i=1}^nx_i^2 }{\\sum_{i=1}^n (x_i-\\vec{x})^2}=\\frac{4*16.996}{990.41}=0.0685\n",
    "\\end{equation}"
   ]
  },
  {
   "cell_type": "markdown",
   "metadata": {},
   "source": [
    "According to Wooldridge 2016 the standard error of &beta;1 HAT is SQRT(0.004)=0.063 so getting and estimate of &beta;1HAT=0.438 for one sample doesn't seem unreasonable given that &beta;1=0.5. The following figure shows the real regression on the population sample and the one computed via OLS."
   ]
  },
  {
   "cell_type": "code",
   "execution_count": 29,
   "metadata": {},
   "outputs": [
    {
     "data": {
      "image/png": "[encoded data removed]",
      "text/plain": [
       "plot without title"
      ]
     },
     "metadata": {},
     "output_type": "display_data"
    }
   ],
   "source": [
    "# Graph\n",
    "plot(x, y, col=\"gray\", xlim=c(0,8) )\n",
    "abline(b0,b1,lwd=2)\n",
    "abline(olsres,col=\"gray\",lwd=2)\n",
    "legend(\"topleft\",c(\"pop. regr. fct.\",\"OLS regr. fct.\"),\n",
    "                               lwd=2,col=c(\"black\",\"gray\"))"
   ]
  },
  {
   "cell_type": "markdown",
   "metadata": {
    "collapsed": true
   },
   "source": [
    "Since the expected values and variances of our estimates are defined over separate random samples from the same population, it might make sense to repeat the same simulation over many simulates examples."
   ]
  },
  {
   "cell_type": "code",
   "execution_count": 30,
   "metadata": {
    "collapsed": true
   },
   "outputs": [],
   "source": [
    "# Set the random seed\n",
    "set.seed(1234567)\n",
    "\n",
    "# set sample size and number of simulations\n",
    "n<-1000; r<-10000\n",
    "\n",
    "# set true parameters: betas and sd of u\n",
    "b0<-1; b1<-0.5; su<-2\n",
    "\n",
    "# initialize b0hat and b1hat to store results later:\n",
    "b0hat <- numeric(r)\n",
    "b1hat <- numeric(r)\n",
    "\n",
    "# Draw a sample of x, fixed over replications:\n",
    "x <- rnorm(n,4,1)\n",
    "\n",
    "# repeat r times:\n",
    "for(j in 1:r) {\n",
    "  # Draw a sample of y:\n",
    "  u <- rnorm(n,0,su)\n",
    "  y <- b0 + b1*x + u\n",
    "  \n",
    "  # estimate parameters by OLS and store them in the vectors\n",
    "  bhat <- coefficients( lm(y~x) )\n",
    "  b0hat[j] <- bhat[\"(Intercept)\"]\n",
    "  b1hat[j] <- bhat[\"x\"]\n",
    "}"
   ]
  },
  {
   "cell_type": "code",
   "execution_count": 31,
   "metadata": {},
   "outputs": [
    {
     "name": "stdout",
     "output_type": "stream",
     "text": [
      "Average value of B0HAT: 0.9985388\n",
      "Average value of B1HAT: 0.5000466\n",
      "Variance of B0HAT: 0.0690833\n",
      "Variance of B1HAT: 0.004069063"
     ]
    },
    {
     "data": {
      "image/png": "[encoded data removed]",
      "text/plain": [
       "plot without title"
      ]
     },
     "metadata": {},
     "output_type": "display_data"
    }
   ],
   "source": [
    "# MC estimate of the expected values:\n",
    "cat(\"Average value of B0HAT:\",mean(b0hat))\n",
    "cat(\"\\nAverage value of B1HAT:\",mean(b1hat))\n",
    "\n",
    "# MC estimate of the variances:\n",
    "cat(\"\\nVariance of B0HAT:\",var(b0hat))\n",
    "cat(\"\\nVariance of B1HAT:\",var(b1hat))\n",
    "\n",
    "# Initialize empty plot\n",
    "plot( NULL, xlim=c(0,8), ylim=c(0,6), xlab=\"x\", ylab=\"y\")\n",
    "# add OLS regression lines\n",
    "for (j in 1:10) abline(b0hat[j],b1hat[j],col=\"gray\")\n",
    "# add population regression line\n",
    "abline(b0,b1,lwd=2)\n",
    "# add legend\n",
    "legend(\"topleft\",c(\"Population\",\"OLS regressions\"),\n",
    "                           lwd=c(2,1),col=c(\"black\",\"gray\"))"
   ]
  },
  {
   "cell_type": "markdown",
   "metadata": {},
   "source": [
    "### 2-7.1 Violation of SLR.4"
   ]
  },
  {
   "cell_type": "markdown",
   "metadata": {},
   "source": [
    "We will come back to a more systematic discussion of the consequences of violating the SLR.4 assumption (zero conditional mean). "
   ]
  },
  {
   "cell_type": "markdown",
   "metadata": {},
   "source": [
    "Consider a case where in the population u is not mean independent of x. A simple example is"
   ]
  },
  {
   "cell_type": "markdown",
   "metadata": {},
   "source": [
    "\\begin{equation}\n",
    "E(u|x)=\\frac{x-4}{5}\n",
    "\\end{equation}"
   ]
  },
  {
   "cell_type": "markdown",
   "metadata": {},
   "source": [
    "What happens to the OLS estimator ? The following code presents the outputs"
   ]
  },
  {
   "cell_type": "code",
   "execution_count": 32,
   "metadata": {
    "collapsed": true
   },
   "outputs": [],
   "source": [
    "# Set the random seed\n",
    "set.seed(1234567)\n",
    "\n",
    "# set sample size and number of simulations\n",
    "n<-1000; r<-10000\n",
    "\n",
    "# set true parameters: betas and sd of u\n",
    "b0<-1; b1<-0.5; su<-2\n",
    "\n",
    "# initialize b0hat and b1hat to store results later:\n",
    "b0hat <- numeric(r)\n",
    "b1hat <- numeric(r)\n",
    "\n",
    "# Draw a sample of x, fixed over replications:\n",
    "x <- rnorm(n,4,1)\n",
    "\n",
    "# repeat r times:\n",
    "for(j in 1:r) {\n",
    "  # Draw a sample of y:\n",
    "  u <- rnorm(n, (x-4)/5, su)\n",
    "  y <- b0 + b1*x + u\n",
    "  \n",
    "  # estimate parameters by OLS and store them in the vectors\n",
    "  bhat <- coefficients( lm(y~x) )\n",
    "  b0hat[j] <- bhat[\"(Intercept)\"]\n",
    "  b1hat[j] <- bhat[\"x\"]\n",
    "}"
   ]
  },
  {
   "cell_type": "code",
   "execution_count": 33,
   "metadata": {},
   "outputs": [
    {
     "name": "stdout",
     "output_type": "stream",
     "text": [
      "Estimate b0: 0.1985388\n",
      "Estimate of b1: 0.7000466\n",
      "Estimate of the variance of b0: 0.0690833\n",
      "Estimate of the variance of b1: 0.004069063"
     ]
    }
   ],
   "source": [
    "# MC estimate of the expected values:\n",
    "cat(\"Estimate b0:\",mean(b0hat))\n",
    "cat(\"\\nEstimate of b1:\",mean(b1hat))\n",
    "\n",
    "# MC estimate of the variances:\n",
    "cat(\"\\nEstimate of the variance of b0:\",var(b0hat))\n",
    "cat(\"\\nEstimate of the variance of b1:\",var(b1hat))\n"
   ]
  },
  {
   "cell_type": "markdown",
   "metadata": {},
   "source": [
    "As we appreciate the average estimates are far from the population parameters (&beta;0=1 and &beta;1=0.5)"
   ]
  },
  {
   "cell_type": "markdown",
   "metadata": {},
   "source": [
    "### 2-7.2 Violation of SLR.5"
   ]
  },
  {
   "cell_type": "markdown",
   "metadata": {},
   "source": [
    "Theorem 2.1 (unbiadseness) does not require Assumption SLR.5 (homoskedasticity), but Theorem 2.2 (sampling variance) does. As an example for a violation consider the population specification"
   ]
  },
  {
   "cell_type": "markdown",
   "metadata": {},
   "source": [
    "\\begin{equation}\n",
    "Var(u_i|x_i)=\\frac{4}{e^4.5}*e^{x_i}\n",
    "\\end{equation}"
   ]
  },
  {
   "cell_type": "markdown",
   "metadata": {},
   "source": [
    "So SLR.5 is clearly violated since the variance depends on x. Assumption SLR.4 holds. "
   ]
  },
  {
   "cell_type": "code",
   "execution_count": 34,
   "metadata": {
    "collapsed": true
   },
   "outputs": [],
   "source": [
    "# Set the random seed\n",
    "set.seed(1234567)\n",
    "\n",
    "# set sample size and number of simulations\n",
    "n<-1000; r<-10000\n",
    "\n",
    "# set true parameters: betas and sd of u\n",
    "b0<-1; b1<-0.5; su<-2\n",
    "\n",
    "# initialize b0hat and b1hat to store results later:\n",
    "b0hat <- numeric(r)\n",
    "b1hat <- numeric(r)\n",
    "\n",
    "# Draw a sample of x, fixed over replications:\n",
    "x <- rnorm(n,4,1)\n",
    "\n",
    "# repeat r times:\n",
    "for(j in 1:r) {\n",
    "  # Draw a sample of y:\n",
    "  varu <- 4/exp(4.5) * exp(x)\n",
    "  u <- rnorm(n, 0, sqrt(varu) )\n",
    "  y <- b0 + b1*x + u\n",
    "  \n",
    "  # estimate parameters by OLS and store them in the vectors\n",
    "  bhat <- coefficients( lm(y~x) )\n",
    "  b0hat[j] <- bhat[\"(Intercept)\"]\n",
    "  b1hat[j] <- bhat[\"x\"]\n",
    "}\n"
   ]
  },
  {
   "cell_type": "code",
   "execution_count": 35,
   "metadata": {},
   "outputs": [
    {
     "name": "stdout",
     "output_type": "stream",
     "text": [
      "Estimate b0: 1.0019\n",
      "Estimate of b1: 0.4992376\n",
      "Estimate of the variance of b0: 0.08967037\n",
      "Estimate of the variance of b1: 0.007264373"
     ]
    }
   ],
   "source": [
    "# MC estimate of the expected values:\n",
    "cat(\"Estimate b0:\",mean(b0hat))\n",
    "cat(\"\\nEstimate of b1:\",mean(b1hat))\n",
    "\n",
    "# MC estimate of the variances:\n",
    "cat(\"\\nEstimate of the variance of b0:\",var(b0hat))\n",
    "cat(\"\\nEstimate of the variance of b1:\",var(b1hat))\n"
   ]
  },
  {
   "cell_type": "markdown",
   "metadata": {},
   "source": [
    "The previous results reveal that: (1) the unbiadsedness provided by Theorem 2.1 is unaffected, (2) the formula for sampling variance provided by Theorem 2.2 is incorrect"
   ]
  },
  {
   "cell_type": "code",
   "execution_count": null,
   "metadata": {
    "collapsed": true
   },
   "outputs": [],
   "source": []
  }
 ],
 "metadata": {
  "kernelspec": {
   "display_name": "R",
   "language": "R",
   "name": "r"
  },
  "language_info": {
   "codemirror_mode": "r",
   "file_extension": ".r",
   "mimetype": "text/x-r-source",
   "name": "R",
   "pygments_lexer": "r",
   "version": "3.3.0"
  }
 },
 "nbformat": 4,
 "nbformat_minor": 2
}
