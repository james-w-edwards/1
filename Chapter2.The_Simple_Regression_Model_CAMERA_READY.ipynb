{
 "cells": [
  {
   "cell_type": "markdown",
   "metadata": {
    "collapsed": true
   },
   "source": [
    "# Chapter 2. The Simple Regression Model"
   ]
  },
  {
   "cell_type": "markdown",
   "metadata": {
    "collapsed": true
   },
   "source": [
    "We are concerned with estimating the population parameters &beta;0 and &beta;1 of the simple linear regression model"
   ]
  },
  {
   "cell_type": "markdown",
   "metadata": {
    "collapsed": true
   },
   "source": [
    "\\begin{equation}\n",
    "y=\\beta_0 + \\beta_1 +u\n",
    "\\tag{2.1}\n",
    "\\end{equation}"
   ]
  },
  {
   "cell_type": "markdown",
   "metadata": {},
   "source": [
    "Where Y and X are the dependent and independent variable respectively. Also sometimes called Response and Control variable respectively."
   ]
  },
  {
   "cell_type": "markdown",
   "metadata": {},
   "source": [
    "The variable u, called the error term or disturbance in the relationship, represents factors other than x that affect y. A simple regression analysis effectively treats all factors affecting y other than x as being unobserved. Thus you can usefully think of u as standing for \"unobserved\"."
   ]
  },
  {
   "cell_type": "markdown",
   "metadata": {},
   "source": [
    "Equation (2.1) also states a linear relationship between y and x. If the other factors in u are held fixed, so that the change in u is zero then x has a linear effect on y."
   ]
  },
  {
   "cell_type": "markdown",
   "metadata": {},
   "source": [
    "\\begin{equation}\n",
    "\\Delta y=\\Delta \\beta_1  \\quad if \\Delta u =0\n",
    "\\tag{2.2}\n",
    "\\end{equation}"
   ]
  },
  {
   "cell_type": "markdown",
   "metadata": {},
   "source": [
    "This means that &beta;1 is the slope parameter in the relationship between y and x, holding the other parameters in u fixed."
   ]
  },
  {
   "cell_type": "markdown",
   "metadata": {},
   "source": [
    " ### Wooldridge. Example 2.1 Soybean Yield and Fertilizer"
   ]
  },
  {
   "cell_type": "markdown",
   "metadata": {},
   "source": [
    "Supposse that soybean yield is determined by the model"
   ]
  },
  {
   "cell_type": "markdown",
   "metadata": {},
   "source": [
    "\\begin{equation}\n",
    "yield=\\beta_0 + \\beta_1 * fertilizer +u\n",
    "\\tag{2.3}\n",
    "\\end{equation}"
   ]
  },
  {
   "cell_type": "markdown",
   "metadata": {},
   "source": [
    "The researcher is interested in the effect of fertilizer on yield, holding other factors fixed. This effect is given by &beta;1. The error term u contains factors such as land, quality, rainfall and so on. The coefficient &beta;1 neasures the effect of fertilizer on yield, holding other factors fixed: &Delta;yield=&Beta;1*&Delta;fertilizer"
   ]
  },
  {
   "cell_type": "markdown",
   "metadata": {},
   "source": [
    " ### Wooldridge. Example 2.2 A Simple Wage Equation"
   ]
  },
  {
   "cell_type": "markdown",
   "metadata": {},
   "source": [
    "A model related a person's wage to observed education and other unobserved factors is"
   ]
  },
  {
   "cell_type": "markdown",
   "metadata": {},
   "source": [
    "\\begin{equation}\n",
    "wage=\\beta_0 + \\beta_1 * educ +u\n",
    "\\tag{2.4}\n",
    "\\end{equation}"
   ]
  },
  {
   "cell_type": "markdown",
   "metadata": {},
   "source": [
    "If wage is measured in dollars per hour and educ is years of education, then &beta;1 measures the change in hourly wage given another year of education, holding all other factors fixed. Some of those factors include labor force experience, innate ability, tenure with current employer, work ethic among many others."
   ]
  },
  {
   "cell_type": "markdown",
   "metadata": {},
   "source": [
    "A crucial assumption is that the average value of u does not depend on the value of x. We can write this assumption as"
   ]
  },
  {
   "cell_type": "markdown",
   "metadata": {},
   "source": [
    "\\begin{equation}\n",
    "E(u|x)=E(u)\n",
    "\\tag{2.6}\n",
    "\\end{equation}"
   ]
  },
  {
   "cell_type": "markdown",
   "metadata": {},
   "source": [
    "Equation (2.6) says that the average value of the unobservables is the same accross all slices of the population determined by the value of x."
   ]
  },
  {
   "cell_type": "markdown",
   "metadata": {},
   "source": [
    "In the Simple Wage (Example 2.2), Equation (2.6) requires that the average level of ability is the same regardless of years of education. For example, if E(abil|8) denotes the average ability for the group of all people with eight years of education, and E(abil|16) denotes the average ability among people with sixteen years of education, then equation (2.6) implies that these must be the same. "
   ]
  },
  {
   "cell_type": "markdown",
   "metadata": {},
   "source": [
    "If, for example, we think that average ability increases with years of education, then equation (2.6) is false. This would happen for instance if people with more ability chose to be more educated. As we cannot observe innate ability, we have no way of knowing whether or not average ability is the same for all education levels."
   ]
  },
  {
   "cell_type": "markdown",
   "metadata": {},
   "source": [
    "## 2-2 Deriving the Ordinary Least Squares Estimates"
   ]
  },
  {
   "cell_type": "code",
   "execution_count": null,
   "metadata": {},
   "outputs": [],
   "source": []
  },
  {
   "cell_type": "markdown",
   "metadata": {
    "collapsed": true
   },
   "source": [
    "from a random sample of y and x. According to Wooldridge (2016, section 2.2) the ordinary least (OLS) estimators are"
   ]
  },
  {
   "cell_type": "markdown",
   "metadata": {
    "collapsed": true
   },
   "source": [
    "\\begin{equation}\n",
    "\\tag{2.17}\n",
    "\\hat{\\beta_0}=\\hat{y}-\\hat{\\beta_1}\\hat{x}\n",
    "\\end{equation}"
   ]
  },
  {
   "cell_type": "markdown",
   "metadata": {
    "collapsed": true
   },
   "source": [
    "\\begin{equation}\n",
    "\\tag{2.19 a}\n",
    "\\hat{\\beta_1}=\\frac{\\sum_{i=1}^n (x_i-\\vec{x})(y_i-\\vec{y})}{\\sum_{i=1}^n(x_i-\\vec{x})^2}\n",
    "\\end{equation}"
   ]
  },
  {
   "cell_type": "markdown",
   "metadata": {
    "collapsed": true
   },
   "source": [
    "\\begin{equation}\n",
    "\\tag{2.19 b}\n",
    "\\hat{\\beta_1}=\\frac{Cov(x,y)}{Var(x}\n",
    "\\end{equation}"
   ]
  },
  {
   "cell_type": "markdown",
   "metadata": {
    "collapsed": true
   },
   "source": [
    "Based in these estimated parameters, the OLS regression line is"
   ]
  },
  {
   "cell_type": "markdown",
   "metadata": {},
   "source": [
    "\\begin{equation}\n",
    "\\hat{y}=\\hat{\\beta_0} + \\hat{\\beta_1}x\n",
    "\\tag{2.1}\n",
    "\\end{equation}"
   ]
  },
  {
   "cell_type": "markdown",
   "metadata": {
    "collapsed": true
   },
   "source": [
    "Thus, for a given sample, we just need to calculate four statistics yHAT, xHAT, Cov(x,y) and Var(x) and plug them into the previous equation. "
   ]
  },
  {
   "cell_type": "markdown",
   "metadata": {},
   "source": [
    "### Wooldridge. Example 2.3 CEO Salary and Return on Equity"
   ]
  },
  {
   "cell_type": "markdown",
   "metadata": {},
   "source": [
    "For the population of chief executive officer, let y be the annual salary (salary) in thousands of dollars. Let x be the average return on equity (roe) for the CEO's firm for the previous three years. To study the relationship between this measure of firm performance and CEO compensation, we postulate the simple model"
   ]
  },
  {
   "cell_type": "markdown",
   "metadata": {},
   "source": [
    "\\begin{equation}\n",
    "salary=\\beta_0 + \\beta_1 * roe +u\n",
    "\\end{equation}"
   ]
  },
  {
   "cell_type": "markdown",
   "metadata": {},
   "source": [
    "the slope parameter beta1; measures the change in annual salary, in thousands of dollars, when return on equity increases by one percentage point. "
   ]
  },
  {
   "cell_type": "markdown",
   "metadata": {
    "collapsed": true
   },
   "source": [
    "We are using the data set CEOSAL1.dta. We then calculate the four statistics we need for equations 2.17 and 2.19a"
   ]
  },
  {
   "cell_type": "code",
   "execution_count": 1,
   "metadata": {
    "scrolled": false
   },
   "outputs": [
    {
     "name": "stderr",
     "output_type": "stream",
     "text": [
      "Loading required package: foreign\n"
     ]
    },
    {
     "data": {
      "text/html": [
       "<table>\n",
       "<thead><tr><th scope=col>salary</th><th scope=col>pcsalary</th><th scope=col>sales</th><th scope=col>roe</th><th scope=col>pcroe</th><th scope=col>ros</th><th scope=col>indus</th><th scope=col>finance</th><th scope=col>consprod</th><th scope=col>utility</th><th scope=col>lsalary</th><th scope=col>lsales</th></tr></thead>\n",
       "<tbody>\n",
       "\t<tr><td>1095     </td><td>20       </td><td>27595.0  </td><td>14.1     </td><td>106.4    </td><td>191      </td><td>1        </td><td>0        </td><td>0        </td><td>0        </td><td>6.998509 </td><td>10.225389</td></tr>\n",
       "\t<tr><td>1001     </td><td>32       </td><td> 9958.0  </td><td>10.9     </td><td>-30.6    </td><td> 13      </td><td>1        </td><td>0        </td><td>0        </td><td>0        </td><td>6.908755 </td><td> 9.206132</td></tr>\n",
       "\t<tr><td>1122     </td><td> 9       </td><td> 6125.9  </td><td>23.5     </td><td>-16.3    </td><td> 14      </td><td>1        </td><td>0        </td><td>0        </td><td>0        </td><td>7.022868 </td><td> 8.720281</td></tr>\n",
       "\t<tr><td> 578     </td><td>-9       </td><td>16246.0  </td><td> 5.9     </td><td>-25.7    </td><td>-21      </td><td>1        </td><td>0        </td><td>0        </td><td>0        </td><td>6.359574 </td><td> 9.695602</td></tr>\n",
       "\t<tr><td>1368     </td><td> 7       </td><td>21783.2  </td><td>13.8     </td><td> -3.0    </td><td> 56      </td><td>1        </td><td>0        </td><td>0        </td><td>0        </td><td>7.221105 </td><td> 9.988894</td></tr>\n",
       "\t<tr><td>1145     </td><td> 5       </td><td> 6021.4  </td><td>20.0     </td><td>  1.0    </td><td> 55      </td><td>1        </td><td>0        </td><td>0        </td><td>0        </td><td>7.043160 </td><td> 8.703075</td></tr>\n",
       "</tbody>\n",
       "</table>\n"
      ],
      "text/latex": [
       "\\begin{tabular}{r|llllllllllll}\n",
       " salary & pcsalary & sales & roe & pcroe & ros & indus & finance & consprod & utility & lsalary & lsales\\\\\n",
       "\\hline\n",
       "\t 1095      & 20        & 27595.0   & 14.1      & 106.4     & 191       & 1         & 0         & 0         & 0         & 6.998509  & 10.225389\\\\\n",
       "\t 1001      & 32        &  9958.0   & 10.9      & -30.6     &  13       & 1         & 0         & 0         & 0         & 6.908755  &  9.206132\\\\\n",
       "\t 1122      &  9        &  6125.9   & 23.5      & -16.3     &  14       & 1         & 0         & 0         & 0         & 7.022868  &  8.720281\\\\\n",
       "\t  578      & -9        & 16246.0   &  5.9      & -25.7     & -21       & 1         & 0         & 0         & 0         & 6.359574  &  9.695602\\\\\n",
       "\t 1368      &  7        & 21783.2   & 13.8      &  -3.0     &  56       & 1         & 0         & 0         & 0         & 7.221105  &  9.988894\\\\\n",
       "\t 1145      &  5        &  6021.4   & 20.0      &   1.0     &  55       & 1         & 0         & 0         & 0         & 7.043160  &  8.703075\\\\\n",
       "\\end{tabular}\n"
      ],
      "text/markdown": [
       "\n",
       "salary | pcsalary | sales | roe | pcroe | ros | indus | finance | consprod | utility | lsalary | lsales | \n",
       "|---|---|---|---|---|---|\n",
       "| 1095      | 20        | 27595.0   | 14.1      | 106.4     | 191       | 1         | 0         | 0         | 0         | 6.998509  | 10.225389 | \n",
       "| 1001      | 32        |  9958.0   | 10.9      | -30.6     |  13       | 1         | 0         | 0         | 0         | 6.908755  |  9.206132 | \n",
       "| 1122      |  9        |  6125.9   | 23.5      | -16.3     |  14       | 1         | 0         | 0         | 0         | 7.022868  |  8.720281 | \n",
       "|  578      | -9        | 16246.0   |  5.9      | -25.7     | -21       | 1         | 0         | 0         | 0         | 6.359574  |  9.695602 | \n",
       "| 1368      |  7        | 21783.2   | 13.8      |  -3.0     |  56       | 1         | 0         | 0         | 0         | 7.221105  |  9.988894 | \n",
       "| 1145      |  5        |  6021.4   | 20.0      |   1.0     |  55       | 1         | 0         | 0         | 0         | 7.043160  |  8.703075 | \n",
       "\n",
       "\n"
      ],
      "text/plain": [
       "  salary pcsalary sales   roe  pcroe ros indus finance consprod utility\n",
       "1 1095   20       27595.0 14.1 106.4 191 1     0       0        0      \n",
       "2 1001   32        9958.0 10.9 -30.6  13 1     0       0        0      \n",
       "3 1122    9        6125.9 23.5 -16.3  14 1     0       0        0      \n",
       "4  578   -9       16246.0  5.9 -25.7 -21 1     0       0        0      \n",
       "5 1368    7       21783.2 13.8  -3.0  56 1     0       0        0      \n",
       "6 1145    5        6021.4 20.0   1.0  55 1     0       0        0      \n",
       "  lsalary  lsales   \n",
       "1 6.998509 10.225389\n",
       "2 6.908755  9.206132\n",
       "3 7.022868  8.720281\n",
       "4 6.359574  9.695602\n",
       "5 7.221105  9.988894\n",
       "6 7.043160  8.703075"
      ]
     },
     "metadata": {},
     "output_type": "display_data"
    }
   ],
   "source": [
    "require(foreign)\n",
    "ceosal1<-read.dta(\"https://github.com/thousandoaks/Wooldridge/blob/master/ceosal1.dta?raw=true\")\n",
    "attach(ceosal1)\n",
    "head(ceosal1)\n"
   ]
  },
  {
   "cell_type": "code",
   "execution_count": 2,
   "metadata": {},
   "outputs": [
    {
     "name": "stdout",
     "output_type": "stream",
     "text": [
      "Cov(roe, salary): 1342.538\n",
      "Var ROE: 72.56499\n",
      "Mean Salary: 1281.12\n",
      "Mean ROE: 17.18421\n",
      "b1hat: 18.50119\n",
      "b0hat: 963.1913"
     ]
    }
   ],
   "source": [
    "# ingredients to the OLS formulas \n",
    "cat(\"Cov(roe, salary):\",cov(roe,salary))\n",
    "cat(\"\\nVar ROE:\",var(roe))\n",
    "cat(\"\\nMean Salary:\",mean(salary))\n",
    "cat(\"\\nMean ROE:\",mean(roe))\n",
    "\n",
    "# manual calculation of OLS coefficients \n",
    "cat(\"\\nb1hat:\",( b1hat <- cov(roe,salary)/var(roe) ))\n",
    "cat(\"\\nb0hat:\",( b0hat <- mean(salary) - b1hat*mean(roe) ))\n",
    "\n",
    "# \"detach\" the data frame\n"
   ]
  },
  {
   "cell_type": "markdown",
   "metadata": {
    "collapsed": true
   },
   "source": [
    "So the OLS regression line is"
   ]
  },
  {
   "cell_type": "markdown",
   "metadata": {},
   "source": [
    "\\begin{equation}\n",
    "\\hat{salary}=963.1913 + 18.50119 * roe\n",
    "\\end{equation}"
   ]
  },
  {
   "cell_type": "markdown",
   "metadata": {},
   "source": [
    "Thus we see that if the return of equity is zero (roe=0) then the predicted salary is the intercept, 963.191, or 963191 dollars. We also observe that if roe increases by one percentage point then salary is about to change by 18.50, or $18500. "
   ]
  },
  {
   "cell_type": "markdown",
   "metadata": {},
   "source": [
    "### Wooldridge. Example 2.3 CEO Salary and Return on Equity (cont.)"
   ]
  },
  {
   "cell_type": "markdown",
   "metadata": {},
   "source": [
    "There is a more convenient way to compute the coefficients using R. Following with the previous example:"
   ]
  },
  {
   "cell_type": "code",
   "execution_count": 3,
   "metadata": {},
   "outputs": [
    {
     "data": {
      "text/plain": [
       "\n",
       "Call:\n",
       "lm(formula = ceosal1$salary ~ ceosal1$roe)\n",
       "\n",
       "Coefficients:\n",
       "(Intercept)  ceosal1$roe  \n",
       "      963.2         18.5  \n"
      ]
     },
     "metadata": {},
     "output_type": "display_data"
    }
   ],
   "source": [
    "lm(ceosal1$salary~ceosal1$roe)"
   ]
  },
  {
   "cell_type": "markdown",
   "metadata": {},
   "source": [
    "### Wooldridge. Example 2.3 CEO Salary and Return on Equity (cont.)"
   ]
  },
  {
   "cell_type": "markdown",
   "metadata": {
    "collapsed": true
   },
   "source": [
    "A useful feature of R is the ability to store the output of the execution of lm in a object for further use, for instance to plot the regresion line"
   ]
  },
  {
   "cell_type": "code",
   "execution_count": 4,
   "metadata": {},
   "outputs": [
    {
     "data": {
      "image/jpeg": "[encoded data removed]",
      "image/png": "",
      "image/svg+xml": [
       "<?xml version=\"1.0\" encoding=\"UTF-8\"?>\n",
       "<svg xmlns=\"http://www.w3.org/2000/svg\" xmlns:xlink=\"http://www.w3.org/1999/xlink\" width=\"288pt\" height=\"216pt\" viewBox=\"0 0 288 216\" version=\"1.1\">\n",
       "<defs>\n",
       "<g>\n",
       "<symbol overflow=\"visible\" id=\"glyph0-0\">\n",
       "<path style=\"stroke:none;\" d=\"\"/>\n",
       "</symbol>\n",
       "<symbol overflow=\"visible\" id=\"glyph0-1\">\n",
       "<path style=\"stroke:none;\" d=\"M 6.46875 -4.390625 C 6.46875 -7.46875 5.359375 -9.125 3.4375 -9.125 C 1.53125 -9.125 0.40625 -7.4375 0.40625 -4.46875 C 0.40625 -1.46875 1.53125 0.1875 3.4375 0.1875 C 5.3125 0.1875 6.46875 -1.46875 6.46875 -4.390625 Z M 5.078125 -4.484375 C 5.078125 -1.96875 4.640625 -0.984375 3.40625 -0.984375 C 2.25 -0.984375 1.78125 -2.03125 1.78125 -4.453125 C 1.78125 -6.875 2.25 -7.890625 3.4375 -7.890625 C 4.625 -7.890625 5.078125 -6.859375 5.078125 -4.484375 Z M 5.078125 -4.484375 \"/>\n",
       "</symbol>\n",
       "<symbol overflow=\"visible\" id=\"glyph0-2\">\n",
       "<path style=\"stroke:none;\" d=\"M 4.46875 -0.125 L 4.46875 -9.125 L 3.515625 -9.125 C 3.09375 -7.625 2.96875 -7.578125 1.140625 -7.34375 L 1.140625 -6.3125 L 3.09375 -6.3125 L 3.09375 0 L 4.46875 0 Z M 4.46875 -0.125 \"/>\n",
       "</symbol>\n",
       "<symbol overflow=\"visible\" id=\"glyph0-3\">\n",
       "<path style=\"stroke:none;\" d=\"M 6.515625 -6.390625 C 6.515625 -7.890625 5.21875 -9.125 3.546875 -9.125 C 1.734375 -9.125 0.546875 -8.0625 0.484375 -5.78125 L 1.84375 -5.78125 C 1.9375 -7.40625 2.421875 -7.90625 3.515625 -7.90625 C 4.515625 -7.90625 5.125 -7.3125 5.125 -6.359375 C 5.125 -5.65625 4.75 -5.15625 3.96875 -4.703125 L 2.8125 -4.046875 C 0.96875 -3 0.390625 -2.078125 0.28125 0 L 6.453125 0 L 6.453125 -1.34375 L 1.8125 -1.34375 C 1.90625 -1.9375 2.265625 -2.3125 3.34375 -2.953125 L 4.59375 -3.625 C 5.84375 -4.28125 6.515625 -5.296875 6.515625 -6.390625 Z M 6.515625 -6.390625 \"/>\n",
       "</symbol>\n",
       "<symbol overflow=\"visible\" id=\"glyph0-4\">\n",
       "<path style=\"stroke:none;\" d=\"M 6.453125 -2.703125 C 6.453125 -3.78125 5.890625 -4.53125 4.828125 -4.90625 L 4.828125 -4.640625 C 5.65625 -4.96875 6.1875 -5.65625 6.1875 -6.546875 C 6.1875 -8.078125 5.046875 -9.125 3.359375 -9.125 C 1.578125 -9.125 0.484375 -8.015625 0.453125 -6 L 1.8125 -6 C 1.84375 -7.4375 2.25 -7.90625 3.375 -7.90625 C 4.34375 -7.90625 4.796875 -7.453125 4.796875 -6.515625 C 4.796875 -5.5625 4.53125 -5.3125 2.625 -5.3125 L 2.625 -4.125 L 3.359375 -4.125 C 4.578125 -4.125 5.0625 -3.671875 5.0625 -2.6875 C 5.0625 -1.578125 4.515625 -1.046875 3.359375 -1.046875 C 2.15625 -1.046875 1.703125 -1.515625 1.609375 -2.9375 L 0.25 -2.9375 C 0.40625 -0.828125 1.515625 0.1875 3.328125 0.1875 C 5.15625 0.1875 6.453125 -1.03125 6.453125 -2.703125 Z M 6.453125 -2.703125 \"/>\n",
       "</symbol>\n",
       "<symbol overflow=\"visible\" id=\"glyph0-5\">\n",
       "<path style=\"stroke:none;\" d=\"M 6.625 -2.25 L 6.625 -3.375 L 5.3125 -3.375 L 5.3125 -9.125 L 4.296875 -9.125 L 0.21875 -3.453125 L 0.21875 -2.125 L 3.953125 -2.125 L 3.953125 0 L 5.3125 0 L 5.3125 -2.125 L 6.625 -2.125 Z M 4.09375 -3.375 L 1.5625 -3.375 L 4.171875 -7.03125 L 3.953125 -7.109375 L 3.953125 -3.375 Z M 4.09375 -3.375 \"/>\n",
       "</symbol>\n",
       "<symbol overflow=\"visible\" id=\"glyph0-6\">\n",
       "<path style=\"stroke:none;\" d=\"M 6.53125 -3.0625 C 6.53125 -4.8125 5.25 -6.09375 3.546875 -6.09375 C 2.921875 -6.09375 2.328125 -5.890625 2.09375 -5.71875 L 2.359375 -7.59375 L 6.078125 -7.59375 L 6.078125 -8.9375 L 1.25 -8.9375 L 0.546875 -4.03125 L 1.78125 -4.03125 C 2.328125 -4.6875 2.65625 -4.859375 3.34375 -4.859375 C 4.53125 -4.859375 5.15625 -4.21875 5.15625 -2.90625 C 5.15625 -1.640625 4.546875 -1.046875 3.34375 -1.046875 C 2.390625 -1.046875 1.921875 -1.40625 1.625 -2.53125 L 0.28125 -2.53125 C 0.65625 -0.640625 1.796875 0.1875 3.375 0.1875 C 5.15625 0.1875 6.53125 -1.1875 6.53125 -3.0625 Z M 6.53125 -3.0625 \"/>\n",
       "</symbol>\n",
       "<symbol overflow=\"visible\" id=\"glyph0-7\">\n",
       "<path style=\"stroke:none;\" d=\"M 5.96875 -2.515625 L 4.796875 -2.515625 C 4.59375 -1.328125 4.203125 -1.03125 3.3125 -1.03125 C 2.15625 -1.03125 1.59375 -1.78125 1.59375 -3.34375 C 1.59375 -4.96875 2.15625 -5.78125 3.28125 -5.78125 C 4.15625 -5.78125 4.578125 -5.390625 4.71875 -4.34375 L 6.03125 -4.34375 C 5.890625 -6.078125 4.765625 -7 3.296875 -7 C 1.53125 -7 0.25 -5.515625 0.25 -3.34375 C 0.25 -1.21875 1.515625 0.1875 3.28125 0.1875 C 4.84375 0.1875 5.96875 -0.875 6.09375 -2.515625 Z M 5.96875 -2.515625 \"/>\n",
       "</symbol>\n",
       "<symbol overflow=\"visible\" id=\"glyph0-8\">\n",
       "<path style=\"stroke:none;\" d=\"M 6.53125 -3.09375 C 6.53125 -4.046875 6.46875 -4.65625 6.28125 -5.140625 C 5.84375 -6.21875 4.71875 -7 3.5 -7 C 1.671875 -7 0.359375 -5.515625 0.359375 -3.359375 C 0.359375 -1.21875 1.640625 0.1875 3.46875 0.1875 C 4.96875 0.1875 6.140625 -0.78125 6.421875 -2.25 L 5.125 -2.25 C 4.796875 -1.25 4.34375 -1.03125 3.515625 -1.03125 C 2.421875 -1.03125 1.734375 -1.59375 1.71875 -2.96875 L 6.53125 -2.96875 Z M 5.390625 -3.9375 C 5.390625 -3.9375 5.203125 -4.0625 5.21875 -4.09375 L 1.75 -4.09375 C 1.828125 -5.109375 2.4375 -5.78125 3.484375 -5.78125 C 4.515625 -5.78125 5.15625 -5.046875 5.15625 -4.03125 Z M 5.390625 -3.9375 \"/>\n",
       "</symbol>\n",
       "<symbol overflow=\"visible\" id=\"glyph0-9\">\n",
       "<path style=\"stroke:none;\" d=\"M 6.5 -3.34375 C 6.5 -5.609375 5.28125 -7 3.40625 -7 C 1.5625 -7 0.3125 -5.59375 0.3125 -3.40625 C 0.3125 -1.203125 1.546875 0.1875 3.40625 0.1875 C 5.25 0.1875 6.5 -1.203125 6.5 -3.34375 Z M 5.15625 -3.359375 C 5.15625 -1.828125 4.5625 -1.03125 3.40625 -1.03125 C 2.25 -1.03125 1.65625 -1.8125 1.65625 -3.40625 C 1.65625 -4.96875 2.25 -5.78125 3.40625 -5.78125 C 4.59375 -5.78125 5.15625 -4.984375 5.15625 -3.359375 Z M 5.15625 -3.359375 \"/>\n",
       "</symbol>\n",
       "<symbol overflow=\"visible\" id=\"glyph0-10\">\n",
       "<path style=\"stroke:none;\" d=\"M 5.859375 -1.96875 C 5.859375 -2.9375 5.1875 -3.5625 3.890625 -3.875 L 2.890625 -4.109375 C 2.03125 -4.3125 1.796875 -4.453125 1.796875 -4.90625 C 1.796875 -5.515625 2.21875 -5.78125 3.0625 -5.78125 C 3.90625 -5.78125 4.21875 -5.53125 4.234375 -4.71875 L 5.59375 -4.71875 C 5.59375 -6.140625 4.609375 -7 3.09375 -7 C 1.578125 -7 0.453125 -6.078125 0.453125 -4.859375 C 0.453125 -3.84375 1.109375 -3.21875 2.65625 -2.84375 L 3.640625 -2.609375 C 4.359375 -2.4375 4.515625 -2.34375 4.515625 -1.875 C 4.515625 -1.265625 4.03125 -1.03125 3.125 -1.03125 C 2.1875 -1.03125 1.78125 -1.125 1.640625 -2.265625 L 0.28125 -2.265625 C 0.34375 -0.609375 1.328125 0.1875 3.03125 0.1875 C 4.6875 0.1875 5.859375 -0.703125 5.859375 -1.96875 Z M 5.859375 -1.96875 \"/>\n",
       "</symbol>\n",
       "<symbol overflow=\"visible\" id=\"glyph0-11\">\n",
       "<path style=\"stroke:none;\" d=\"M 6.8125 -0.15625 L 6.8125 -1.09375 C 6.578125 -1.046875 6.53125 -1.046875 6.46875 -1.046875 C 6.09375 -1.046875 6.03125 -1.09375 6.03125 -1.421875 L 6.03125 -5.078125 C 6.03125 -6.234375 5.046875 -7 3.4375 -7 C 1.84375 -7 0.734375 -6.25 0.65625 -4.609375 L 1.96875 -4.609375 C 2.078125 -5.53125 2.421875 -5.78125 3.40625 -5.78125 C 4.34375 -5.78125 4.71875 -5.546875 4.71875 -4.921875 L 4.71875 -4.65625 C 4.71875 -4.21875 4.59375 -4.15625 3.78125 -4.0625 C 2.296875 -3.875 2.078125 -3.828125 1.671875 -3.65625 C 0.90625 -3.34375 0.390625 -2.625 0.390625 -1.828125 C 0.390625 -0.640625 1.34375 0.1875 2.671875 0.1875 C 3.515625 0.1875 4.40625 -0.203125 4.828125 -0.640625 C 4.875 -0.40625 5.46875 0.09375 5.96875 0.09375 C 6.1875 0.09375 6.34375 0.0625 6.8125 -0.046875 Z M 4.71875 -2.390625 C 4.71875 -1.453125 3.90625 -0.984375 2.90625 -0.984375 C 2.09375 -0.984375 1.734375 -1.140625 1.734375 -1.84375 C 1.734375 -2.53125 2.078125 -2.71875 3.1875 -2.875 C 4.28125 -3.03125 4.515625 -3.078125 4.71875 -3.171875 Z M 4.71875 -2.390625 \"/>\n",
       "</symbol>\n",
       "<symbol overflow=\"visible\" id=\"glyph0-12\">\n",
       "<path style=\"stroke:none;\" d=\"M 2.015625 -0.125 L 2.015625 -9.375 L 0.71875 -9.375 L 0.71875 0 L 2.015625 0 Z M 2.015625 -0.125 \"/>\n",
       "</symbol>\n",
       "<symbol overflow=\"visible\" id=\"glyph0-13\">\n",
       "<path style=\"stroke:none;\" d=\"M 6.59375 -2.5625 C 6.59375 -3.453125 6.21875 -4.15625 5.5 -4.578125 C 5.171875 -4.765625 4.921875 -4.875 3.90625 -5.171875 L 3.90625 -8.0625 C 4.609375 -8.03125 5.0625 -7.53125 5.078125 -6.484375 L 6.328125 -6.484375 C 6.328125 -8.03125 5.28125 -9.09375 3.90625 -9.203125 L 3.90625 -9.890625 L 2.90625 -9.890625 L 2.90625 -9.1875 C 1.4375 -9.015625 0.4375 -8 0.4375 -6.578125 C 0.4375 -5.78125 0.78125 -5.09375 1.359375 -4.65625 C 1.6875 -4.421875 2.125 -4.25 2.90625 -4.015625 L 2.90625 -0.84375 C 2.484375 -0.90625 2.078125 -1.109375 1.796875 -1.5 C 1.59375 -1.78125 1.609375 -1.90625 1.515625 -2.859375 L 0.28125 -2.859375 C 0.28125 -2.65625 0.265625 -2.578125 0.265625 -2.515625 C 0.265625 -0.90625 1.34375 0.1875 2.90625 0.28125 L 2.90625 1.578125 L 3.90625 1.578125 L 3.90625 0.28125 C 5.53125 0.15625 6.59375 -0.984375 6.59375 -2.5625 Z M 3.03125 -5.328125 C 2.046875 -5.59375 1.71875 -5.9375 1.71875 -6.703125 C 1.71875 -7.53125 2.109375 -7.9375 2.90625 -8.03125 L 2.90625 -5.34375 Z M 5.3125 -2.40625 C 5.3125 -1.53125 4.890625 -0.96875 3.90625 -0.84375 L 3.90625 -3.8125 C 5.046875 -3.484375 5.3125 -3.234375 5.3125 -2.40625 Z M 5.3125 -2.40625 \"/>\n",
       "</symbol>\n",
       "<symbol overflow=\"visible\" id=\"glyph0-14\">\n",
       "<path style=\"stroke:none;\" d=\"M 4.140625 -5.765625 L 4.140625 -6.9375 C 3.84375 -6.984375 3.75 -7 3.609375 -7 C 2.9375 -7 2.328125 -6.546875 1.71875 -5.578125 L 1.953125 -5.484375 L 1.953125 -6.8125 L 0.734375 -6.8125 L 0.734375 0 L 2.03125 0 L 2.03125 -3.53125 C 2.03125 -5 2.40625 -5.609375 4.140625 -5.640625 Z M 4.140625 -5.765625 \"/>\n",
       "</symbol>\n",
       "<symbol overflow=\"visible\" id=\"glyph1-0\">\n",
       "<path style=\"stroke:none;\" d=\"\"/>\n",
       "</symbol>\n",
       "<symbol overflow=\"visible\" id=\"glyph1-1\">\n",
       "<path style=\"stroke:none;\" d=\"M -4.390625 -6.46875 C -7.46875 -6.46875 -9.125 -5.359375 -9.125 -3.4375 C -9.125 -1.53125 -7.4375 -0.40625 -4.46875 -0.40625 C -1.46875 -0.40625 0.1875 -1.53125 0.1875 -3.4375 C 0.1875 -5.3125 -1.46875 -6.46875 -4.390625 -6.46875 Z M -4.484375 -5.078125 C -1.96875 -5.078125 -0.984375 -4.640625 -0.984375 -3.40625 C -0.984375 -2.25 -2.03125 -1.78125 -4.453125 -1.78125 C -6.875 -1.78125 -7.890625 -2.25 -7.890625 -3.4375 C -7.890625 -4.625 -6.859375 -5.078125 -4.484375 -5.078125 Z M -4.484375 -5.078125 \"/>\n",
       "</symbol>\n",
       "<symbol overflow=\"visible\" id=\"glyph1-2\">\n",
       "<path style=\"stroke:none;\" d=\"M -6.390625 -6.515625 C -7.890625 -6.515625 -9.125 -5.21875 -9.125 -3.546875 C -9.125 -1.734375 -8.0625 -0.546875 -5.78125 -0.484375 L -5.78125 -1.84375 C -7.40625 -1.9375 -7.90625 -2.421875 -7.90625 -3.515625 C -7.90625 -4.515625 -7.3125 -5.125 -6.359375 -5.125 C -5.65625 -5.125 -5.15625 -4.75 -4.703125 -3.96875 L -4.046875 -2.8125 C -3 -0.96875 -2.078125 -0.390625 0 -0.28125 L 0 -6.453125 L -1.34375 -6.453125 L -1.34375 -1.8125 C -1.9375 -1.90625 -2.3125 -2.265625 -2.953125 -3.34375 L -3.625 -4.59375 C -4.28125 -5.84375 -5.296875 -6.515625 -6.390625 -6.515625 Z M -6.390625 -6.515625 \"/>\n",
       "</symbol>\n",
       "<symbol overflow=\"visible\" id=\"glyph1-3\">\n",
       "<path style=\"stroke:none;\" d=\"M -2.25 -6.625 L -3.375 -6.625 L -3.375 -5.3125 L -9.125 -5.3125 L -9.125 -4.296875 L -3.453125 -0.21875 L -2.125 -0.21875 L -2.125 -3.953125 L 0 -3.953125 L 0 -5.3125 L -2.125 -5.3125 L -2.125 -6.625 Z M -3.375 -4.09375 L -3.375 -1.5625 L -7.03125 -4.171875 L -7.109375 -3.953125 L -3.375 -3.953125 Z M -3.375 -4.09375 \"/>\n",
       "</symbol>\n",
       "<symbol overflow=\"visible\" id=\"glyph1-4\">\n",
       "<path style=\"stroke:none;\" d=\"M -2.515625 -5.96875 L -2.515625 -4.796875 C -1.328125 -4.59375 -1.03125 -4.203125 -1.03125 -3.3125 C -1.03125 -2.15625 -1.78125 -1.59375 -3.34375 -1.59375 C -4.96875 -1.59375 -5.78125 -2.15625 -5.78125 -3.28125 C -5.78125 -4.15625 -5.390625 -4.578125 -4.34375 -4.71875 L -4.34375 -6.03125 C -6.078125 -5.890625 -7 -4.765625 -7 -3.296875 C -7 -1.53125 -5.515625 -0.25 -3.34375 -0.25 C -1.21875 -0.25 0.1875 -1.515625 0.1875 -3.28125 C 0.1875 -4.84375 -0.875 -5.96875 -2.515625 -6.09375 Z M -2.515625 -5.96875 \"/>\n",
       "</symbol>\n",
       "<symbol overflow=\"visible\" id=\"glyph1-5\">\n",
       "<path style=\"stroke:none;\" d=\"M -3.09375 -6.53125 C -4.046875 -6.53125 -4.65625 -6.46875 -5.140625 -6.28125 C -6.21875 -5.84375 -7 -4.71875 -7 -3.5 C -7 -1.671875 -5.515625 -0.359375 -3.359375 -0.359375 C -1.21875 -0.359375 0.1875 -1.640625 0.1875 -3.46875 C 0.1875 -4.96875 -0.78125 -6.140625 -2.25 -6.421875 L -2.25 -5.125 C -1.25 -4.796875 -1.03125 -4.34375 -1.03125 -3.515625 C -1.03125 -2.421875 -1.59375 -1.734375 -2.96875 -1.71875 L -2.96875 -6.53125 Z M -3.9375 -5.390625 C -3.9375 -5.390625 -4.0625 -5.203125 -4.09375 -5.21875 L -4.09375 -1.75 C -5.109375 -1.828125 -5.78125 -2.4375 -5.78125 -3.484375 C -5.78125 -4.515625 -5.046875 -5.15625 -4.03125 -5.15625 Z M -3.9375 -5.390625 \"/>\n",
       "</symbol>\n",
       "<symbol overflow=\"visible\" id=\"glyph1-6\">\n",
       "<path style=\"stroke:none;\" d=\"M -3.34375 -6.5 C -5.609375 -6.5 -7 -5.28125 -7 -3.40625 C -7 -1.5625 -5.59375 -0.3125 -3.40625 -0.3125 C -1.203125 -0.3125 0.1875 -1.546875 0.1875 -3.40625 C 0.1875 -5.25 -1.203125 -6.5 -3.34375 -6.5 Z M -3.359375 -5.15625 C -1.828125 -5.15625 -1.03125 -4.5625 -1.03125 -3.40625 C -1.03125 -2.25 -1.8125 -1.65625 -3.40625 -1.65625 C -4.96875 -1.65625 -5.78125 -2.25 -5.78125 -3.40625 C -5.78125 -4.59375 -4.984375 -5.15625 -3.359375 -5.15625 Z M -3.359375 -5.15625 \"/>\n",
       "</symbol>\n",
       "<symbol overflow=\"visible\" id=\"glyph1-7\">\n",
       "<path style=\"stroke:none;\" d=\"M -1.96875 -5.859375 C -2.9375 -5.859375 -3.5625 -5.1875 -3.875 -3.890625 L -4.109375 -2.890625 C -4.3125 -2.03125 -4.453125 -1.796875 -4.90625 -1.796875 C -5.515625 -1.796875 -5.78125 -2.21875 -5.78125 -3.0625 C -5.78125 -3.90625 -5.53125 -4.21875 -4.71875 -4.234375 L -4.71875 -5.59375 C -6.140625 -5.59375 -7 -4.609375 -7 -3.09375 C -7 -1.578125 -6.078125 -0.453125 -4.859375 -0.453125 C -3.84375 -0.453125 -3.21875 -1.109375 -2.84375 -2.65625 L -2.609375 -3.640625 C -2.4375 -4.359375 -2.34375 -4.515625 -1.875 -4.515625 C -1.265625 -4.515625 -1.03125 -4.03125 -1.03125 -3.125 C -1.03125 -2.1875 -1.125 -1.78125 -2.265625 -1.640625 L -2.265625 -0.28125 C -0.609375 -0.34375 0.1875 -1.328125 0.1875 -3.03125 C 0.1875 -4.6875 -0.703125 -5.859375 -1.96875 -5.859375 Z M -1.96875 -5.859375 \"/>\n",
       "</symbol>\n",
       "<symbol overflow=\"visible\" id=\"glyph1-8\">\n",
       "<path style=\"stroke:none;\" d=\"M -0.15625 -6.8125 L -1.09375 -6.8125 C -1.046875 -6.578125 -1.046875 -6.53125 -1.046875 -6.46875 C -1.046875 -6.09375 -1.09375 -6.03125 -1.421875 -6.03125 L -5.078125 -6.03125 C -6.234375 -6.03125 -7 -5.046875 -7 -3.4375 C -7 -1.84375 -6.25 -0.734375 -4.609375 -0.65625 L -4.609375 -1.96875 C -5.53125 -2.078125 -5.78125 -2.421875 -5.78125 -3.40625 C -5.78125 -4.34375 -5.546875 -4.71875 -4.921875 -4.71875 L -4.65625 -4.71875 C -4.21875 -4.71875 -4.15625 -4.59375 -4.0625 -3.78125 C -3.875 -2.296875 -3.828125 -2.078125 -3.65625 -1.671875 C -3.34375 -0.90625 -2.625 -0.390625 -1.828125 -0.390625 C -0.640625 -0.390625 0.1875 -1.34375 0.1875 -2.671875 C 0.1875 -3.515625 -0.203125 -4.40625 -0.640625 -4.828125 C -0.40625 -4.875 0.09375 -5.46875 0.09375 -5.96875 C 0.09375 -6.1875 0.0625 -6.34375 -0.046875 -6.8125 Z M -2.390625 -4.71875 C -1.453125 -4.71875 -0.984375 -3.90625 -0.984375 -2.90625 C -0.984375 -2.09375 -1.140625 -1.734375 -1.84375 -1.734375 C -2.53125 -1.734375 -2.71875 -2.078125 -2.875 -3.1875 C -3.03125 -4.28125 -3.078125 -4.515625 -3.171875 -4.71875 Z M -2.390625 -4.71875 \"/>\n",
       "</symbol>\n",
       "<symbol overflow=\"visible\" id=\"glyph1-9\">\n",
       "<path style=\"stroke:none;\" d=\"M -0.125 -2.015625 L -9.375 -2.015625 L -9.375 -0.71875 L 0 -0.71875 L 0 -2.015625 Z M -0.125 -2.015625 \"/>\n",
       "</symbol>\n",
       "<symbol overflow=\"visible\" id=\"glyph1-10\">\n",
       "<path style=\"stroke:none;\" d=\"M -0.125 -4.46875 L -9.125 -4.46875 L -9.125 -3.515625 C -7.625 -3.09375 -7.578125 -2.96875 -7.34375 -1.140625 L -6.3125 -1.140625 L -6.3125 -3.09375 L 0 -3.09375 L 0 -4.46875 Z M -0.125 -4.46875 \"/>\n",
       "</symbol>\n",
       "<symbol overflow=\"visible\" id=\"glyph1-11\">\n",
       "<path style=\"stroke:none;\" d=\"M -2.5625 -6.59375 C -3.453125 -6.59375 -4.15625 -6.21875 -4.578125 -5.5 C -4.765625 -5.171875 -4.875 -4.921875 -5.171875 -3.90625 L -8.0625 -3.90625 C -8.03125 -4.609375 -7.53125 -5.0625 -6.484375 -5.078125 L -6.484375 -6.328125 C -8.03125 -6.328125 -9.09375 -5.28125 -9.203125 -3.90625 L -9.890625 -3.90625 L -9.890625 -2.90625 L -9.1875 -2.90625 C -9.015625 -1.4375 -8 -0.4375 -6.578125 -0.4375 C -5.78125 -0.4375 -5.09375 -0.78125 -4.65625 -1.359375 C -4.421875 -1.6875 -4.25 -2.125 -4.015625 -2.90625 L -0.84375 -2.90625 C -0.90625 -2.484375 -1.109375 -2.078125 -1.5 -1.796875 C -1.78125 -1.59375 -1.90625 -1.609375 -2.859375 -1.515625 L -2.859375 -0.28125 C -2.65625 -0.28125 -2.578125 -0.265625 -2.515625 -0.265625 C -0.90625 -0.265625 0.1875 -1.34375 0.28125 -2.90625 L 1.578125 -2.90625 L 1.578125 -3.90625 L 0.28125 -3.90625 C 0.15625 -5.53125 -0.984375 -6.59375 -2.5625 -6.59375 Z M -5.328125 -3.03125 C -5.59375 -2.046875 -5.9375 -1.71875 -6.703125 -1.71875 C -7.53125 -1.71875 -7.9375 -2.109375 -8.03125 -2.90625 L -5.34375 -2.90625 Z M -2.40625 -5.3125 C -1.53125 -5.3125 -0.96875 -4.890625 -0.84375 -3.90625 L -3.8125 -3.90625 C -3.484375 -5.046875 -3.234375 -5.3125 -2.40625 -5.3125 Z M -2.40625 -5.3125 \"/>\n",
       "</symbol>\n",
       "<symbol overflow=\"visible\" id=\"glyph1-12\">\n",
       "<path style=\"stroke:none;\" d=\"M -5.765625 -4.140625 L -6.9375 -4.140625 C -6.984375 -3.84375 -7 -3.75 -7 -3.609375 C -7 -2.9375 -6.546875 -2.328125 -5.578125 -1.71875 L -5.484375 -1.953125 L -6.8125 -1.953125 L -6.8125 -0.734375 L 0 -0.734375 L 0 -2.03125 L -3.53125 -2.03125 C -5 -2.03125 -5.609375 -2.40625 -5.640625 -4.140625 Z M -5.765625 -4.140625 \"/>\n",
       "</symbol>\n",
       "<symbol overflow=\"visible\" id=\"glyph1-13\">\n",
       "<path style=\"stroke:none;\" d=\"M -6.8125 -5.96875 L -6.8125 -4.765625 L -1.578125 -2.90625 L -1.578125 -3.15625 L -6.8125 -1.453125 L -6.8125 -0.0625 L -0.09375 -2.328125 L 0.9375 -1.921875 C 1.40625 -1.75 1.4375 -1.671875 1.4375 -1.21875 C 1.4375 -1.078125 1.40625 -0.90625 1.34375 -0.53125 L 2.515625 -0.53125 C 2.640625 -0.78125 2.71875 -1.09375 2.71875 -1.375 C 2.71875 -2.109375 2.1875 -2.84375 1.25 -3.1875 L -6.8125 -6.15625 Z M -6.8125 -5.96875 \"/>\n",
       "</symbol>\n",
       "</g>\n",
       "<clipPath id=\"clip1\">\n",
       "  <path d=\"M 108 59.039062 L 116 59.039062 L 116 64 L 108 64 Z M 108 59.039062 \"/>\n",
       "</clipPath>\n",
       "<clipPath id=\"clip2\">\n",
       "  <path d=\"M 59.039062 99 L 258.757812 99 L 258.757812 122 L 59.039062 122 Z M 59.039062 99 \"/>\n",
       "</clipPath>\n",
       "</defs>\n",
       "<g id=\"surface101\">\n",
       "<rect x=\"0\" y=\"0\" width=\"288\" height=\"216\" style=\"fill:rgb(100%,100%,100%);fill-opacity:1;stroke:none;\"/>\n",
       "<path style=\"fill:none;stroke-width:1;stroke-linecap:round;stroke-linejoin:round;stroke:rgb(0%,0%,0%);stroke-opacity:1;stroke-miterlimit:10;\" d=\"M 114.445312 118.296875 C 114.445312 122.5625 108.046875 122.5625 108.046875 118.296875 C 108.046875 114.03125 114.445312 114.03125 114.445312 118.296875 \"/>\n",
       "<path style=\"fill:none;stroke-width:1;stroke-linecap:round;stroke-linejoin:round;stroke:rgb(0%,0%,0%);stroke-opacity:1;stroke-miterlimit:10;\" d=\"M 103.894531 120.113281 C 103.894531 124.378906 97.492188 124.378906 97.492188 120.113281 C 97.492188 115.847656 103.894531 115.847656 103.894531 120.113281 \"/>\n",
       "<path style=\"fill:none;stroke-width:1;stroke-linecap:round;stroke-linejoin:round;stroke:rgb(0%,0%,0%);stroke-opacity:1;stroke-miterlimit:10;\" d=\"M 145.441406 117.773438 C 145.441406 122.042969 139.042969 122.042969 139.042969 117.773438 C 139.042969 113.507812 145.441406 113.507812 145.441406 117.773438 \"/>\n",
       "<path style=\"fill:none;stroke-width:1;stroke-linecap:round;stroke-linejoin:round;stroke:rgb(0%,0%,0%);stroke-opacity:1;stroke-miterlimit:10;\" d=\"M 87.40625 128.292969 C 87.40625 132.558594 81.007812 132.558594 81.007812 128.292969 C 81.007812 124.023438 87.40625 124.023438 87.40625 128.292969 \"/>\n",
       "<path style=\"fill:none;stroke-width:1;stroke-linecap:round;stroke-linejoin:round;stroke:rgb(0%,0%,0%);stroke-opacity:1;stroke-miterlimit:10;\" d=\"M 113.457031 113.019531 C 113.457031 117.285156 107.054688 117.285156 107.054688 113.019531 C 107.054688 108.753906 113.457031 108.753906 113.457031 113.019531 \"/>\n",
       "<path style=\"fill:none;stroke-width:1;stroke-linecap:round;stroke-linejoin:round;stroke:rgb(0%,0%,0%);stroke-opacity:1;stroke-miterlimit:10;\" d=\"M 133.902344 117.328125 C 133.902344 121.597656 127.5 121.597656 127.5 117.328125 C 127.5 113.0625 133.902344 113.0625 133.902344 117.328125 \"/>\n",
       "<path style=\"fill:none;stroke-width:1;stroke-linecap:round;stroke-linejoin:round;stroke:rgb(0%,0%,0%);stroke-opacity:1;stroke-miterlimit:10;\" d=\"M 122.03125 118.625 C 122.03125 122.890625 115.628906 122.890625 115.628906 118.625 C 115.628906 114.359375 122.03125 114.359375 122.03125 118.625 \"/>\n",
       "<path style=\"fill:none;stroke-width:1;stroke-linecap:round;stroke-linejoin:round;stroke:rgb(0%,0%,0%);stroke-opacity:1;stroke-miterlimit:10;\" d=\"M 121.699219 118.316406 C 121.699219 122.582031 115.300781 122.582031 115.300781 118.316406 C 115.300781 114.050781 121.699219 114.050781 121.699219 118.316406 \"/>\n",
       "<path style=\"fill:none;stroke-width:1;stroke-linecap:round;stroke-linejoin:round;stroke:rgb(0%,0%,0%);stroke-opacity:1;stroke-miterlimit:10;\" d=\"M 102.574219 115.550781 C 102.574219 119.816406 96.175781 119.816406 96.175781 115.550781 C 96.175781 111.285156 102.574219 111.285156 102.574219 115.550781 \"/>\n",
       "<path style=\"fill:none;stroke-width:1;stroke-linecap:round;stroke-linejoin:round;stroke:rgb(0%,0%,0%);stroke-opacity:1;stroke-miterlimit:10;\" d=\"M 154.675781 123.363281 C 154.675781 127.628906 148.273438 127.628906 148.273438 123.363281 C 148.273438 119.09375 154.675781 119.09375 154.675781 123.363281 \"/>\n",
       "<path style=\"fill:none;stroke-width:1;stroke-linecap:round;stroke-linejoin:round;stroke:rgb(0%,0%,0%);stroke-opacity:1;stroke-miterlimit:10;\" d=\"M 153.355469 128.503906 C 153.355469 132.769531 146.957031 132.769531 146.957031 128.503906 C 146.957031 124.238281 153.355469 124.238281 153.355469 128.503906 \"/>\n",
       "<path style=\"fill:none;stroke-width:1;stroke-linecap:round;stroke-linejoin:round;stroke:rgb(0%,0%,0%);stroke-opacity:1;stroke-miterlimit:10;\" d=\"M 156.324219 121.429688 C 156.324219 125.695312 149.925781 125.695312 149.925781 121.429688 C 149.925781 117.160156 156.324219 117.160156 156.324219 121.429688 \"/>\n",
       "<path style=\"fill:none;stroke-width:1;stroke-linecap:round;stroke-linejoin:round;stroke:rgb(0%,0%,0%);stroke-opacity:1;stroke-miterlimit:10;\" d=\"M 116.753906 113.578125 C 116.753906 117.847656 110.355469 117.847656 110.355469 113.578125 C 110.355469 109.3125 116.753906 109.3125 116.753906 113.578125 \"/>\n",
       "<path style=\"fill:none;stroke-width:1;stroke-linecap:round;stroke-linejoin:round;stroke:rgb(0%,0%,0%);stroke-opacity:1;stroke-miterlimit:10;\" d=\"M 141.484375 121.351562 C 141.484375 125.617188 135.085938 125.617188 135.085938 121.351562 C 135.085938 117.085938 141.484375 117.085938 141.484375 121.351562 \"/>\n",
       "<path style=\"fill:none;stroke-width:1;stroke-linecap:round;stroke-linejoin:round;stroke:rgb(0%,0%,0%);stroke-opacity:1;stroke-miterlimit:10;\" d=\"M 253.601562 100.585938 C 253.601562 104.855469 247.199219 104.855469 247.199219 100.585938 C 247.199219 96.320312 253.601562 96.320312 253.601562 100.585938 \"/>\n",
       "<path style=\"fill:none;stroke-width:1;stroke-linecap:round;stroke-linejoin:round;stroke:rgb(0%,0%,0%);stroke-opacity:1;stroke-miterlimit:10;\" d=\"M 109.5 108.824219 C 109.5 113.089844 103.101562 113.089844 103.101562 108.824219 C 103.101562 104.558594 109.5 104.558594 109.5 108.824219 \"/>\n",
       "<path style=\"fill:none;stroke-width:1;stroke-linecap:round;stroke-linejoin:round;stroke:rgb(0%,0%,0%);stroke-opacity:1;stroke-miterlimit:10;\" d=\"M 135.21875 121.96875 C 135.21875 126.238281 128.820312 126.238281 128.820312 121.96875 C 128.820312 117.703125 135.21875 117.703125 135.21875 121.96875 \"/>\n",
       "<path style=\"fill:none;stroke-width:1;stroke-linecap:round;stroke-linejoin:round;stroke:rgb(0%,0%,0%);stroke-opacity:1;stroke-miterlimit:10;\" d=\"M 74.214844 119.011719 C 74.214844 123.277344 67.816406 123.277344 67.816406 119.011719 C 67.816406 114.746094 74.214844 114.746094 74.214844 119.011719 \"/>\n",
       "<path style=\"fill:none;stroke-width:1;stroke-linecap:round;stroke-linejoin:round;stroke:rgb(0%,0%,0%);stroke-opacity:1;stroke-miterlimit:10;\" d=\"M 133.570312 121.640625 C 133.570312 125.90625 127.171875 125.90625 127.171875 121.640625 C 127.171875 117.375 133.570312 117.375 133.570312 121.640625 \"/>\n",
       "<path style=\"fill:none;stroke-width:1;stroke-linecap:round;stroke-linejoin:round;stroke:rgb(0%,0%,0%);stroke-opacity:1;stroke-miterlimit:10;\" d=\"M 118.734375 115.878906 C 118.734375 120.148438 112.332031 120.148438 112.332031 115.878906 C 112.332031 111.613281 118.734375 111.613281 118.734375 115.878906 \"/>\n",
       "<path style=\"fill:none;stroke-width:1;stroke-linecap:round;stroke-linejoin:round;stroke:rgb(0%,0%,0%);stroke-opacity:1;stroke-miterlimit:10;\" d=\"M 195.5625 119.707031 C 195.5625 123.976562 189.164062 123.976562 189.164062 119.707031 C 189.164062 115.441406 195.5625 115.441406 195.5625 119.707031 \"/>\n",
       "<path style=\"fill:none;stroke-width:1;stroke-linecap:round;stroke-linejoin:round;stroke:rgb(0%,0%,0%);stroke-opacity:1;stroke-miterlimit:10;\" d=\"M 122.03125 124.792969 C 122.03125 129.058594 115.628906 129.058594 115.628906 124.792969 C 115.628906 120.527344 122.03125 120.527344 122.03125 124.792969 \"/>\n",
       "<path style=\"fill:none;stroke-width:1;stroke-linecap:round;stroke-linejoin:round;stroke:rgb(0%,0%,0%);stroke-opacity:1;stroke-miterlimit:10;\" d=\"M 148.410156 112.128906 C 148.410156 116.394531 142.011719 116.394531 142.011719 112.128906 C 142.011719 107.863281 148.410156 107.863281 148.410156 112.128906 \"/>\n",
       "<path style=\"fill:none;stroke-width:1;stroke-linecap:round;stroke-linejoin:round;stroke:rgb(0%,0%,0%);stroke-opacity:1;stroke-miterlimit:10;\" d=\"M 119.390625 119.339844 C 119.390625 123.605469 112.992188 123.605469 112.992188 119.339844 C 112.992188 115.074219 119.390625 115.074219 119.390625 119.339844 \"/>\n",
       "<path style=\"fill:none;stroke-width:1;stroke-linecap:round;stroke-linejoin:round;stroke:rgb(0%,0%,0%);stroke-opacity:1;stroke-miterlimit:10;\" d=\"M 115.433594 106.832031 C 115.433594 111.097656 109.035156 111.097656 109.035156 106.832031 C 109.035156 102.566406 115.433594 102.566406 115.433594 106.832031 \"/>\n",
       "<path style=\"fill:none;stroke-width:1;stroke-linecap:round;stroke-linejoin:round;stroke:rgb(0%,0%,0%);stroke-opacity:1;stroke-miterlimit:10;\" d=\"M 130.605469 81.796875 C 130.605469 86.0625 124.203125 86.0625 124.203125 81.796875 C 124.203125 77.527344 130.605469 77.527344 130.605469 81.796875 \"/>\n",
       "<path style=\"fill:none;stroke-width:1;stroke-linecap:round;stroke-linejoin:round;stroke:rgb(0%,0%,0%);stroke-opacity:1;stroke-miterlimit:10;\" d=\"M 121.039062 117.039062 C 121.039062 121.308594 114.640625 121.308594 114.640625 117.039062 C 114.640625 112.773438 121.039062 112.773438 121.039062 117.039062 \"/>\n",
       "<path style=\"fill:none;stroke-width:1;stroke-linecap:round;stroke-linejoin:round;stroke:rgb(0%,0%,0%);stroke-opacity:1;stroke-miterlimit:10;\" d=\"M 107.851562 65.148438 C 107.851562 69.414062 101.449219 69.414062 101.449219 65.148438 C 101.449219 60.882812 107.851562 60.882812 107.851562 65.148438 \"/>\n",
       "<path style=\"fill:none;stroke-width:1;stroke-linecap:round;stroke-linejoin:round;stroke:rgb(0%,0%,0%);stroke-opacity:1;stroke-miterlimit:10;\" d=\"M 121.371094 130.265625 C 121.371094 134.53125 114.96875 134.53125 114.96875 130.265625 C 114.96875 125.996094 121.371094 125.996094 121.371094 130.265625 \"/>\n",
       "<path style=\"fill:none;stroke-width:1;stroke-linecap:round;stroke-linejoin:round;stroke:rgb(0%,0%,0%);stroke-opacity:1;stroke-miterlimit:10;\" d=\"M 128.625 110.621094 C 128.625 114.886719 122.226562 114.886719 122.226562 110.621094 C 122.226562 106.355469 128.625 106.355469 128.625 110.621094 \"/>\n",
       "<path style=\"fill:none;stroke-width:1;stroke-linecap:round;stroke-linejoin:round;stroke:rgb(0%,0%,0%);stroke-opacity:1;stroke-miterlimit:10;\" d=\"M 114.777344 119.667969 C 114.777344 123.9375 108.375 123.9375 108.375 119.667969 C 108.375 115.402344 114.777344 115.402344 114.777344 119.667969 \"/>\n",
       "<path style=\"fill:none;stroke-width:1;stroke-linecap:round;stroke-linejoin:round;stroke:rgb(0%,0%,0%);stroke-opacity:1;stroke-miterlimit:10;\" d=\"M 117.082031 108.667969 C 117.082031 112.933594 110.683594 112.933594 110.683594 108.667969 C 110.683594 104.402344 117.082031 104.402344 117.082031 108.667969 \"/>\n",
       "<path style=\"fill:none;stroke-width:1;stroke-linecap:round;stroke-linejoin:round;stroke:rgb(0%,0%,0%);stroke-opacity:1;stroke-miterlimit:10;\" d=\"M 108.839844 131.210938 C 108.839844 135.476562 102.441406 135.476562 102.441406 131.210938 C 102.441406 126.945312 108.839844 126.945312 108.839844 131.210938 \"/>\n",
       "<path style=\"fill:none;stroke-width:1;stroke-linecap:round;stroke-linejoin:round;stroke:rgb(0%,0%,0%);stroke-opacity:1;stroke-miterlimit:10;\" d=\"M 124.339844 123.4375 C 124.339844 127.707031 117.9375 127.707031 117.9375 123.4375 C 117.9375 119.171875 124.339844 119.171875 124.339844 123.4375 \"/>\n",
       "<path style=\"fill:none;stroke-width:1;stroke-linecap:round;stroke-linejoin:round;stroke:rgb(0%,0%,0%);stroke-opacity:1;stroke-miterlimit:10;\" d=\"M 123.679688 124.058594 C 123.679688 128.324219 117.277344 128.324219 117.277344 124.058594 C 117.277344 119.792969 123.679688 119.792969 123.679688 124.058594 \"/>\n",
       "<path style=\"fill:none;stroke-width:1;stroke-linecap:round;stroke-linejoin:round;stroke:rgb(0%,0%,0%);stroke-opacity:1;stroke-miterlimit:10;\" d=\"M 127.636719 128.3125 C 127.636719 132.578125 121.234375 132.578125 121.234375 128.3125 C 121.234375 124.042969 127.636719 124.042969 127.636719 128.3125 \"/>\n",
       "<path style=\"fill:none;stroke-width:1;stroke-linecap:round;stroke-linejoin:round;stroke:rgb(0%,0%,0%);stroke-opacity:1;stroke-miterlimit:10;\" d=\"M 103.894531 113.519531 C 103.894531 117.789062 97.492188 117.789062 97.492188 113.519531 C 97.492188 109.253906 103.894531 109.253906 103.894531 113.519531 \"/>\n",
       "<path style=\"fill:none;stroke-width:1;stroke-linecap:round;stroke-linejoin:round;stroke:rgb(0%,0%,0%);stroke-opacity:1;stroke-miterlimit:10;\" d=\"M 131.59375 105.167969 C 131.59375 109.4375 125.191406 109.4375 125.191406 105.167969 C 125.191406 100.902344 131.59375 100.902344 131.59375 105.167969 \"/>\n",
       "<path style=\"fill:none;stroke-width:1;stroke-linecap:round;stroke-linejoin:round;stroke:rgb(0%,0%,0%);stroke-opacity:1;stroke-miterlimit:10;\" d=\"M 128.296875 125.757812 C 128.296875 130.027344 121.894531 130.027344 121.894531 125.757812 C 121.894531 121.492188 128.296875 121.492188 128.296875 125.757812 \"/>\n",
       "<path style=\"fill:none;stroke-width:1;stroke-linecap:round;stroke-linejoin:round;stroke:rgb(0%,0%,0%);stroke-opacity:1;stroke-miterlimit:10;\" d=\"M 128.625 122.839844 C 128.625 127.105469 122.226562 127.105469 122.226562 122.839844 C 122.226562 118.574219 128.625 118.574219 128.625 122.839844 \"/>\n",
       "<path style=\"fill:none;stroke-width:1;stroke-linecap:round;stroke-linejoin:round;stroke:rgb(0%,0%,0%);stroke-opacity:1;stroke-miterlimit:10;\" d=\"M 113.457031 113.636719 C 113.457031 117.902344 107.054688 117.902344 107.054688 113.636719 C 107.054688 109.371094 113.457031 109.371094 113.457031 113.636719 \"/>\n",
       "<path style=\"fill:none;stroke-width:1;stroke-linecap:round;stroke-linejoin:round;stroke:rgb(0%,0%,0%);stroke-opacity:1;stroke-miterlimit:10;\" d=\"M 113.125 129.492188 C 113.125 133.757812 106.726562 133.757812 106.726562 129.492188 C 106.726562 125.222656 113.125 125.222656 113.125 129.492188 \"/>\n",
       "<path style=\"fill:none;stroke-width:1;stroke-linecap:round;stroke-linejoin:round;stroke:rgb(0%,0%,0%);stroke-opacity:1;stroke-miterlimit:10;\" d=\"M 109.828125 121.46875 C 109.828125 125.734375 103.429688 125.734375 103.429688 121.46875 C 103.429688 117.199219 109.828125 117.199219 109.828125 121.46875 \"/>\n",
       "<path style=\"fill:none;stroke-width:1;stroke-linecap:round;stroke-linejoin:round;stroke:rgb(0%,0%,0%);stroke-opacity:1;stroke-miterlimit:10;\" d=\"M 117.742188 123.710938 C 117.742188 127.976562 111.34375 127.976562 111.34375 123.710938 C 111.34375 119.441406 117.742188 119.441406 117.742188 123.710938 \"/>\n",
       "<path style=\"fill:none;stroke-width:1;stroke-linecap:round;stroke-linejoin:round;stroke:rgb(0%,0%,0%);stroke-opacity:1;stroke-miterlimit:10;\" d=\"M 122.359375 106.96875 C 122.359375 111.234375 115.960938 111.234375 115.960938 106.96875 C 115.960938 102.699219 122.359375 102.699219 122.359375 106.96875 \"/>\n",
       "<path style=\"fill:none;stroke-width:1;stroke-linecap:round;stroke-linejoin:round;stroke:rgb(0%,0%,0%);stroke-opacity:1;stroke-miterlimit:10;\" d=\"M 101.585938 128.484375 C 101.585938 132.753906 95.1875 132.753906 95.1875 128.484375 C 95.1875 124.21875 101.585938 124.21875 101.585938 128.484375 \"/>\n",
       "<path style=\"fill:none;stroke-width:1;stroke-linecap:round;stroke-linejoin:round;stroke:rgb(0%,0%,0%);stroke-opacity:1;stroke-miterlimit:10;\" d=\"M 132.582031 124.484375 C 132.582031 128.75 126.183594 128.75 126.183594 124.484375 C 126.183594 120.214844 132.582031 120.214844 132.582031 124.484375 \"/>\n",
       "<path style=\"fill:none;stroke-width:1;stroke-linecap:round;stroke-linejoin:round;stroke:rgb(0%,0%,0%);stroke-opacity:1;stroke-miterlimit:10;\" d=\"M 110.160156 116.5 C 110.160156 120.765625 103.757812 120.765625 103.757812 116.5 C 103.757812 112.230469 110.160156 112.230469 110.160156 116.5 \"/>\n",
       "<path style=\"fill:none;stroke-width:1;stroke-linecap:round;stroke-linejoin:round;stroke:rgb(0%,0%,0%);stroke-opacity:1;stroke-miterlimit:10;\" d=\"M 120.382812 124.347656 C 120.382812 128.613281 113.980469 128.613281 113.980469 124.347656 C 113.980469 120.082031 120.382812 120.082031 120.382812 124.347656 \"/>\n",
       "<path style=\"fill:none;stroke-width:1;stroke-linecap:round;stroke-linejoin:round;stroke:rgb(0%,0%,0%);stroke-opacity:1;stroke-miterlimit:10;\" d=\"M 124.996094 116.847656 C 124.996094 121.113281 118.597656 121.113281 118.597656 116.847656 C 118.597656 112.578125 124.996094 112.578125 124.996094 116.847656 \"/>\n",
       "<path style=\"fill:none;stroke-width:1;stroke-linecap:round;stroke-linejoin:round;stroke:rgb(0%,0%,0%);stroke-opacity:1;stroke-miterlimit:10;\" d=\"M 95.980469 111.066406 C 95.980469 115.332031 89.578125 115.332031 89.578125 111.066406 C 89.578125 106.800781 95.980469 106.800781 95.980469 111.066406 \"/>\n",
       "<path style=\"fill:none;stroke-width:1;stroke-linecap:round;stroke-linejoin:round;stroke:rgb(0%,0%,0%);stroke-opacity:1;stroke-miterlimit:10;\" d=\"M 122.03125 121.757812 C 122.03125 126.023438 115.628906 126.023438 115.628906 121.757812 C 115.628906 117.492188 122.03125 117.492188 122.03125 121.757812 \"/>\n",
       "<path style=\"fill:none;stroke-width:1;stroke-linecap:round;stroke-linejoin:round;stroke:rgb(0%,0%,0%);stroke-opacity:1;stroke-miterlimit:10;\" d=\"M 132.253906 118.78125 C 132.253906 123.046875 125.851562 123.046875 125.851562 118.78125 C 125.851562 114.511719 132.253906 114.511719 132.253906 118.78125 \"/>\n",
       "<path style=\"fill:none;stroke-width:1;stroke-linecap:round;stroke-linejoin:round;stroke:rgb(0%,0%,0%);stroke-opacity:1;stroke-miterlimit:10;\" d=\"M 131.261719 122.183594 C 131.261719 126.449219 124.863281 126.449219 124.863281 122.183594 C 124.863281 117.914062 131.261719 117.914062 131.261719 122.183594 \"/>\n",
       "<path style=\"fill:none;stroke-width:1;stroke-linecap:round;stroke-linejoin:round;stroke:rgb(0%,0%,0%);stroke-opacity:1;stroke-miterlimit:10;\" d=\"M 120.382812 123.4375 C 120.382812 127.707031 113.980469 127.707031 113.980469 123.4375 C 113.980469 119.171875 120.382812 119.171875 120.382812 123.4375 \"/>\n",
       "<path style=\"fill:none;stroke-width:1;stroke-linecap:round;stroke-linejoin:round;stroke:rgb(0%,0%,0%);stroke-opacity:1;stroke-miterlimit:10;\" d=\"M 133.570312 124.386719 C 133.570312 128.652344 127.171875 128.652344 127.171875 124.386719 C 127.171875 120.121094 133.570312 120.121094 133.570312 124.386719 \"/>\n",
       "<path style=\"fill:none;stroke-width:1;stroke-linecap:round;stroke-linejoin:round;stroke:rgb(0%,0%,0%);stroke-opacity:1;stroke-miterlimit:10;\" d=\"M 160.609375 94.476562 C 160.609375 98.746094 154.210938 98.746094 154.210938 94.476562 C 154.210938 90.210938 160.609375 90.210938 160.609375 94.476562 \"/>\n",
       "<path style=\"fill:none;stroke-width:1;stroke-linecap:round;stroke-linejoin:round;stroke:rgb(0%,0%,0%);stroke-opacity:1;stroke-miterlimit:10;\" d=\"M 150.386719 125.605469 C 150.386719 129.871094 143.988281 129.871094 143.988281 125.605469 C 143.988281 121.339844 150.386719 121.339844 150.386719 125.605469 \"/>\n",
       "<path style=\"fill:none;stroke-width:1;stroke-linecap:round;stroke-linejoin:round;stroke:rgb(0%,0%,0%);stroke-opacity:1;stroke-miterlimit:10;\" d=\"M 117.414062 113.019531 C 117.414062 117.285156 111.011719 117.285156 111.011719 113.019531 C 111.011719 108.753906 117.414062 108.753906 117.414062 113.019531 \"/>\n",
       "<path style=\"fill:none;stroke-width:1;stroke-linecap:round;stroke-linejoin:round;stroke:rgb(0%,0%,0%);stroke-opacity:1;stroke-miterlimit:10;\" d=\"M 109.5 100.257812 C 109.5 104.523438 103.101562 104.523438 103.101562 100.257812 C 103.101562 95.992188 109.5 95.992188 109.5 100.257812 \"/>\n",
       "<path style=\"fill:none;stroke-width:1;stroke-linecap:round;stroke-linejoin:round;stroke:rgb(0%,0%,0%);stroke-opacity:1;stroke-miterlimit:10;\" d=\"M 134.890625 116.363281 C 134.890625 120.628906 128.492188 120.628906 128.492188 116.363281 C 128.492188 112.097656 134.890625 112.097656 134.890625 116.363281 \"/>\n",
       "<path style=\"fill:none;stroke-width:1;stroke-linecap:round;stroke-linejoin:round;stroke:rgb(0%,0%,0%);stroke-opacity:1;stroke-miterlimit:10;\" d=\"M 142.804688 134.515625 C 142.804688 138.785156 136.40625 138.785156 136.40625 134.515625 C 136.40625 130.25 142.804688 130.25 142.804688 134.515625 \"/>\n",
       "<path style=\"fill:none;stroke-width:1;stroke-linecap:round;stroke-linejoin:round;stroke:rgb(0%,0%,0%);stroke-opacity:1;stroke-miterlimit:10;\" d=\"M 116.753906 124.484375 C 116.753906 128.75 110.355469 128.75 110.355469 124.484375 C 110.355469 120.214844 116.753906 120.214844 116.753906 124.484375 \"/>\n",
       "<path style=\"fill:none;stroke-width:1;stroke-linecap:round;stroke-linejoin:round;stroke:rgb(0%,0%,0%);stroke-opacity:1;stroke-miterlimit:10;\" d=\"M 111.476562 112.265625 C 111.476562 116.53125 105.078125 116.53125 105.078125 112.265625 C 105.078125 107.996094 111.476562 107.996094 111.476562 112.265625 \"/>\n",
       "<path style=\"fill:none;stroke-width:1;stroke-linecap:round;stroke-linejoin:round;stroke:rgb(0%,0%,0%);stroke-opacity:1;stroke-miterlimit:10;\" d=\"M 101.914062 128.96875 C 101.914062 133.234375 95.515625 133.234375 95.515625 128.96875 C 95.515625 124.703125 101.914062 124.703125 101.914062 128.96875 \"/>\n",
       "<path style=\"fill:none;stroke-width:1;stroke-linecap:round;stroke-linejoin:round;stroke:rgb(0%,0%,0%);stroke-opacity:1;stroke-miterlimit:10;\" d=\"M 126.316406 122.570312 C 126.316406 126.835938 119.917969 126.835938 119.917969 122.570312 C 119.917969 118.300781 126.316406 118.300781 126.316406 122.570312 \"/>\n",
       "<path style=\"fill:none;stroke-width:1;stroke-linecap:round;stroke-linejoin:round;stroke:rgb(0%,0%,0%);stroke-opacity:1;stroke-miterlimit:10;\" d=\"M 100.925781 114.585938 C 100.925781 118.851562 94.527344 118.851562 94.527344 114.585938 C 94.527344 110.316406 100.925781 110.316406 100.925781 114.585938 \"/>\n",
       "<path style=\"fill:none;stroke-width:1;stroke-linecap:round;stroke-linejoin:round;stroke:rgb(0%,0%,0%);stroke-opacity:1;stroke-miterlimit:10;\" d=\"M 119.390625 115.339844 C 119.390625 119.605469 112.992188 119.605469 112.992188 115.339844 C 112.992188 111.070312 119.390625 111.070312 119.390625 115.339844 \"/>\n",
       "<path style=\"fill:none;stroke-width:1;stroke-linecap:round;stroke-linejoin:round;stroke:rgb(0%,0%,0%);stroke-opacity:1;stroke-miterlimit:10;\" d=\"M 90.375 122.550781 C 90.375 126.816406 83.972656 126.816406 83.972656 122.550781 C 83.972656 118.285156 90.375 118.285156 90.375 122.550781 \"/>\n",
       "<path style=\"fill:none;stroke-width:1;stroke-linecap:round;stroke-linejoin:round;stroke:rgb(0%,0%,0%);stroke-opacity:1;stroke-miterlimit:10;\" d=\"M 108.839844 121.582031 C 108.839844 125.851562 102.441406 125.851562 102.441406 121.582031 C 102.441406 117.316406 108.839844 117.316406 108.839844 121.582031 \"/>\n",
       "<path style=\"fill:none;stroke-width:1;stroke-linecap:round;stroke-linejoin:round;stroke:rgb(0%,0%,0%);stroke-opacity:1;stroke-miterlimit:10;\" d=\"M 111.148438 124.039062 C 111.148438 128.304688 104.75 128.304688 104.75 124.039062 C 104.75 119.773438 111.148438 119.773438 111.148438 124.039062 \"/>\n",
       "<path style=\"fill:none;stroke-width:1;stroke-linecap:round;stroke-linejoin:round;stroke:rgb(0%,0%,0%);stroke-opacity:1;stroke-miterlimit:10;\" d=\"M 120.050781 124.773438 C 120.050781 129.039062 113.652344 129.039062 113.652344 124.773438 C 113.652344 120.507812 120.050781 120.507812 120.050781 124.773438 \"/>\n",
       "<path style=\"fill:none;stroke-width:1;stroke-linecap:round;stroke-linejoin:round;stroke:rgb(0%,0%,0%);stroke-opacity:1;stroke-miterlimit:10;\" d=\"M 110.160156 127.867188 C 110.160156 132.132812 103.757812 132.132812 103.757812 127.867188 C 103.757812 123.601562 110.160156 123.601562 110.160156 127.867188 \"/>\n",
       "<path style=\"fill:none;stroke-width:1;stroke-linecap:round;stroke-linejoin:round;stroke:rgb(0%,0%,0%);stroke-opacity:1;stroke-miterlimit:10;\" d=\"M 118.402344 120.308594 C 118.402344 124.574219 112.003906 124.574219 112.003906 120.308594 C 112.003906 116.039062 118.402344 116.039062 118.402344 120.308594 \"/>\n",
       "<path style=\"fill:none;stroke-width:1;stroke-linecap:round;stroke-linejoin:round;stroke:rgb(0%,0%,0%);stroke-opacity:1;stroke-miterlimit:10;\" d=\"M 69.601562 109.113281 C 69.601562 113.378906 63.199219 113.378906 63.199219 109.113281 C 63.199219 104.847656 69.601562 104.847656 69.601562 109.113281 \"/>\n",
       "<path style=\"fill:none;stroke-width:1;stroke-linecap:round;stroke-linejoin:round;stroke:rgb(0%,0%,0%);stroke-opacity:1;stroke-miterlimit:10;\" d=\"M 122.359375 121.855469 C 122.359375 126.121094 115.960938 126.121094 115.960938 121.855469 C 115.960938 117.585938 122.359375 117.585938 122.359375 121.855469 \"/>\n",
       "<path style=\"fill:none;stroke-width:1;stroke-linecap:round;stroke-linejoin:round;stroke:rgb(0%,0%,0%);stroke-opacity:1;stroke-miterlimit:10;\" d=\"M 117.742188 113.171875 C 117.742188 117.441406 111.34375 117.441406 111.34375 113.171875 C 111.34375 108.90625 117.742188 108.90625 117.742188 113.171875 \"/>\n",
       "<path style=\"fill:none;stroke-width:1;stroke-linecap:round;stroke-linejoin:round;stroke:rgb(0%,0%,0%);stroke-opacity:1;stroke-miterlimit:10;\" d=\"M 110.820312 125.933594 C 110.820312 130.199219 104.417969 130.199219 104.417969 125.933594 C 104.417969 121.667969 110.820312 121.667969 110.820312 125.933594 \"/>\n",
       "<path style=\"fill:none;stroke-width:1;stroke-linecap:round;stroke-linejoin:round;stroke:rgb(0%,0%,0%);stroke-opacity:1;stroke-miterlimit:10;\" d=\"M 104.554688 125.140625 C 104.554688 129.40625 98.152344 129.40625 98.152344 125.140625 C 98.152344 120.875 104.554688 120.875 104.554688 125.140625 \"/>\n",
       "<path style=\"fill:none;stroke-width:1;stroke-linecap:round;stroke-linejoin:round;stroke:rgb(0%,0%,0%);stroke-opacity:1;stroke-miterlimit:10;\" d=\"M 97.300781 118.257812 C 97.300781 122.523438 90.898438 122.523438 90.898438 118.257812 C 90.898438 113.992188 97.300781 113.992188 97.300781 118.257812 \"/>\n",
       "<path style=\"fill:none;stroke-width:1;stroke-linecap:round;stroke-linejoin:round;stroke:rgb(0%,0%,0%);stroke-opacity:1;stroke-miterlimit:10;\" d=\"M 125.65625 121.042969 C 125.65625 125.308594 119.257812 125.308594 119.257812 121.042969 C 119.257812 116.773438 125.65625 116.773438 125.65625 121.042969 \"/>\n",
       "<path style=\"fill:none;stroke-width:1;stroke-linecap:round;stroke-linejoin:round;stroke:rgb(0%,0%,0%);stroke-opacity:1;stroke-miterlimit:10;\" d=\"M 120.382812 130.941406 C 120.382812 135.207031 113.980469 135.207031 113.980469 130.941406 C 113.980469 126.675781 120.382812 126.675781 120.382812 130.941406 \"/>\n",
       "<path style=\"fill:none;stroke-width:1;stroke-linecap:round;stroke-linejoin:round;stroke:rgb(0%,0%,0%);stroke-opacity:1;stroke-miterlimit:10;\" d=\"M 114.777344 127.964844 C 114.777344 132.230469 108.375 132.230469 108.375 127.964844 C 108.375 123.695312 114.777344 123.695312 114.777344 127.964844 \"/>\n",
       "<path style=\"fill:none;stroke-width:1;stroke-linecap:round;stroke-linejoin:round;stroke:rgb(0%,0%,0%);stroke-opacity:1;stroke-miterlimit:10;\" d=\"M 98.617188 118.839844 C 98.617188 123.105469 92.21875 123.105469 92.21875 118.839844 C 92.21875 114.570312 98.617188 114.570312 98.617188 118.839844 \"/>\n",
       "<path style=\"fill:none;stroke-width:1;stroke-linecap:round;stroke-linejoin:round;stroke:rgb(0%,0%,0%);stroke-opacity:1;stroke-miterlimit:10;\" d=\"M 99.277344 114.371094 C 99.277344 118.636719 92.878906 118.636719 92.878906 114.371094 C 92.878906 110.105469 99.277344 110.105469 99.277344 114.371094 \"/>\n",
       "<path style=\"fill:none;stroke-width:1;stroke-linecap:round;stroke-linejoin:round;stroke:rgb(0%,0%,0%);stroke-opacity:1;stroke-miterlimit:10;\" d=\"M 119.0625 104.707031 C 119.0625 108.972656 112.664062 108.972656 112.664062 104.707031 C 112.664062 100.4375 119.0625 100.4375 119.0625 104.707031 \"/>\n",
       "<g clip-path=\"url(#clip1)\" clip-rule=\"nonzero\">\n",
       "<path style=\"fill:none;stroke-width:1;stroke-linecap:round;stroke-linejoin:round;stroke:rgb(0%,0%,0%);stroke-opacity:1;stroke-miterlimit:10;\" d=\"M 115.433594 59.367188 C 115.433594 63.636719 109.035156 63.636719 109.035156 59.367188 C 109.035156 55.101562 115.433594 55.101562 115.433594 59.367188 \"/>\n",
       "</g>\n",
       "<path style=\"fill:none;stroke-width:1;stroke-linecap:round;stroke-linejoin:round;stroke:rgb(0%,0%,0%);stroke-opacity:1;stroke-miterlimit:10;\" d=\"M 104.554688 113.636719 C 104.554688 117.902344 98.152344 117.902344 98.152344 113.636719 C 98.152344 109.371094 104.554688 109.371094 104.554688 113.636719 \"/>\n",
       "<path style=\"fill:none;stroke-width:1;stroke-linecap:round;stroke-linejoin:round;stroke:rgb(0%,0%,0%);stroke-opacity:1;stroke-miterlimit:10;\" d=\"M 120.382812 105.632812 C 120.382812 109.898438 113.980469 109.898438 113.980469 105.632812 C 113.980469 101.367188 120.382812 101.367188 120.382812 105.632812 \"/>\n",
       "<path style=\"fill:none;stroke-width:1;stroke-linecap:round;stroke-linejoin:round;stroke:rgb(0%,0%,0%);stroke-opacity:1;stroke-miterlimit:10;\" d=\"M 122.03125 121.835938 C 122.03125 126.101562 115.628906 126.101562 115.628906 121.835938 C 115.628906 117.566406 122.03125 117.566406 122.03125 121.835938 \"/>\n",
       "<path style=\"fill:none;stroke-width:1;stroke-linecap:round;stroke-linejoin:round;stroke:rgb(0%,0%,0%);stroke-opacity:1;stroke-miterlimit:10;\" d=\"M 96.308594 102.886719 C 96.308594 107.15625 89.910156 107.15625 89.910156 102.886719 C 89.910156 98.621094 96.308594 98.621094 96.308594 102.886719 \"/>\n",
       "<path style=\"fill:none;stroke-width:1;stroke-linecap:round;stroke-linejoin:round;stroke:rgb(0%,0%,0%);stroke-opacity:1;stroke-miterlimit:10;\" d=\"M 149.070312 123.363281 C 149.070312 127.628906 142.667969 127.628906 142.667969 123.363281 C 142.667969 119.09375 149.070312 119.09375 149.070312 123.363281 \"/>\n",
       "<path style=\"fill:none;stroke-width:1;stroke-linecap:round;stroke-linejoin:round;stroke:rgb(0%,0%,0%);stroke-opacity:1;stroke-miterlimit:10;\" d=\"M 118.734375 117.386719 C 118.734375 121.65625 112.332031 121.65625 112.332031 117.386719 C 112.332031 113.121094 118.734375 113.121094 118.734375 117.386719 \"/>\n",
       "<path style=\"fill:none;stroke-width:1;stroke-linecap:round;stroke-linejoin:round;stroke:rgb(0%,0%,0%);stroke-opacity:1;stroke-miterlimit:10;\" d=\"M 123.679688 117.058594 C 123.679688 121.324219 117.277344 121.324219 117.277344 117.058594 C 117.277344 112.792969 123.679688 112.792969 123.679688 117.058594 \"/>\n",
       "<path style=\"fill:none;stroke-width:1;stroke-linecap:round;stroke-linejoin:round;stroke:rgb(0%,0%,0%);stroke-opacity:1;stroke-miterlimit:10;\" d=\"M 91.691406 114.660156 C 91.691406 118.929688 85.292969 118.929688 85.292969 114.660156 C 85.292969 110.394531 91.691406 110.394531 91.691406 114.660156 \"/>\n",
       "<path style=\"fill:none;stroke-width:1;stroke-linecap:round;stroke-linejoin:round;stroke:rgb(0%,0%,0%);stroke-opacity:1;stroke-miterlimit:10;\" d=\"M 106.203125 98.691406 C 106.203125 102.960938 99.800781 102.960938 99.800781 98.691406 C 99.800781 94.425781 106.203125 94.425781 106.203125 98.691406 \"/>\n",
       "<path style=\"fill:none;stroke-width:1;stroke-linecap:round;stroke-linejoin:round;stroke:rgb(0%,0%,0%);stroke-opacity:1;stroke-miterlimit:10;\" d=\"M 155.003906 119.378906 C 155.003906 123.644531 148.605469 123.644531 148.605469 119.378906 C 148.605469 115.113281 155.003906 115.113281 155.003906 119.378906 \"/>\n",
       "<path style=\"fill:none;stroke-width:1;stroke-linecap:round;stroke-linejoin:round;stroke:rgb(0%,0%,0%);stroke-opacity:1;stroke-miterlimit:10;\" d=\"M 138.515625 120.289062 C 138.515625 124.554688 132.117188 124.554688 132.117188 120.289062 C 132.117188 116.019531 138.515625 116.019531 138.515625 120.289062 \"/>\n",
       "<path style=\"fill:none;stroke-width:1;stroke-linecap:round;stroke-linejoin:round;stroke:rgb(0%,0%,0%);stroke-opacity:1;stroke-miterlimit:10;\" d=\"M 131.261719 115.242188 C 131.261719 119.507812 124.863281 119.507812 124.863281 115.242188 C 124.863281 110.976562 131.261719 110.976562 131.261719 115.242188 \"/>\n",
       "<path style=\"fill:none;stroke-width:1;stroke-linecap:round;stroke-linejoin:round;stroke:rgb(0%,0%,0%);stroke-opacity:1;stroke-miterlimit:10;\" d=\"M 117.742188 125.527344 C 117.742188 129.792969 111.34375 129.792969 111.34375 125.527344 C 111.34375 121.261719 117.742188 121.261719 117.742188 125.527344 \"/>\n",
       "<path style=\"fill:none;stroke-width:1;stroke-linecap:round;stroke-linejoin:round;stroke:rgb(0%,0%,0%);stroke-opacity:1;stroke-miterlimit:10;\" d=\"M 97.628906 113.347656 C 97.628906 117.613281 91.230469 117.613281 91.230469 113.347656 C 91.230469 109.082031 97.628906 109.082031 97.628906 113.347656 \"/>\n",
       "<path style=\"fill:none;stroke-width:1;stroke-linecap:round;stroke-linejoin:round;stroke:rgb(0%,0%,0%);stroke-opacity:1;stroke-miterlimit:10;\" d=\"M 98.949219 112.574219 C 98.949219 116.839844 92.546875 116.839844 92.546875 112.574219 C 92.546875 108.308594 98.949219 108.308594 98.949219 112.574219 \"/>\n",
       "<path style=\"fill:none;stroke-width:1;stroke-linecap:round;stroke-linejoin:round;stroke:rgb(0%,0%,0%);stroke-opacity:1;stroke-miterlimit:10;\" d=\"M 130.605469 115.398438 C 130.605469 119.664062 124.203125 119.664062 124.203125 115.398438 C 124.203125 111.128906 130.605469 111.128906 130.605469 115.398438 \"/>\n",
       "<path style=\"fill:none;stroke-width:1;stroke-linecap:round;stroke-linejoin:round;stroke:rgb(0%,0%,0%);stroke-opacity:1;stroke-miterlimit:10;\" d=\"M 79.492188 109.5 C 79.492188 113.765625 73.09375 113.765625 73.09375 109.5 C 73.09375 105.234375 79.492188 105.234375 79.492188 109.5 \"/>\n",
       "<path style=\"fill:none;stroke-width:1;stroke-linecap:round;stroke-linejoin:round;stroke:rgb(0%,0%,0%);stroke-opacity:1;stroke-miterlimit:10;\" d=\"M 140.824219 97.898438 C 140.824219 102.167969 134.425781 102.167969 134.425781 97.898438 C 134.425781 93.632812 140.824219 93.632812 140.824219 97.898438 \"/>\n",
       "<path style=\"fill:none;stroke-width:1;stroke-linecap:round;stroke-linejoin:round;stroke:rgb(0%,0%,0%);stroke-opacity:1;stroke-miterlimit:10;\" d=\"M 103.894531 103.777344 C 103.894531 108.042969 97.492188 108.042969 97.492188 103.777344 C 97.492188 99.511719 103.894531 99.511719 103.894531 103.777344 \"/>\n",
       "<path style=\"fill:none;stroke-width:1;stroke-linecap:round;stroke-linejoin:round;stroke:rgb(0%,0%,0%);stroke-opacity:1;stroke-miterlimit:10;\" d=\"M 117.742188 128.386719 C 117.742188 132.65625 111.34375 132.65625 111.34375 128.386719 C 111.34375 124.121094 117.742188 124.121094 117.742188 128.386719 \"/>\n",
       "<path style=\"fill:none;stroke-width:1;stroke-linecap:round;stroke-linejoin:round;stroke:rgb(0%,0%,0%);stroke-opacity:1;stroke-miterlimit:10;\" d=\"M 124.996094 120.925781 C 124.996094 125.191406 118.597656 125.191406 118.597656 120.925781 C 118.597656 116.660156 124.996094 116.660156 124.996094 120.925781 \"/>\n",
       "<path style=\"fill:none;stroke-width:1;stroke-linecap:round;stroke-linejoin:round;stroke:rgb(0%,0%,0%);stroke-opacity:1;stroke-miterlimit:10;\" d=\"M 177.757812 127.632812 C 177.757812 131.902344 171.359375 131.902344 171.359375 127.632812 C 171.359375 123.367188 177.757812 123.367188 177.757812 127.632812 \"/>\n",
       "<path style=\"fill:none;stroke-width:1;stroke-linecap:round;stroke-linejoin:round;stroke:rgb(0%,0%,0%);stroke-opacity:1;stroke-miterlimit:10;\" d=\"M 143.132812 104.28125 C 143.132812 108.546875 136.734375 108.546875 136.734375 104.28125 C 136.734375 100.011719 143.132812 100.011719 143.132812 104.28125 \"/>\n",
       "<path style=\"fill:none;stroke-width:1;stroke-linecap:round;stroke-linejoin:round;stroke:rgb(0%,0%,0%);stroke-opacity:1;stroke-miterlimit:10;\" d=\"M 104.554688 112.1875 C 104.554688 116.453125 98.152344 116.453125 98.152344 112.1875 C 98.152344 107.921875 104.554688 107.921875 104.554688 112.1875 \"/>\n",
       "<path style=\"fill:none;stroke-width:1;stroke-linecap:round;stroke-linejoin:round;stroke:rgb(0%,0%,0%);stroke-opacity:1;stroke-miterlimit:10;\" d=\"M 108.839844 119.628906 C 108.839844 123.898438 102.441406 123.898438 102.441406 119.628906 C 102.441406 115.363281 108.839844 115.363281 108.839844 119.628906 \"/>\n",
       "<path style=\"fill:none;stroke-width:1;stroke-linecap:round;stroke-linejoin:round;stroke:rgb(0%,0%,0%);stroke-opacity:1;stroke-miterlimit:10;\" d=\"M 136.867188 114.585938 C 136.867188 118.851562 130.46875 118.851562 130.46875 114.585938 C 130.46875 110.316406 136.867188 110.316406 136.867188 114.585938 \"/>\n",
       "<path style=\"fill:none;stroke-width:1;stroke-linecap:round;stroke-linejoin:round;stroke:rgb(0%,0%,0%);stroke-opacity:1;stroke-miterlimit:10;\" d=\"M 90.042969 124 C 90.042969 128.265625 83.644531 128.265625 83.644531 124 C 83.644531 119.734375 90.042969 119.734375 90.042969 124 \"/>\n",
       "<path style=\"fill:none;stroke-width:1;stroke-linecap:round;stroke-linejoin:round;stroke:rgb(0%,0%,0%);stroke-opacity:1;stroke-miterlimit:10;\" d=\"M 91.363281 117.910156 C 91.363281 122.175781 84.964844 122.175781 84.964844 117.910156 C 84.964844 113.644531 91.363281 113.644531 91.363281 117.910156 \"/>\n",
       "<path style=\"fill:none;stroke-width:1;stroke-linecap:round;stroke-linejoin:round;stroke:rgb(0%,0%,0%);stroke-opacity:1;stroke-miterlimit:10;\" d=\"M 106.863281 107.933594 C 106.863281 112.199219 100.460938 112.199219 100.460938 107.933594 C 100.460938 103.667969 106.863281 103.667969 106.863281 107.933594 \"/>\n",
       "<path style=\"fill:none;stroke-width:1;stroke-linecap:round;stroke-linejoin:round;stroke:rgb(0%,0%,0%);stroke-opacity:1;stroke-miterlimit:10;\" d=\"M 114.117188 102.539062 C 114.117188 106.808594 107.714844 106.808594 107.714844 102.539062 C 107.714844 98.273438 114.117188 98.273438 114.117188 102.539062 \"/>\n",
       "<path style=\"fill:none;stroke-width:1;stroke-linecap:round;stroke-linejoin:round;stroke:rgb(0%,0%,0%);stroke-opacity:1;stroke-miterlimit:10;\" d=\"M 101.257812 120.210938 C 101.257812 124.476562 94.855469 124.476562 94.855469 120.210938 C 94.855469 115.945312 101.257812 115.945312 101.257812 120.210938 \"/>\n",
       "<path style=\"fill:none;stroke-width:1;stroke-linecap:round;stroke-linejoin:round;stroke:rgb(0%,0%,0%);stroke-opacity:1;stroke-miterlimit:10;\" d=\"M 89.054688 121.71875 C 89.054688 125.984375 82.65625 125.984375 82.65625 121.71875 C 82.65625 117.453125 89.054688 117.453125 89.054688 121.71875 \"/>\n",
       "<path style=\"fill:none;stroke-width:1;stroke-linecap:round;stroke-linejoin:round;stroke:rgb(0%,0%,0%);stroke-opacity:1;stroke-miterlimit:10;\" d=\"M 108.839844 115.085938 C 108.839844 119.355469 102.441406 119.355469 102.441406 115.085938 C 102.441406 110.820312 108.839844 110.820312 108.839844 115.085938 \"/>\n",
       "<path style=\"fill:none;stroke-width:1;stroke-linecap:round;stroke-linejoin:round;stroke:rgb(0%,0%,0%);stroke-opacity:1;stroke-miterlimit:10;\" d=\"M 125.988281 119.109375 C 125.988281 123.375 119.585938 123.375 119.585938 119.109375 C 119.585938 114.84375 125.988281 114.84375 125.988281 119.109375 \"/>\n",
       "<path style=\"fill:none;stroke-width:1;stroke-linecap:round;stroke-linejoin:round;stroke:rgb(0%,0%,0%);stroke-opacity:1;stroke-miterlimit:10;\" d=\"M 117.742188 115.859375 C 117.742188 120.128906 111.34375 120.128906 111.34375 115.859375 C 111.34375 111.59375 117.742188 111.59375 117.742188 115.859375 \"/>\n",
       "<path style=\"fill:none;stroke-width:1;stroke-linecap:round;stroke-linejoin:round;stroke:rgb(0%,0%,0%);stroke-opacity:1;stroke-miterlimit:10;\" d=\"M 145.773438 105.867188 C 145.773438 110.132812 139.371094 110.132812 139.371094 105.867188 C 139.371094 101.597656 145.773438 101.597656 145.773438 105.867188 \"/>\n",
       "<path style=\"fill:none;stroke-width:1;stroke-linecap:round;stroke-linejoin:round;stroke:rgb(0%,0%,0%);stroke-opacity:1;stroke-miterlimit:10;\" d=\"M 185.671875 78.722656 C 185.671875 82.988281 179.273438 82.988281 179.273438 78.722656 C 179.273438 74.453125 185.671875 74.453125 185.671875 78.722656 \"/>\n",
       "<path style=\"fill:none;stroke-width:1;stroke-linecap:round;stroke-linejoin:round;stroke:rgb(0%,0%,0%);stroke-opacity:1;stroke-miterlimit:10;\" d=\"M 144.453125 102.734375 C 144.453125 107 138.054688 107 138.054688 102.734375 C 138.054688 98.464844 144.453125 98.464844 144.453125 102.734375 \"/>\n",
       "<path style=\"fill:none;stroke-width:1;stroke-linecap:round;stroke-linejoin:round;stroke:rgb(0%,0%,0%);stroke-opacity:1;stroke-miterlimit:10;\" d=\"M 108.839844 131.210938 C 108.839844 135.476562 102.441406 135.476562 102.441406 131.210938 C 102.441406 126.945312 108.839844 126.945312 108.839844 131.210938 \"/>\n",
       "<path style=\"fill:none;stroke-width:1;stroke-linecap:round;stroke-linejoin:round;stroke:rgb(0%,0%,0%);stroke-opacity:1;stroke-miterlimit:10;\" d=\"M 214.359375 106.601562 C 214.359375 110.867188 207.960938 110.867188 207.960938 106.601562 C 207.960938 102.332031 214.359375 102.332031 214.359375 106.601562 \"/>\n",
       "<path style=\"fill:none;stroke-width:1;stroke-linecap:round;stroke-linejoin:round;stroke:rgb(0%,0%,0%);stroke-opacity:1;stroke-miterlimit:10;\" d=\"M 74.875 132.507812 C 74.875 136.773438 68.476562 136.773438 68.476562 132.507812 C 68.476562 128.238281 74.875 128.238281 74.875 132.507812 \"/>\n",
       "<path style=\"fill:none;stroke-width:1;stroke-linecap:round;stroke-linejoin:round;stroke:rgb(0%,0%,0%);stroke-opacity:1;stroke-miterlimit:10;\" d=\"M 128.625 130.59375 C 128.625 134.859375 122.226562 134.859375 122.226562 130.59375 C 122.226562 126.324219 128.625 126.324219 128.625 130.59375 \"/>\n",
       "<path style=\"fill:none;stroke-width:1;stroke-linecap:round;stroke-linejoin:round;stroke:rgb(0%,0%,0%);stroke-opacity:1;stroke-miterlimit:10;\" d=\"M 121.039062 113.558594 C 121.039062 117.828125 114.640625 117.828125 114.640625 113.558594 C 114.640625 109.292969 121.039062 109.292969 121.039062 113.558594 \"/>\n",
       "<path style=\"fill:none;stroke-width:1;stroke-linecap:round;stroke-linejoin:round;stroke:rgb(0%,0%,0%);stroke-opacity:1;stroke-miterlimit:10;\" d=\"M 117.742188 125.371094 C 117.742188 129.640625 111.34375 129.640625 111.34375 125.371094 C 111.34375 121.105469 117.742188 121.105469 117.742188 125.371094 \"/>\n",
       "<path style=\"fill:none;stroke-width:1;stroke-linecap:round;stroke-linejoin:round;stroke:rgb(0%,0%,0%);stroke-opacity:1;stroke-miterlimit:10;\" d=\"M 142.804688 135.15625 C 142.804688 139.421875 136.40625 139.421875 136.40625 135.15625 C 136.40625 130.886719 142.804688 130.886719 142.804688 135.15625 \"/>\n",
       "<path style=\"fill:none;stroke-width:1;stroke-linecap:round;stroke-linejoin:round;stroke:rgb(0%,0%,0%);stroke-opacity:1;stroke-miterlimit:10;\" d=\"M 145.113281 98.847656 C 145.113281 103.113281 138.710938 103.113281 138.710938 98.847656 C 138.710938 94.582031 145.113281 94.582031 145.113281 98.847656 \"/>\n",
       "<path style=\"fill:none;stroke-width:1;stroke-linecap:round;stroke-linejoin:round;stroke:rgb(0%,0%,0%);stroke-opacity:1;stroke-miterlimit:10;\" d=\"M 152.695312 118.546875 C 152.695312 122.816406 146.296875 122.816406 146.296875 118.546875 C 146.296875 114.28125 152.695312 114.28125 152.695312 118.546875 \"/>\n",
       "<path style=\"fill:none;stroke-width:1;stroke-linecap:round;stroke-linejoin:round;stroke:rgb(0%,0%,0%);stroke-opacity:1;stroke-miterlimit:10;\" d=\"M 156.984375 105.035156 C 156.984375 109.300781 150.582031 109.300781 150.582031 105.035156 C 150.582031 100.765625 156.984375 100.765625 156.984375 105.035156 \"/>\n",
       "<path style=\"fill:none;stroke-width:1;stroke-linecap:round;stroke-linejoin:round;stroke:rgb(0%,0%,0%);stroke-opacity:1;stroke-miterlimit:10;\" d=\"M 133.570312 124.175781 C 133.570312 128.441406 127.171875 128.441406 127.171875 124.175781 C 127.171875 119.90625 133.570312 119.90625 133.570312 124.175781 \"/>\n",
       "<path style=\"fill:none;stroke-width:1;stroke-linecap:round;stroke-linejoin:round;stroke:rgb(0%,0%,0%);stroke-opacity:1;stroke-miterlimit:10;\" d=\"M 212.050781 99.019531 C 212.050781 103.289062 205.652344 103.289062 205.652344 99.019531 C 205.652344 94.753906 212.050781 94.753906 212.050781 99.019531 \"/>\n",
       "<path style=\"fill:none;stroke-width:1;stroke-linecap:round;stroke-linejoin:round;stroke:rgb(0%,0%,0%);stroke-opacity:1;stroke-miterlimit:10;\" d=\"M 122.03125 109.054688 C 122.03125 113.320312 115.628906 113.320312 115.628906 109.054688 C 115.628906 104.789062 122.03125 104.789062 122.03125 109.054688 \"/>\n",
       "<path style=\"fill:none;stroke-width:1;stroke-linecap:round;stroke-linejoin:round;stroke:rgb(0%,0%,0%);stroke-opacity:1;stroke-miterlimit:10;\" d=\"M 106.203125 119.261719 C 106.203125 123.53125 99.800781 123.53125 99.800781 119.261719 C 99.800781 114.996094 106.203125 114.996094 106.203125 119.261719 \"/>\n",
       "<path style=\"fill:none;stroke-width:1;stroke-linecap:round;stroke-linejoin:round;stroke:rgb(0%,0%,0%);stroke-opacity:1;stroke-miterlimit:10;\" d=\"M 149.730469 106.714844 C 149.730469 110.984375 143.328125 110.984375 143.328125 106.714844 C 143.328125 102.449219 149.730469 102.449219 149.730469 106.714844 \"/>\n",
       "<path style=\"fill:none;stroke-width:1;stroke-linecap:round;stroke-linejoin:round;stroke:rgb(0%,0%,0%);stroke-opacity:1;stroke-miterlimit:10;\" d=\"M 154.34375 130.707031 C 154.34375 134.976562 147.945312 134.976562 147.945312 130.707031 C 147.945312 126.441406 154.34375 126.441406 154.34375 130.707031 \"/>\n",
       "<path style=\"fill:none;stroke-width:1;stroke-linecap:round;stroke-linejoin:round;stroke:rgb(0%,0%,0%);stroke-opacity:1;stroke-miterlimit:10;\" d=\"M 214.691406 117.621094 C 214.691406 121.886719 208.289062 121.886719 208.289062 117.621094 C 208.289062 113.351562 214.691406 113.351562 214.691406 117.621094 \"/>\n",
       "<path style=\"fill:none;stroke-width:1;stroke-linecap:round;stroke-linejoin:round;stroke:rgb(0%,0%,0%);stroke-opacity:1;stroke-miterlimit:10;\" d=\"M 141.484375 113.675781 C 141.484375 117.941406 135.085938 117.941406 135.085938 113.675781 C 135.085938 109.410156 141.484375 109.410156 141.484375 113.675781 \"/>\n",
       "<path style=\"fill:none;stroke-width:1;stroke-linecap:round;stroke-linejoin:round;stroke:rgb(0%,0%,0%);stroke-opacity:1;stroke-miterlimit:10;\" d=\"M 141.484375 113.484375 C 141.484375 117.75 135.085938 117.75 135.085938 113.484375 C 135.085938 109.214844 141.484375 109.214844 141.484375 113.484375 \"/>\n",
       "<path style=\"fill:none;stroke-width:1;stroke-linecap:round;stroke-linejoin:round;stroke:rgb(0%,0%,0%);stroke-opacity:1;stroke-miterlimit:10;\" d=\"M 183.691406 108.824219 C 183.691406 113.089844 177.292969 113.089844 177.292969 108.824219 C 177.292969 104.558594 183.691406 104.558594 183.691406 108.824219 \"/>\n",
       "<path style=\"fill:none;stroke-width:1;stroke-linecap:round;stroke-linejoin:round;stroke:rgb(0%,0%,0%);stroke-opacity:1;stroke-miterlimit:10;\" d=\"M 111.148438 101.84375 C 111.148438 106.109375 104.75 106.109375 104.75 101.84375 C 104.75 97.578125 111.148438 97.578125 111.148438 101.84375 \"/>\n",
       "<path style=\"fill:none;stroke-width:1;stroke-linecap:round;stroke-linejoin:round;stroke:rgb(0%,0%,0%);stroke-opacity:1;stroke-miterlimit:10;\" d=\"M 104.222656 108.164062 C 104.222656 112.433594 97.824219 112.433594 97.824219 108.164062 C 97.824219 103.898438 104.222656 103.898438 104.222656 108.164062 \"/>\n",
       "<path style=\"fill:none;stroke-width:1;stroke-linecap:round;stroke-linejoin:round;stroke:rgb(0%,0%,0%);stroke-opacity:1;stroke-miterlimit:10;\" d=\"M 131.921875 108.148438 C 131.921875 112.414062 125.523438 112.414062 125.523438 108.148438 C 125.523438 103.878906 131.921875 103.878906 131.921875 108.148438 \"/>\n",
       "<path style=\"fill:none;stroke-width:1;stroke-linecap:round;stroke-linejoin:round;stroke:rgb(0%,0%,0%);stroke-opacity:1;stroke-miterlimit:10;\" d=\"M 161.929688 120.769531 C 161.929688 125.039062 155.53125 125.039062 155.53125 120.769531 C 155.53125 116.503906 161.929688 116.503906 161.929688 120.769531 \"/>\n",
       "<path style=\"fill:none;stroke-width:1;stroke-linecap:round;stroke-linejoin:round;stroke:rgb(0%,0%,0%);stroke-opacity:1;stroke-miterlimit:10;\" d=\"M 212.710938 111.800781 C 212.710938 116.066406 206.3125 116.066406 206.3125 111.800781 C 206.3125 107.535156 212.710938 107.535156 212.710938 111.800781 \"/>\n",
       "<path style=\"fill:none;stroke-width:1;stroke-linecap:round;stroke-linejoin:round;stroke:rgb(0%,0%,0%);stroke-opacity:1;stroke-miterlimit:10;\" d=\"M 156.324219 115.667969 C 156.324219 119.933594 149.925781 119.933594 149.925781 115.667969 C 149.925781 111.402344 156.324219 111.402344 156.324219 115.667969 \"/>\n",
       "<path style=\"fill:none;stroke-width:1;stroke-linecap:round;stroke-linejoin:round;stroke:rgb(0%,0%,0%);stroke-opacity:1;stroke-miterlimit:10;\" d=\"M 119.722656 124.578125 C 119.722656 128.847656 113.320312 128.847656 113.320312 124.578125 C 113.320312 120.3125 119.722656 120.3125 119.722656 124.578125 \"/>\n",
       "<path style=\"fill:none;stroke-width:1;stroke-linecap:round;stroke-linejoin:round;stroke:rgb(0%,0%,0%);stroke-opacity:1;stroke-miterlimit:10;\" d=\"M 117.414062 108.648438 C 117.414062 112.914062 111.011719 112.914062 111.011719 108.648438 C 111.011719 104.382812 117.414062 104.382812 117.414062 108.648438 \"/>\n",
       "<path style=\"fill:none;stroke-width:1;stroke-linecap:round;stroke-linejoin:round;stroke:rgb(0%,0%,0%);stroke-opacity:1;stroke-miterlimit:10;\" d=\"M 160.941406 109.152344 C 160.941406 113.417969 154.539062 113.417969 154.539062 109.152344 C 154.539062 104.886719 160.941406 104.886719 160.941406 109.152344 \"/>\n",
       "<path style=\"fill:none;stroke-width:1;stroke-linecap:round;stroke-linejoin:round;stroke:rgb(0%,0%,0%);stroke-opacity:1;stroke-miterlimit:10;\" d=\"M 118.734375 120.230469 C 118.734375 124.496094 112.332031 124.496094 112.332031 120.230469 C 112.332031 115.964844 118.734375 115.964844 118.734375 120.230469 \"/>\n",
       "<path style=\"fill:none;stroke-width:1;stroke-linecap:round;stroke-linejoin:round;stroke:rgb(0%,0%,0%);stroke-opacity:1;stroke-miterlimit:10;\" d=\"M 133.902344 118.644531 C 133.902344 122.910156 127.5 122.910156 127.5 118.644531 C 127.5 114.378906 133.902344 114.378906 133.902344 118.644531 \"/>\n",
       "<path style=\"fill:none;stroke-width:1;stroke-linecap:round;stroke-linejoin:round;stroke:rgb(0%,0%,0%);stroke-opacity:1;stroke-miterlimit:10;\" d=\"M 207.105469 117.019531 C 207.105469 121.289062 200.707031 121.289062 200.707031 117.019531 C 200.707031 112.753906 207.105469 112.753906 207.105469 117.019531 \"/>\n",
       "<path style=\"fill:none;stroke-width:1;stroke-linecap:round;stroke-linejoin:round;stroke:rgb(0%,0%,0%);stroke-opacity:1;stroke-miterlimit:10;\" d=\"M 132.582031 112.378906 C 132.582031 116.648438 126.183594 116.648438 126.183594 112.378906 C 126.183594 108.113281 132.582031 108.113281 132.582031 112.378906 \"/>\n",
       "<path style=\"fill:none;stroke-width:1;stroke-linecap:round;stroke-linejoin:round;stroke:rgb(0%,0%,0%);stroke-opacity:1;stroke-miterlimit:10;\" d=\"M 121.371094 117.679688 C 121.371094 121.945312 114.96875 121.945312 114.96875 117.679688 C 114.96875 113.410156 121.371094 113.410156 121.371094 117.679688 \"/>\n",
       "<path style=\"fill:none;stroke-width:1;stroke-linecap:round;stroke-linejoin:round;stroke:rgb(0%,0%,0%);stroke-opacity:1;stroke-miterlimit:10;\" d=\"M 138.847656 80.152344 C 138.847656 84.417969 132.449219 84.417969 132.449219 80.152344 C 132.449219 75.886719 138.847656 75.886719 138.847656 80.152344 \"/>\n",
       "<path style=\"fill:none;stroke-width:1;stroke-linecap:round;stroke-linejoin:round;stroke:rgb(0%,0%,0%);stroke-opacity:1;stroke-miterlimit:10;\" d=\"M 165.226562 125.351562 C 165.226562 129.621094 158.828125 129.621094 158.828125 125.351562 C 158.828125 121.085938 165.226562 121.085938 165.226562 125.351562 \"/>\n",
       "<path style=\"fill:none;stroke-width:1;stroke-linecap:round;stroke-linejoin:round;stroke:rgb(0%,0%,0%);stroke-opacity:1;stroke-miterlimit:10;\" d=\"M 142.472656 125.371094 C 142.472656 129.640625 136.074219 129.640625 136.074219 125.371094 C 136.074219 121.105469 142.472656 121.105469 142.472656 125.371094 \"/>\n",
       "<path style=\"fill:none;stroke-width:1;stroke-linecap:round;stroke-linejoin:round;stroke:rgb(0%,0%,0%);stroke-opacity:1;stroke-miterlimit:10;\" d=\"M 110.820312 121.121094 C 110.820312 125.386719 104.417969 125.386719 104.417969 121.121094 C 104.417969 116.851562 110.820312 116.851562 110.820312 121.121094 \"/>\n",
       "<path style=\"fill:none;stroke-width:1;stroke-linecap:round;stroke-linejoin:round;stroke:rgb(0%,0%,0%);stroke-opacity:1;stroke-miterlimit:10;\" d=\"M 93.671875 68.976562 C 93.671875 73.242188 87.273438 73.242188 87.273438 68.976562 C 87.273438 64.710938 93.671875 64.710938 93.671875 68.976562 \"/>\n",
       "<path style=\"fill:none;stroke-width:1;stroke-linecap:round;stroke-linejoin:round;stroke:rgb(0%,0%,0%);stroke-opacity:1;stroke-miterlimit:10;\" d=\"M 226.5625 110.429688 C 226.5625 114.695312 220.160156 114.695312 220.160156 110.429688 C 220.160156 106.160156 226.5625 106.160156 226.5625 110.429688 \"/>\n",
       "<path style=\"fill:none;stroke-width:1;stroke-linecap:round;stroke-linejoin:round;stroke:rgb(0%,0%,0%);stroke-opacity:1;stroke-miterlimit:10;\" d=\"M 127.304688 123.863281 C 127.304688 128.132812 120.90625 128.132812 120.90625 123.863281 C 120.90625 119.597656 127.304688 119.597656 127.304688 123.863281 \"/>\n",
       "<path style=\"fill:none;stroke-width:1;stroke-linecap:round;stroke-linejoin:round;stroke:rgb(0%,0%,0%);stroke-opacity:1;stroke-miterlimit:10;\" d=\"M 127.304688 125.683594 C 127.304688 129.949219 120.90625 129.949219 120.90625 125.683594 C 120.90625 121.414062 127.304688 121.414062 127.304688 125.683594 \"/>\n",
       "<path style=\"fill:none;stroke-width:1;stroke-linecap:round;stroke-linejoin:round;stroke:rgb(0%,0%,0%);stroke-opacity:1;stroke-miterlimit:10;\" d=\"M 139.507812 110.679688 C 139.507812 114.945312 133.105469 114.945312 133.105469 110.679688 C 133.105469 106.414062 139.507812 106.414062 139.507812 110.679688 \"/>\n",
       "<path style=\"fill:none;stroke-width:1;stroke-linecap:round;stroke-linejoin:round;stroke:rgb(0%,0%,0%);stroke-opacity:1;stroke-miterlimit:10;\" d=\"M 138.1875 125.238281 C 138.1875 129.503906 131.789062 129.503906 131.789062 125.238281 C 131.789062 120.96875 138.1875 120.96875 138.1875 125.238281 \"/>\n",
       "<path style=\"fill:none;stroke-width:1;stroke-linecap:round;stroke-linejoin:round;stroke:rgb(0%,0%,0%);stroke-opacity:1;stroke-miterlimit:10;\" d=\"M 156.652344 115.765625 C 156.652344 120.03125 150.253906 120.03125 150.253906 115.765625 C 150.253906 111.496094 156.652344 111.496094 156.652344 115.765625 \"/>\n",
       "<path style=\"fill:none;stroke-width:1;stroke-linecap:round;stroke-linejoin:round;stroke:rgb(0%,0%,0%);stroke-opacity:1;stroke-miterlimit:10;\" d=\"M 168.523438 128.96875 C 168.523438 133.234375 162.125 133.234375 162.125 128.96875 C 162.125 124.703125 168.523438 124.703125 168.523438 128.96875 \"/>\n",
       "<path style=\"fill:none;stroke-width:1;stroke-linecap:round;stroke-linejoin:round;stroke:rgb(0%,0%,0%);stroke-opacity:1;stroke-miterlimit:10;\" d=\"M 119.390625 122.261719 C 119.390625 126.527344 112.992188 126.527344 112.992188 122.261719 C 112.992188 117.992188 119.390625 117.992188 119.390625 122.261719 \"/>\n",
       "<path style=\"fill:none;stroke-width:1;stroke-linecap:round;stroke-linejoin:round;stroke:rgb(0%,0%,0%);stroke-opacity:1;stroke-miterlimit:10;\" d=\"M 131.921875 108.011719 C 131.921875 112.277344 125.523438 112.277344 125.523438 108.011719 C 125.523438 103.746094 131.921875 103.746094 131.921875 108.011719 \"/>\n",
       "<path style=\"fill:none;stroke-width:1;stroke-linecap:round;stroke-linejoin:round;stroke:rgb(0%,0%,0%);stroke-opacity:1;stroke-miterlimit:10;\" d=\"M 163.910156 92.910156 C 163.910156 97.179688 157.507812 97.179688 157.507812 92.910156 C 157.507812 88.644531 163.910156 88.644531 163.910156 92.910156 \"/>\n",
       "<path style=\"fill:none;stroke-width:1;stroke-linecap:round;stroke-linejoin:round;stroke:rgb(0%,0%,0%);stroke-opacity:1;stroke-miterlimit:10;\" d=\"M 202.488281 96.003906 C 202.488281 100.273438 196.089844 100.273438 196.089844 96.003906 C 196.089844 91.738281 202.488281 91.738281 202.488281 96.003906 \"/>\n",
       "<path style=\"fill:none;stroke-width:1;stroke-linecap:round;stroke-linejoin:round;stroke:rgb(0%,0%,0%);stroke-opacity:1;stroke-miterlimit:10;\" d=\"M 113.125 124.25 C 113.125 128.519531 106.726562 128.519531 106.726562 124.25 C 106.726562 119.984375 113.125 119.984375 113.125 124.25 \"/>\n",
       "<path style=\"fill:none;stroke-width:1;stroke-linecap:round;stroke-linejoin:round;stroke:rgb(0%,0%,0%);stroke-opacity:1;stroke-miterlimit:10;\" d=\"M 104.554688 130.300781 C 104.554688 134.570312 98.152344 134.570312 98.152344 130.300781 C 98.152344 126.035156 104.554688 126.035156 104.554688 130.300781 \"/>\n",
       "<path style=\"fill:none;stroke-width:1;stroke-linecap:round;stroke-linejoin:round;stroke:rgb(0%,0%,0%);stroke-opacity:1;stroke-miterlimit:10;\" d=\"M 103.5625 130.980469 C 103.5625 135.246094 97.164062 135.246094 97.164062 130.980469 C 97.164062 126.710938 103.5625 126.710938 103.5625 130.980469 \"/>\n",
       "<path style=\"fill:none;stroke-width:1;stroke-linecap:round;stroke-linejoin:round;stroke:rgb(0%,0%,0%);stroke-opacity:1;stroke-miterlimit:10;\" d=\"M 84.769531 130.476562 C 84.769531 134.742188 78.367188 134.742188 78.367188 130.476562 C 78.367188 126.210938 84.769531 126.210938 84.769531 130.476562 \"/>\n",
       "<path style=\"fill:none;stroke-width:1;stroke-linecap:round;stroke-linejoin:round;stroke:rgb(0%,0%,0%);stroke-opacity:1;stroke-miterlimit:10;\" d=\"M 108.511719 127.984375 C 108.511719 132.25 102.109375 132.25 102.109375 127.984375 C 102.109375 123.714844 108.511719 123.714844 108.511719 127.984375 \"/>\n",
       "<path style=\"fill:none;stroke-width:1;stroke-linecap:round;stroke-linejoin:round;stroke:rgb(0%,0%,0%);stroke-opacity:1;stroke-miterlimit:10;\" d=\"M 92.351562 126.164062 C 92.351562 130.433594 85.953125 130.433594 85.953125 126.164062 C 85.953125 121.898438 92.351562 121.898438 92.351562 126.164062 \"/>\n",
       "<path style=\"fill:none;stroke-width:1;stroke-linecap:round;stroke-linejoin:round;stroke:rgb(0%,0%,0%);stroke-opacity:1;stroke-miterlimit:10;\" d=\"M 88.394531 127.730469 C 88.394531 131.996094 81.996094 131.996094 81.996094 127.730469 C 81.996094 123.464844 88.394531 123.464844 88.394531 127.730469 \"/>\n",
       "<path style=\"fill:none;stroke-width:1;stroke-linecap:round;stroke-linejoin:round;stroke:rgb(0%,0%,0%);stroke-opacity:1;stroke-miterlimit:10;\" d=\"M 109.828125 127.210938 C 109.828125 131.476562 103.429688 131.476562 103.429688 127.210938 C 103.429688 122.941406 109.828125 122.941406 109.828125 127.210938 \"/>\n",
       "<path style=\"fill:none;stroke-width:1;stroke-linecap:round;stroke-linejoin:round;stroke:rgb(0%,0%,0%);stroke-opacity:1;stroke-miterlimit:10;\" d=\"M 102.90625 129.179688 C 102.90625 133.449219 96.503906 133.449219 96.503906 129.179688 C 96.503906 124.914062 102.90625 124.914062 102.90625 129.179688 \"/>\n",
       "<path style=\"fill:none;stroke-width:1;stroke-linecap:round;stroke-linejoin:round;stroke:rgb(0%,0%,0%);stroke-opacity:1;stroke-miterlimit:10;\" d=\"M 92.351562 130.941406 C 92.351562 135.207031 85.953125 135.207031 85.953125 130.941406 C 85.953125 126.675781 92.351562 126.675781 92.351562 130.941406 \"/>\n",
       "<path style=\"fill:none;stroke-width:1;stroke-linecap:round;stroke-linejoin:round;stroke:rgb(0%,0%,0%);stroke-opacity:1;stroke-miterlimit:10;\" d=\"M 109.5 126.050781 C 109.5 130.316406 103.101562 130.316406 103.101562 126.050781 C 103.101562 121.78125 109.5 121.78125 109.5 126.050781 \"/>\n",
       "<path style=\"fill:none;stroke-width:1;stroke-linecap:round;stroke-linejoin:round;stroke:rgb(0%,0%,0%);stroke-opacity:1;stroke-miterlimit:10;\" d=\"M 110.160156 129.414062 C 110.160156 133.679688 103.757812 133.679688 103.757812 129.414062 C 103.757812 125.148438 110.160156 125.148438 110.160156 129.414062 \"/>\n",
       "<path style=\"fill:none;stroke-width:1;stroke-linecap:round;stroke-linejoin:round;stroke:rgb(0%,0%,0%);stroke-opacity:1;stroke-miterlimit:10;\" d=\"M 77.515625 124.832031 C 77.515625 129.097656 71.113281 129.097656 71.113281 124.832031 C 71.113281 120.566406 77.515625 120.566406 77.515625 124.832031 \"/>\n",
       "<path style=\"fill:none;stroke-width:1;stroke-linecap:round;stroke-linejoin:round;stroke:rgb(0%,0%,0%);stroke-opacity:1;stroke-miterlimit:10;\" d=\"M 112.46875 126.550781 C 112.46875 130.820312 106.066406 130.820312 106.066406 126.550781 C 106.066406 122.285156 112.46875 122.285156 112.46875 126.550781 \"/>\n",
       "<path style=\"fill:none;stroke-width:1;stroke-linecap:round;stroke-linejoin:round;stroke:rgb(0%,0%,0%);stroke-opacity:1;stroke-miterlimit:10;\" d=\"M 103.234375 123.941406 C 103.234375 128.207031 96.835938 128.207031 96.835938 123.941406 C 96.835938 119.675781 103.234375 119.675781 103.234375 123.941406 \"/>\n",
       "<path style=\"fill:none;stroke-width:1;stroke-linecap:round;stroke-linejoin:round;stroke:rgb(0%,0%,0%);stroke-opacity:1;stroke-miterlimit:10;\" d=\"M 107.191406 129.800781 C 107.191406 134.066406 100.792969 134.066406 100.792969 129.800781 C 100.792969 125.535156 107.191406 125.535156 107.191406 129.800781 \"/>\n",
       "<path style=\"fill:none;stroke-width:1;stroke-linecap:round;stroke-linejoin:round;stroke:rgb(0%,0%,0%);stroke-opacity:1;stroke-miterlimit:10;\" d=\"M 110.488281 128.792969 C 110.488281 133.0625 104.089844 133.0625 104.089844 128.792969 C 104.089844 124.527344 110.488281 124.527344 110.488281 128.792969 \"/>\n",
       "<path style=\"fill:none;stroke-width:1;stroke-linecap:round;stroke-linejoin:round;stroke:rgb(0%,0%,0%);stroke-opacity:1;stroke-miterlimit:10;\" d=\"M 101.257812 131.5 C 101.257812 135.769531 94.855469 135.769531 94.855469 131.5 C 94.855469 127.234375 101.257812 127.234375 101.257812 131.5 \"/>\n",
       "<path style=\"fill:none;stroke-width:1;stroke-linecap:round;stroke-linejoin:round;stroke:rgb(0%,0%,0%);stroke-opacity:1;stroke-miterlimit:10;\" d=\"M 92.023438 118.199219 C 92.023438 122.464844 85.621094 122.464844 85.621094 118.199219 C 85.621094 113.933594 92.023438 113.933594 92.023438 118.199219 \"/>\n",
       "<path style=\"fill:none;stroke-width:1;stroke-linecap:round;stroke-linejoin:round;stroke:rgb(0%,0%,0%);stroke-opacity:1;stroke-miterlimit:10;\" d=\"M 116.09375 120.925781 C 116.09375 125.191406 109.695312 125.191406 109.695312 120.925781 C 109.695312 116.660156 116.09375 116.660156 116.09375 120.925781 \"/>\n",
       "<path style=\"fill:none;stroke-width:1;stroke-linecap:round;stroke-linejoin:round;stroke:rgb(0%,0%,0%);stroke-opacity:1;stroke-miterlimit:10;\" d=\"M 113.457031 133.027344 C 113.457031 137.296875 107.054688 137.296875 107.054688 133.027344 C 107.054688 128.761719 113.457031 128.761719 113.457031 133.027344 \"/>\n",
       "<path style=\"fill:none;stroke-width:1;stroke-linecap:round;stroke-linejoin:round;stroke:rgb(0%,0%,0%);stroke-opacity:1;stroke-miterlimit:10;\" d=\"M 97.300781 129.742188 C 97.300781 134.007812 90.898438 134.007812 90.898438 129.742188 C 90.898438 125.476562 97.300781 125.476562 97.300781 129.742188 \"/>\n",
       "<path style=\"fill:none;stroke-width:1;stroke-linecap:round;stroke-linejoin:round;stroke:rgb(0%,0%,0%);stroke-opacity:1;stroke-miterlimit:10;\" d=\"M 114.117188 130.804688 C 114.117188 135.070312 107.714844 135.070312 107.714844 130.804688 C 107.714844 126.539062 114.117188 126.539062 114.117188 130.804688 \"/>\n",
       "<path style=\"fill:none;stroke-width:1;stroke-linecap:round;stroke-linejoin:round;stroke:rgb(0%,0%,0%);stroke-opacity:1;stroke-miterlimit:10;\" d=\"M 110.488281 125.316406 C 110.488281 129.582031 104.089844 129.582031 104.089844 125.316406 C 104.089844 121.046875 110.488281 121.046875 110.488281 125.316406 \"/>\n",
       "<path style=\"fill:none;stroke-width:1;stroke-linecap:round;stroke-linejoin:round;stroke:rgb(0%,0%,0%);stroke-opacity:1;stroke-miterlimit:10;\" d=\"M 115.765625 125.546875 C 115.765625 129.8125 109.363281 129.8125 109.363281 125.546875 C 109.363281 121.28125 115.765625 121.28125 115.765625 125.546875 \"/>\n",
       "<path style=\"fill:none;stroke-width:1;stroke-linecap:round;stroke-linejoin:round;stroke:rgb(0%,0%,0%);stroke-opacity:1;stroke-miterlimit:10;\" d=\"M 116.425781 123.84375 C 116.425781 128.113281 110.023438 128.113281 110.023438 123.84375 C 110.023438 119.578125 116.425781 119.578125 116.425781 123.84375 \"/>\n",
       "<path style=\"fill:none;stroke-width:1;stroke-linecap:round;stroke-linejoin:round;stroke:rgb(0%,0%,0%);stroke-opacity:1;stroke-miterlimit:10;\" d=\"M 97.628906 121.488281 C 97.628906 125.753906 91.230469 125.753906 91.230469 121.488281 C 91.230469 117.21875 97.628906 117.21875 97.628906 121.488281 \"/>\n",
       "<path style=\"fill:none;stroke-width:1;stroke-linecap:round;stroke-linejoin:round;stroke:rgb(0%,0%,0%);stroke-opacity:1;stroke-miterlimit:10;\" d=\"M 119.0625 129.316406 C 119.0625 133.582031 112.664062 133.582031 112.664062 129.316406 C 112.664062 125.050781 119.0625 125.050781 119.0625 129.316406 \"/>\n",
       "<path style=\"fill:none;stroke-width:1;stroke-linecap:round;stroke-linejoin:round;stroke:rgb(0%,0%,0%);stroke-opacity:1;stroke-miterlimit:10;\" d=\"M 107.851562 126.746094 C 107.851562 131.011719 101.449219 131.011719 101.449219 126.746094 C 101.449219 122.480469 107.851562 122.480469 107.851562 126.746094 \"/>\n",
       "<path style=\"fill:none;stroke-width:1;stroke-linecap:round;stroke-linejoin:round;stroke:rgb(0%,0%,0%);stroke-opacity:1;stroke-miterlimit:10;\" d=\"M 113.125 128.738281 C 113.125 133.003906 106.726562 133.003906 106.726562 128.738281 C 106.726562 124.46875 113.125 124.46875 113.125 128.738281 \"/>\n",
       "<path style=\"fill:none;stroke-width:1;stroke-linecap:round;stroke-linejoin:round;stroke:rgb(0%,0%,0%);stroke-opacity:1;stroke-miterlimit:10;\" d=\"M 115.433594 127.363281 C 115.433594 131.628906 109.035156 131.628906 109.035156 127.363281 C 109.035156 123.097656 115.433594 123.097656 115.433594 127.363281 \"/>\n",
       "<path style=\"fill:none;stroke-width:1;stroke-linecap:round;stroke-linejoin:round;stroke:rgb(0%,0%,0%);stroke-opacity:1;stroke-miterlimit:10;\" d=\"M 64.75 142.558594 L 229.625 142.558594 \"/>\n",
       "<path style=\"fill:none;stroke-width:1;stroke-linecap:round;stroke-linejoin:round;stroke:rgb(0%,0%,0%);stroke-opacity:1;stroke-miterlimit:10;\" d=\"M 64.75 142.558594 L 64.75 149.761719 \"/>\n",
       "<path style=\"fill:none;stroke-width:1;stroke-linecap:round;stroke-linejoin:round;stroke:rgb(0%,0%,0%);stroke-opacity:1;stroke-miterlimit:10;\" d=\"M 97.726562 142.558594 L 97.726562 149.761719 \"/>\n",
       "<path style=\"fill:none;stroke-width:1;stroke-linecap:round;stroke-linejoin:round;stroke:rgb(0%,0%,0%);stroke-opacity:1;stroke-miterlimit:10;\" d=\"M 130.699219 142.558594 L 130.699219 149.761719 \"/>\n",
       "<path style=\"fill:none;stroke-width:1;stroke-linecap:round;stroke-linejoin:round;stroke:rgb(0%,0%,0%);stroke-opacity:1;stroke-miterlimit:10;\" d=\"M 163.675781 142.558594 L 163.675781 149.761719 \"/>\n",
       "<path style=\"fill:none;stroke-width:1;stroke-linecap:round;stroke-linejoin:round;stroke:rgb(0%,0%,0%);stroke-opacity:1;stroke-miterlimit:10;\" d=\"M 196.652344 142.558594 L 196.652344 149.761719 \"/>\n",
       "<path style=\"fill:none;stroke-width:1;stroke-linecap:round;stroke-linejoin:round;stroke:rgb(0%,0%,0%);stroke-opacity:1;stroke-miterlimit:10;\" d=\"M 229.625 142.558594 L 229.625 149.761719 \"/>\n",
       "<g style=\"fill:rgb(0%,0%,0%);fill-opacity:1;\">\n",
       "  <use xlink:href=\"#glyph0-1\" x=\"61.273438\" y=\"169.921875\"/>\n",
       "</g>\n",
       "<g style=\"fill:rgb(0%,0%,0%);fill-opacity:1;\">\n",
       "  <use xlink:href=\"#glyph0-2\" x=\"90.777344\" y=\"169.921875\"/>\n",
       "  <use xlink:href=\"#glyph0-1\" x=\"97.727371\" y=\"169.921875\"/>\n",
       "</g>\n",
       "<g style=\"fill:rgb(0%,0%,0%);fill-opacity:1;\">\n",
       "  <use xlink:href=\"#glyph0-3\" x=\"123.75\" y=\"169.921875\"/>\n",
       "  <use xlink:href=\"#glyph0-1\" x=\"130.700027\" y=\"169.921875\"/>\n",
       "</g>\n",
       "<g style=\"fill:rgb(0%,0%,0%);fill-opacity:1;\">\n",
       "  <use xlink:href=\"#glyph0-4\" x=\"156.726562\" y=\"169.921875\"/>\n",
       "  <use xlink:href=\"#glyph0-1\" x=\"163.67659\" y=\"169.921875\"/>\n",
       "</g>\n",
       "<g style=\"fill:rgb(0%,0%,0%);fill-opacity:1;\">\n",
       "  <use xlink:href=\"#glyph0-5\" x=\"189.703125\" y=\"169.921875\"/>\n",
       "  <use xlink:href=\"#glyph0-1\" x=\"196.653152\" y=\"169.921875\"/>\n",
       "</g>\n",
       "<g style=\"fill:rgb(0%,0%,0%);fill-opacity:1;\">\n",
       "  <use xlink:href=\"#glyph0-6\" x=\"222.675781\" y=\"169.921875\"/>\n",
       "  <use xlink:href=\"#glyph0-1\" x=\"229.625809\" y=\"169.921875\"/>\n",
       "</g>\n",
       "<path style=\"fill:none;stroke-width:1;stroke-linecap:round;stroke-linejoin:round;stroke:rgb(0%,0%,0%);stroke-opacity:1;stroke-miterlimit:10;\" d=\"M 59.039062 139.464844 L 59.039062 62.132812 \"/>\n",
       "<path style=\"fill:none;stroke-width:1;stroke-linecap:round;stroke-linejoin:round;stroke:rgb(0%,0%,0%);stroke-opacity:1;stroke-miterlimit:10;\" d=\"M 59.039062 139.464844 L 51.839844 139.464844 \"/>\n",
       "<path style=\"fill:none;stroke-width:1;stroke-linecap:round;stroke-linejoin:round;stroke:rgb(0%,0%,0%);stroke-opacity:1;stroke-miterlimit:10;\" d=\"M 59.039062 120.132812 L 51.839844 120.132812 \"/>\n",
       "<path style=\"fill:none;stroke-width:1;stroke-linecap:round;stroke-linejoin:round;stroke:rgb(0%,0%,0%);stroke-opacity:1;stroke-miterlimit:10;\" d=\"M 59.039062 100.800781 L 51.839844 100.800781 \"/>\n",
       "<path style=\"fill:none;stroke-width:1;stroke-linecap:round;stroke-linejoin:round;stroke:rgb(0%,0%,0%);stroke-opacity:1;stroke-miterlimit:10;\" d=\"M 59.039062 81.464844 L 51.839844 81.464844 \"/>\n",
       "<path style=\"fill:none;stroke-width:1;stroke-linecap:round;stroke-linejoin:round;stroke:rgb(0%,0%,0%);stroke-opacity:1;stroke-miterlimit:10;\" d=\"M 59.039062 62.132812 L 51.839844 62.132812 \"/>\n",
       "<g style=\"fill:rgb(0%,0%,0%);fill-opacity:1;\">\n",
       "  <use xlink:href=\"#glyph1-1\" x=\"43.199219\" y=\"142.941406\"/>\n",
       "</g>\n",
       "<g style=\"fill:rgb(0%,0%,0%);fill-opacity:1;\">\n",
       "  <use xlink:href=\"#glyph1-2\" x=\"43.199219\" y=\"114.699219\"/>\n",
       "  <use xlink:href=\"#glyph1-1\" x=\"43.199219\" y=\"107.749191\"/>\n",
       "  <use xlink:href=\"#glyph1-1\" x=\"43.199219\" y=\"100.799164\"/>\n",
       "  <use xlink:href=\"#glyph1-1\" x=\"43.199219\" y=\"93.849136\"/>\n",
       "</g>\n",
       "<g style=\"fill:rgb(0%,0%,0%);fill-opacity:1;\">\n",
       "  <use xlink:href=\"#glyph1-3\" x=\"43.199219\" y=\"76.03125\"/>\n",
       "  <use xlink:href=\"#glyph1-1\" x=\"43.199219\" y=\"69.081223\"/>\n",
       "  <use xlink:href=\"#glyph1-1\" x=\"43.199219\" y=\"62.131195\"/>\n",
       "  <use xlink:href=\"#glyph1-1\" x=\"43.199219\" y=\"55.181168\"/>\n",
       "</g>\n",
       "<path style=\"fill:none;stroke-width:1;stroke-linecap:round;stroke-linejoin:round;stroke:rgb(0%,0%,0%);stroke-opacity:1;stroke-miterlimit:10;\" d=\"M 59.039062 142.558594 L 257.761719 142.558594 L 257.761719 59.039062 L 59.039062 59.039062 L 59.039062 142.558594 \"/>\n",
       "<g style=\"fill:rgb(0%,0%,0%);fill-opacity:1;\">\n",
       "  <use xlink:href=\"#glyph0-7\" x=\"124.355469\" y=\"198.71875\"/>\n",
       "  <use xlink:href=\"#glyph0-8\" x=\"130.605499\" y=\"198.71875\"/>\n",
       "  <use xlink:href=\"#glyph0-9\" x=\"137.555527\" y=\"198.71875\"/>\n",
       "  <use xlink:href=\"#glyph0-10\" x=\"144.505554\" y=\"198.71875\"/>\n",
       "  <use xlink:href=\"#glyph0-11\" x=\"150.755585\" y=\"198.71875\"/>\n",
       "  <use xlink:href=\"#glyph0-12\" x=\"157.705612\" y=\"198.71875\"/>\n",
       "  <use xlink:href=\"#glyph0-2\" x=\"160.480621\" y=\"198.71875\"/>\n",
       "  <use xlink:href=\"#glyph0-13\" x=\"167.430649\" y=\"198.71875\"/>\n",
       "  <use xlink:href=\"#glyph0-14\" x=\"174.380676\" y=\"198.71875\"/>\n",
       "  <use xlink:href=\"#glyph0-9\" x=\"178.543198\" y=\"198.71875\"/>\n",
       "  <use xlink:href=\"#glyph0-8\" x=\"185.493225\" y=\"198.71875\"/>\n",
       "</g>\n",
       "<g style=\"fill:rgb(0%,0%,0%);fill-opacity:1;\">\n",
       "  <use xlink:href=\"#glyph1-4\" x=\"14.398438\" y=\"142.480469\"/>\n",
       "  <use xlink:href=\"#glyph1-5\" x=\"14.398438\" y=\"136.230438\"/>\n",
       "  <use xlink:href=\"#glyph1-6\" x=\"14.398438\" y=\"129.280411\"/>\n",
       "  <use xlink:href=\"#glyph1-7\" x=\"14.398438\" y=\"122.330383\"/>\n",
       "  <use xlink:href=\"#glyph1-8\" x=\"14.398438\" y=\"116.080353\"/>\n",
       "  <use xlink:href=\"#glyph1-9\" x=\"14.398438\" y=\"109.130325\"/>\n",
       "  <use xlink:href=\"#glyph1-10\" x=\"14.398438\" y=\"106.355316\"/>\n",
       "  <use xlink:href=\"#glyph1-11\" x=\"14.398438\" y=\"99.405289\"/>\n",
       "  <use xlink:href=\"#glyph1-7\" x=\"14.398438\" y=\"92.455261\"/>\n",
       "  <use xlink:href=\"#glyph1-8\" x=\"14.398438\" y=\"86.205231\"/>\n",
       "  <use xlink:href=\"#glyph1-9\" x=\"14.398438\" y=\"79.255203\"/>\n",
       "  <use xlink:href=\"#glyph1-8\" x=\"14.398438\" y=\"76.480194\"/>\n",
       "  <use xlink:href=\"#glyph1-12\" x=\"14.398438\" y=\"69.530167\"/>\n",
       "  <use xlink:href=\"#glyph1-13\" x=\"14.398438\" y=\"65.367645\"/>\n",
       "</g>\n",
       "<g clip-path=\"url(#clip2)\" clip-rule=\"nonzero\">\n",
       "<path style=\"fill:none;stroke-width:1;stroke-linecap:round;stroke-linejoin:round;stroke:rgb(0%,0%,0%);stroke-opacity:1;stroke-miterlimit:10;\" d=\"M 59.039062 121.464844 L 257.761719 99.910156 \"/>\n",
       "</g>\n",
       "</g>\n",
       "</svg>\n"
      ]
     },
     "metadata": {
      "image/svg+xml": {
       "isolated": true
      }
     },
     "output_type": "display_data"
    }
   ],
   "source": [
    "library(foreign)\n",
    "ceosal1<-read.dta(\"https://github.com/thousandoaks/Wooldridge/blob/master/ceosal1.dta?raw=true\")\n",
    "\n",
    "# OLS regression\n",
    "CEOregres <- lm( salary ~ roe, data=ceosal1 )\n",
    "\n",
    "# Scatter plot (restrict y axis limits)\n",
    "plot(ceosal1$roe, ceosal1$salary, ylim=c(0,4000))\n",
    "\n",
    "# Add OLS regression line\n",
    "abline(CEOregres)\n"
   ]
  },
  {
   "cell_type": "markdown",
   "metadata": {},
   "source": [
    "### Wooldridge. Example 2.4 Wage and Education"
   ]
  },
  {
   "cell_type": "markdown",
   "metadata": {
    "collapsed": true
   },
   "source": [
    "We are using the data set in WAGE1.dta We are interested in studying the relation between education and wage. Thus"
   ]
  },
  {
   "cell_type": "markdown",
   "metadata": {},
   "source": [
    "\\begin{equation}\n",
    "wage=\\beta_0 + \\beta_1 * education +u\n",
    "\\end{equation}"
   ]
  },
  {
   "cell_type": "code",
   "execution_count": 5,
   "metadata": {},
   "outputs": [
    {
     "data": {
      "text/html": [
       "<table>\n",
       "<thead><tr><th scope=col>wage</th><th scope=col>educ</th><th scope=col>exper</th><th scope=col>tenure</th><th scope=col>nonwhite</th><th scope=col>female</th><th scope=col>married</th><th scope=col>numdep</th><th scope=col>smsa</th><th scope=col>northcen</th><th scope=col>...</th><th scope=col>trcommpu</th><th scope=col>trade</th><th scope=col>services</th><th scope=col>profserv</th><th scope=col>profocc</th><th scope=col>clerocc</th><th scope=col>servocc</th><th scope=col>lwage</th><th scope=col>expersq</th><th scope=col>tenursq</th></tr></thead>\n",
       "<tbody>\n",
       "\t<tr><td>3.10    </td><td>11      </td><td> 2      </td><td> 0      </td><td>0       </td><td>1       </td><td>0       </td><td>2       </td><td>1       </td><td>0       </td><td>...     </td><td>0       </td><td>0       </td><td>0       </td><td>0       </td><td>0       </td><td>0       </td><td>0       </td><td>1.131402</td><td>   4    </td><td>  0     </td></tr>\n",
       "\t<tr><td>3.24    </td><td>12      </td><td>22      </td><td> 2      </td><td>0       </td><td>1       </td><td>1       </td><td>3       </td><td>1       </td><td>0       </td><td>...     </td><td>0       </td><td>0       </td><td>1       </td><td>0       </td><td>0       </td><td>0       </td><td>1       </td><td>1.175573</td><td> 484    </td><td>  4     </td></tr>\n",
       "\t<tr><td>3.00    </td><td>11      </td><td> 2      </td><td> 0      </td><td>0       </td><td>0       </td><td>0       </td><td>2       </td><td>0       </td><td>0       </td><td>...     </td><td>0       </td><td>1       </td><td>0       </td><td>0       </td><td>0       </td><td>0       </td><td>0       </td><td>1.098612</td><td>   4    </td><td>  0     </td></tr>\n",
       "\t<tr><td>6.00    </td><td> 8      </td><td>44      </td><td>28      </td><td>0       </td><td>0       </td><td>1       </td><td>0       </td><td>1       </td><td>0       </td><td>...     </td><td>0       </td><td>0       </td><td>0       </td><td>0       </td><td>0       </td><td>1       </td><td>0       </td><td>1.791759</td><td>1936    </td><td>784     </td></tr>\n",
       "\t<tr><td>5.30    </td><td>12      </td><td> 7      </td><td> 2      </td><td>0       </td><td>0       </td><td>1       </td><td>1       </td><td>0       </td><td>0       </td><td>...     </td><td>0       </td><td>0       </td><td>0       </td><td>0       </td><td>0       </td><td>0       </td><td>0       </td><td>1.667707</td><td>  49    </td><td>  4     </td></tr>\n",
       "\t<tr><td>8.75    </td><td>16      </td><td> 9      </td><td> 8      </td><td>0       </td><td>0       </td><td>1       </td><td>0       </td><td>1       </td><td>0       </td><td>...     </td><td>0       </td><td>0       </td><td>0       </td><td>1       </td><td>1       </td><td>0       </td><td>0       </td><td>2.169054</td><td>  81    </td><td> 64     </td></tr>\n",
       "</tbody>\n",
       "</table>\n"
      ],
      "text/latex": [
       "\\begin{tabular}{r|llllllllllllllllllllllll}\n",
       " wage & educ & exper & tenure & nonwhite & female & married & numdep & smsa & northcen & ... & trcommpu & trade & services & profserv & profocc & clerocc & servocc & lwage & expersq & tenursq\\\\\n",
       "\\hline\n",
       "\t 3.10     & 11       &  2       &  0       & 0        & 1        & 0        & 2        & 1        & 0        & ...      & 0        & 0        & 0        & 0        & 0        & 0        & 0        & 1.131402 &    4     &   0     \\\\\n",
       "\t 3.24     & 12       & 22       &  2       & 0        & 1        & 1        & 3        & 1        & 0        & ...      & 0        & 0        & 1        & 0        & 0        & 0        & 1        & 1.175573 &  484     &   4     \\\\\n",
       "\t 3.00     & 11       &  2       &  0       & 0        & 0        & 0        & 2        & 0        & 0        & ...      & 0        & 1        & 0        & 0        & 0        & 0        & 0        & 1.098612 &    4     &   0     \\\\\n",
       "\t 6.00     &  8       & 44       & 28       & 0        & 0        & 1        & 0        & 1        & 0        & ...      & 0        & 0        & 0        & 0        & 0        & 1        & 0        & 1.791759 & 1936     & 784     \\\\\n",
       "\t 5.30     & 12       &  7       &  2       & 0        & 0        & 1        & 1        & 0        & 0        & ...      & 0        & 0        & 0        & 0        & 0        & 0        & 0        & 1.667707 &   49     &   4     \\\\\n",
       "\t 8.75     & 16       &  9       &  8       & 0        & 0        & 1        & 0        & 1        & 0        & ...      & 0        & 0        & 0        & 1        & 1        & 0        & 0        & 2.169054 &   81     &  64     \\\\\n",
       "\\end{tabular}\n"
      ],
      "text/markdown": [
       "\n",
       "wage | educ | exper | tenure | nonwhite | female | married | numdep | smsa | northcen | ... | trcommpu | trade | services | profserv | profocc | clerocc | servocc | lwage | expersq | tenursq | \n",
       "|---|---|---|---|---|---|\n",
       "| 3.10     | 11       |  2       |  0       | 0        | 1        | 0        | 2        | 1        | 0        | ...      | 0        | 0        | 0        | 0        | 0        | 0        | 0        | 1.131402 |    4     |   0      | \n",
       "| 3.24     | 12       | 22       |  2       | 0        | 1        | 1        | 3        | 1        | 0        | ...      | 0        | 0        | 1        | 0        | 0        | 0        | 1        | 1.175573 |  484     |   4      | \n",
       "| 3.00     | 11       |  2       |  0       | 0        | 0        | 0        | 2        | 0        | 0        | ...      | 0        | 1        | 0        | 0        | 0        | 0        | 0        | 1.098612 |    4     |   0      | \n",
       "| 6.00     |  8       | 44       | 28       | 0        | 0        | 1        | 0        | 1        | 0        | ...      | 0        | 0        | 0        | 0        | 0        | 1        | 0        | 1.791759 | 1936     | 784      | \n",
       "| 5.30     | 12       |  7       |  2       | 0        | 0        | 1        | 1        | 0        | 0        | ...      | 0        | 0        | 0        | 0        | 0        | 0        | 0        | 1.667707 |   49     |   4      | \n",
       "| 8.75     | 16       |  9       |  8       | 0        | 0        | 1        | 0        | 1        | 0        | ...      | 0        | 0        | 0        | 1        | 1        | 0        | 0        | 2.169054 |   81     |  64      | \n",
       "\n",
       "\n"
      ],
      "text/plain": [
       "  wage educ exper tenure nonwhite female married numdep smsa northcen ...\n",
       "1 3.10 11    2     0     0        1      0       2      1    0        ...\n",
       "2 3.24 12   22     2     0        1      1       3      1    0        ...\n",
       "3 3.00 11    2     0     0        0      0       2      0    0        ...\n",
       "4 6.00  8   44    28     0        0      1       0      1    0        ...\n",
       "5 5.30 12    7     2     0        0      1       1      0    0        ...\n",
       "6 8.75 16    9     8     0        0      1       0      1    0        ...\n",
       "  trcommpu trade services profserv profocc clerocc servocc lwage    expersq\n",
       "1 0        0     0        0        0       0       0       1.131402    4   \n",
       "2 0        0     1        0        0       0       1       1.175573  484   \n",
       "3 0        1     0        0        0       0       0       1.098612    4   \n",
       "4 0        0     0        0        0       1       0       1.791759 1936   \n",
       "5 0        0     0        0        0       0       0       1.667707   49   \n",
       "6 0        0     0        1        1       0       0       2.169054   81   \n",
       "  tenursq\n",
       "1   0    \n",
       "2   4    \n",
       "3   0    \n",
       "4 784    \n",
       "5   4    \n",
       "6  64    "
      ]
     },
     "metadata": {},
     "output_type": "display_data"
    }
   ],
   "source": [
    "library(foreign)\n",
    "wage1<-read.dta(\"https://github.com/thousandoaks/Wooldridge/blob/master/wage1.dta?raw=true\")\n",
    "\n",
    "head(wage1)"
   ]
  },
  {
   "cell_type": "code",
   "execution_count": 6,
   "metadata": {},
   "outputs": [
    {
     "data": {
      "text/plain": [
       "\n",
       "Call:\n",
       "lm(formula = wage ~ educ, data = wage1)\n",
       "\n",
       "Coefficients:\n",
       "(Intercept)         educ  \n",
       "    -0.9049       0.5414  \n"
      ]
     },
     "metadata": {},
     "output_type": "display_data"
    }
   ],
   "source": [
    "# OLS regression:\n",
    "lm(wage ~ educ, data=wage1)"
   ]
  },
  {
   "cell_type": "code",
   "execution_count": null,
   "metadata": {},
   "outputs": [],
   "source": []
  },
  {
   "cell_type": "markdown",
   "metadata": {},
   "source": [
    "Given the previous results, we conclude that one additional year of education is associated with an increase of the typical wage by about 54 cents an hour"
   ]
  },
  {
   "cell_type": "code",
   "execution_count": null,
   "metadata": {},
   "outputs": [],
   "source": []
  },
  {
   "cell_type": "markdown",
   "metadata": {},
   "source": [
    "### Wooldridge. Example 2.5 Voting Outcomes and Campaign Expenditures"
   ]
  },
  {
   "cell_type": "markdown",
   "metadata": {},
   "source": [
    "The file VOTE1 contains data on election outcomes and campaign expenditures for 173 two-party races for the US. House of Representatives in 1998. There are two candidates in each race A and B. Let the voteA be the percentage of the vote received by CandidateA and share A be the percentage of total campaign expenditure accounted for by CandidateA. "
   ]
  },
  {
   "cell_type": "markdown",
   "metadata": {},
   "source": [
    "We can estimate a simple regression model to find out whether spending more relative to one's challenger implies a higher percentage of the vote. Thus we entertain a model of the form."
   ]
  },
  {
   "cell_type": "markdown",
   "metadata": {},
   "source": [
    "\\begin{equation}\n",
    "voteA=\\beta_0 + \\beta_1 * shareA +u\n",
    "\\end{equation}"
   ]
  },
  {
   "cell_type": "code",
   "execution_count": 7,
   "metadata": {},
   "outputs": [
    {
     "data": {
      "text/plain": [
       "\n",
       "Call:\n",
       "lm(formula = voteA ~ shareA, data = vote1)\n",
       "\n",
       "Coefficients:\n",
       "(Intercept)       shareA  \n",
       "    26.8125       0.4638  \n"
      ]
     },
     "metadata": {},
     "output_type": "display_data"
    },
    {
     "data": {
      "image/jpeg": "[encoded data removed]",
      "image/png": "",
      "image/svg+xml": [
       "<?xml version=\"1.0\" encoding=\"UTF-8\"?>\n",
       "<svg xmlns=\"http://www.w3.org/2000/svg\" xmlns:xlink=\"http://www.w3.org/1999/xlink\" width=\"288pt\" height=\"216pt\" viewBox=\"0 0 288 216\" version=\"1.1\">\n",
       "<defs>\n",
       "<g>\n",
       "<symbol overflow=\"visible\" id=\"glyph0-0\">\n",
       "<path style=\"stroke:none;\" d=\"\"/>\n",
       "</symbol>\n",
       "<symbol overflow=\"visible\" id=\"glyph0-1\">\n",
       "<path style=\"stroke:none;\" d=\"M 6.46875 -4.390625 C 6.46875 -7.46875 5.359375 -9.125 3.4375 -9.125 C 1.53125 -9.125 0.40625 -7.4375 0.40625 -4.46875 C 0.40625 -1.46875 1.53125 0.1875 3.4375 0.1875 C 5.3125 0.1875 6.46875 -1.46875 6.46875 -4.390625 Z M 5.078125 -4.484375 C 5.078125 -1.96875 4.640625 -0.984375 3.40625 -0.984375 C 2.25 -0.984375 1.78125 -2.03125 1.78125 -4.453125 C 1.78125 -6.875 2.25 -7.890625 3.4375 -7.890625 C 4.625 -7.890625 5.078125 -6.859375 5.078125 -4.484375 Z M 5.078125 -4.484375 \"/>\n",
       "</symbol>\n",
       "<symbol overflow=\"visible\" id=\"glyph0-2\">\n",
       "<path style=\"stroke:none;\" d=\"M 6.515625 -6.390625 C 6.515625 -7.890625 5.21875 -9.125 3.546875 -9.125 C 1.734375 -9.125 0.546875 -8.0625 0.484375 -5.78125 L 1.84375 -5.78125 C 1.9375 -7.40625 2.421875 -7.90625 3.515625 -7.90625 C 4.515625 -7.90625 5.125 -7.3125 5.125 -6.359375 C 5.125 -5.65625 4.75 -5.15625 3.96875 -4.703125 L 2.8125 -4.046875 C 0.96875 -3 0.390625 -2.078125 0.28125 0 L 6.453125 0 L 6.453125 -1.34375 L 1.8125 -1.34375 C 1.90625 -1.9375 2.265625 -2.3125 3.34375 -2.953125 L 4.59375 -3.625 C 5.84375 -4.28125 6.515625 -5.296875 6.515625 -6.390625 Z M 6.515625 -6.390625 \"/>\n",
       "</symbol>\n",
       "<symbol overflow=\"visible\" id=\"glyph0-3\">\n",
       "<path style=\"stroke:none;\" d=\"M 6.625 -2.25 L 6.625 -3.375 L 5.3125 -3.375 L 5.3125 -9.125 L 4.296875 -9.125 L 0.21875 -3.453125 L 0.21875 -2.125 L 3.953125 -2.125 L 3.953125 0 L 5.3125 0 L 5.3125 -2.125 L 6.625 -2.125 Z M 4.09375 -3.375 L 1.5625 -3.375 L 4.171875 -7.03125 L 3.953125 -7.109375 L 3.953125 -3.375 Z M 4.09375 -3.375 \"/>\n",
       "</symbol>\n",
       "<symbol overflow=\"visible\" id=\"glyph0-4\">\n",
       "<path style=\"stroke:none;\" d=\"M 6.53125 -2.875 C 6.53125 -4.53125 5.28125 -5.78125 3.703125 -5.78125 C 2.828125 -5.78125 2.03125 -5.390625 1.5625 -4.734375 L 1.78125 -4.65625 C 1.796875 -6.8125 2.375 -7.890625 3.640625 -7.890625 C 4.40625 -7.890625 4.8125 -7.53125 5.015625 -6.546875 L 6.375 -6.546875 C 6.140625 -8.125 5.0625 -9.125 3.71875 -9.125 C 1.65625 -9.125 0.40625 -7.25 0.40625 -4.15625 C 0.40625 -1.40625 1.484375 0.1875 3.515625 0.1875 C 5.203125 0.1875 6.53125 -1.140625 6.53125 -2.875 Z M 5.15625 -2.78125 C 5.15625 -1.671875 4.53125 -1.046875 3.53125 -1.046875 C 2.5 -1.046875 1.84375 -1.71875 1.84375 -2.84375 C 1.84375 -3.953125 2.46875 -4.53125 3.5625 -4.53125 C 4.625 -4.53125 5.15625 -3.96875 5.15625 -2.78125 Z M 5.15625 -2.78125 \"/>\n",
       "</symbol>\n",
       "<symbol overflow=\"visible\" id=\"glyph0-5\">\n",
       "<path style=\"stroke:none;\" d=\"M 6.53125 -2.625 C 6.53125 -3.609375 5.90625 -4.4375 5.140625 -4.796875 C 5.890625 -5.25 6.21875 -5.78125 6.21875 -6.625 C 6.21875 -8.015625 5.015625 -9.125 3.4375 -9.125 C 1.875 -9.125 0.640625 -8.015625 0.640625 -6.625 C 0.640625 -5.796875 0.96875 -5.265625 1.71875 -4.796875 C 0.96875 -4.4375 0.328125 -3.609375 0.328125 -2.640625 C 0.328125 -1.015625 1.6875 0.1875 3.4375 0.1875 C 5.1875 0.1875 6.53125 -1.015625 6.53125 -2.625 Z M 4.84375 -6.59375 C 4.84375 -5.78125 4.359375 -5.359375 3.4375 -5.359375 C 2.515625 -5.359375 2.03125 -5.78125 2.03125 -6.609375 C 2.03125 -7.46875 2.515625 -7.890625 3.4375 -7.890625 C 4.375 -7.890625 4.84375 -7.46875 4.84375 -6.59375 Z M 5.15625 -2.609375 C 5.15625 -1.5625 4.53125 -1.046875 3.40625 -1.046875 C 2.34375 -1.046875 1.71875 -1.578125 1.71875 -2.609375 C 1.71875 -3.65625 2.34375 -4.171875 3.4375 -4.171875 C 4.53125 -4.171875 5.15625 -3.65625 5.15625 -2.609375 Z M 5.15625 -2.609375 \"/>\n",
       "</symbol>\n",
       "<symbol overflow=\"visible\" id=\"glyph0-6\">\n",
       "<path style=\"stroke:none;\" d=\"M 4.46875 -0.125 L 4.46875 -9.125 L 3.515625 -9.125 C 3.09375 -7.625 2.96875 -7.578125 1.140625 -7.34375 L 1.140625 -6.3125 L 3.09375 -6.3125 L 3.09375 0 L 4.46875 0 Z M 4.46875 -0.125 \"/>\n",
       "</symbol>\n",
       "<symbol overflow=\"visible\" id=\"glyph0-7\">\n",
       "<path style=\"stroke:none;\" d=\"M 6.078125 -6.8125 L 4.8125 -6.8125 L 2.90625 -1.359375 L 3.171875 -1.359375 L 1.390625 -6.8125 L -0.0625 -6.8125 L 2.34375 0 L 3.640625 0 L 6.25 -6.8125 Z M 6.078125 -6.8125 \"/>\n",
       "</symbol>\n",
       "<symbol overflow=\"visible\" id=\"glyph0-8\">\n",
       "<path style=\"stroke:none;\" d=\"M 6.5 -3.34375 C 6.5 -5.609375 5.28125 -7 3.40625 -7 C 1.5625 -7 0.3125 -5.59375 0.3125 -3.40625 C 0.3125 -1.203125 1.546875 0.1875 3.40625 0.1875 C 5.25 0.1875 6.5 -1.203125 6.5 -3.34375 Z M 5.15625 -3.359375 C 5.15625 -1.828125 4.5625 -1.03125 3.40625 -1.03125 C 2.25 -1.03125 1.65625 -1.8125 1.65625 -3.40625 C 1.65625 -4.96875 2.25 -5.78125 3.40625 -5.78125 C 4.59375 -5.78125 5.15625 -4.984375 5.15625 -3.359375 Z M 5.15625 -3.359375 \"/>\n",
       "</symbol>\n",
       "<symbol overflow=\"visible\" id=\"glyph0-9\">\n",
       "<path style=\"stroke:none;\" d=\"M 3.296875 -0.125 L 3.296875 -1.171875 C 3.03125 -1.09375 2.875 -1.09375 2.671875 -1.09375 C 2.21875 -1.09375 2.21875 -1.078125 2.21875 -1.53125 L 2.21875 -5.703125 L 3.296875 -5.703125 L 3.296875 -6.8125 L 2.21875 -6.8125 L 2.21875 -8.609375 L 0.921875 -8.609375 L 0.921875 -6.8125 L 0.03125 -6.8125 L 0.03125 -5.703125 L 0.921875 -5.703125 L 0.921875 -1.078125 C 0.921875 -0.40625 1.515625 0.09375 2.328125 0.09375 C 2.578125 0.09375 2.828125 0.0625 3.296875 -0.015625 Z M 3.296875 -0.125 \"/>\n",
       "</symbol>\n",
       "<symbol overflow=\"visible\" id=\"glyph0-10\">\n",
       "<path style=\"stroke:none;\" d=\"M 6.53125 -3.09375 C 6.53125 -4.046875 6.46875 -4.65625 6.28125 -5.140625 C 5.84375 -6.21875 4.71875 -7 3.5 -7 C 1.671875 -7 0.359375 -5.515625 0.359375 -3.359375 C 0.359375 -1.21875 1.640625 0.1875 3.46875 0.1875 C 4.96875 0.1875 6.140625 -0.78125 6.421875 -2.25 L 5.125 -2.25 C 4.796875 -1.25 4.34375 -1.03125 3.515625 -1.03125 C 2.421875 -1.03125 1.734375 -1.59375 1.71875 -2.96875 L 6.53125 -2.96875 Z M 5.390625 -3.9375 C 5.390625 -3.9375 5.203125 -4.0625 5.21875 -4.09375 L 1.75 -4.09375 C 1.828125 -5.109375 2.4375 -5.78125 3.484375 -5.78125 C 4.515625 -5.78125 5.15625 -5.046875 5.15625 -4.03125 Z M 5.390625 -3.9375 \"/>\n",
       "</symbol>\n",
       "<symbol overflow=\"visible\" id=\"glyph0-11\">\n",
       "<path style=\"stroke:none;\" d=\"M 6.59375 -2.5625 C 6.59375 -3.453125 6.21875 -4.15625 5.5 -4.578125 C 5.171875 -4.765625 4.921875 -4.875 3.90625 -5.171875 L 3.90625 -8.0625 C 4.609375 -8.03125 5.0625 -7.53125 5.078125 -6.484375 L 6.328125 -6.484375 C 6.328125 -8.03125 5.28125 -9.09375 3.90625 -9.203125 L 3.90625 -9.890625 L 2.90625 -9.890625 L 2.90625 -9.1875 C 1.4375 -9.015625 0.4375 -8 0.4375 -6.578125 C 0.4375 -5.78125 0.78125 -5.09375 1.359375 -4.65625 C 1.6875 -4.421875 2.125 -4.25 2.90625 -4.015625 L 2.90625 -0.84375 C 2.484375 -0.90625 2.078125 -1.109375 1.796875 -1.5 C 1.59375 -1.78125 1.609375 -1.90625 1.515625 -2.859375 L 0.28125 -2.859375 C 0.28125 -2.65625 0.265625 -2.578125 0.265625 -2.515625 C 0.265625 -0.90625 1.34375 0.1875 2.90625 0.28125 L 2.90625 1.578125 L 3.90625 1.578125 L 3.90625 0.28125 C 5.53125 0.15625 6.59375 -0.984375 6.59375 -2.5625 Z M 3.03125 -5.328125 C 2.046875 -5.59375 1.71875 -5.9375 1.71875 -6.703125 C 1.71875 -7.53125 2.109375 -7.9375 2.90625 -8.03125 L 2.90625 -5.34375 Z M 5.3125 -2.40625 C 5.3125 -1.53125 4.890625 -0.96875 3.90625 -0.84375 L 3.90625 -3.8125 C 5.046875 -3.484375 5.3125 -3.234375 5.3125 -2.40625 Z M 5.3125 -2.40625 \"/>\n",
       "</symbol>\n",
       "<symbol overflow=\"visible\" id=\"glyph0-12\">\n",
       "<path style=\"stroke:none;\" d=\"M 5.859375 -1.96875 C 5.859375 -2.9375 5.1875 -3.5625 3.890625 -3.875 L 2.890625 -4.109375 C 2.03125 -4.3125 1.796875 -4.453125 1.796875 -4.90625 C 1.796875 -5.515625 2.21875 -5.78125 3.0625 -5.78125 C 3.90625 -5.78125 4.21875 -5.53125 4.234375 -4.71875 L 5.59375 -4.71875 C 5.59375 -6.140625 4.609375 -7 3.09375 -7 C 1.578125 -7 0.453125 -6.078125 0.453125 -4.859375 C 0.453125 -3.84375 1.109375 -3.21875 2.65625 -2.84375 L 3.640625 -2.609375 C 4.359375 -2.4375 4.515625 -2.34375 4.515625 -1.875 C 4.515625 -1.265625 4.03125 -1.03125 3.125 -1.03125 C 2.1875 -1.03125 1.78125 -1.125 1.640625 -2.265625 L 0.28125 -2.265625 C 0.34375 -0.609375 1.328125 0.1875 3.03125 0.1875 C 4.6875 0.1875 5.859375 -0.703125 5.859375 -1.96875 Z M 5.859375 -1.96875 \"/>\n",
       "</symbol>\n",
       "<symbol overflow=\"visible\" id=\"glyph0-13\">\n",
       "<path style=\"stroke:none;\" d=\"M 6.203125 -0.125 L 6.203125 -5.078125 C 6.203125 -6.171875 5.28125 -7 4.015625 -7 C 3.09375 -7 2.421875 -6.65625 1.8125 -5.859375 L 2.03125 -5.78125 L 2.03125 -9.375 L 0.734375 -9.375 L 0.734375 0 L 2.03125 0 L 2.03125 -3.734375 C 2.03125 -5.078125 2.609375 -5.828125 3.6875 -5.828125 C 4.421875 -5.828125 4.90625 -5.53125 4.90625 -4.65625 L 4.90625 0 L 6.203125 0 Z M 6.203125 -0.125 \"/>\n",
       "</symbol>\n",
       "<symbol overflow=\"visible\" id=\"glyph0-14\">\n",
       "<path style=\"stroke:none;\" d=\"M 6.8125 -0.15625 L 6.8125 -1.09375 C 6.578125 -1.046875 6.53125 -1.046875 6.46875 -1.046875 C 6.09375 -1.046875 6.03125 -1.09375 6.03125 -1.421875 L 6.03125 -5.078125 C 6.03125 -6.234375 5.046875 -7 3.4375 -7 C 1.84375 -7 0.734375 -6.25 0.65625 -4.609375 L 1.96875 -4.609375 C 2.078125 -5.53125 2.421875 -5.78125 3.40625 -5.78125 C 4.34375 -5.78125 4.71875 -5.546875 4.71875 -4.921875 L 4.71875 -4.65625 C 4.71875 -4.21875 4.59375 -4.15625 3.78125 -4.0625 C 2.296875 -3.875 2.078125 -3.828125 1.671875 -3.65625 C 0.90625 -3.34375 0.390625 -2.625 0.390625 -1.828125 C 0.390625 -0.640625 1.34375 0.1875 2.671875 0.1875 C 3.515625 0.1875 4.40625 -0.203125 4.828125 -0.640625 C 4.875 -0.40625 5.46875 0.09375 5.96875 0.09375 C 6.1875 0.09375 6.34375 0.0625 6.8125 -0.046875 Z M 4.71875 -2.390625 C 4.71875 -1.453125 3.90625 -0.984375 2.90625 -0.984375 C 2.09375 -0.984375 1.734375 -1.140625 1.734375 -1.84375 C 1.734375 -2.53125 2.078125 -2.71875 3.1875 -2.875 C 4.28125 -3.03125 4.515625 -3.078125 4.71875 -3.171875 Z M 4.71875 -2.390625 \"/>\n",
       "</symbol>\n",
       "<symbol overflow=\"visible\" id=\"glyph0-15\">\n",
       "<path style=\"stroke:none;\" d=\"M 4.140625 -5.765625 L 4.140625 -6.9375 C 3.84375 -6.984375 3.75 -7 3.609375 -7 C 2.9375 -7 2.328125 -6.546875 1.71875 -5.578125 L 1.953125 -5.484375 L 1.953125 -6.8125 L 0.734375 -6.8125 L 0.734375 0 L 2.03125 0 L 2.03125 -3.53125 C 2.03125 -5 2.40625 -5.609375 4.140625 -5.640625 Z M 4.140625 -5.765625 \"/>\n",
       "</symbol>\n",
       "<symbol overflow=\"visible\" id=\"glyph0-16\">\n",
       "<path style=\"stroke:none;\" d=\"M 8.28125 -0.125 L 5.03125 -9.375 L 3.375 -9.375 L 0.03125 0 L 1.53125 0 L 2.484375 -2.734375 L 5.84375 -2.734375 L 6.78125 0 L 8.34375 0 Z M 5.59375 -3.96875 L 2.875 -3.96875 L 4.328125 -7.984375 L 4.0625 -7.984375 L 5.40625 -3.96875 Z M 5.59375 -3.96875 \"/>\n",
       "</symbol>\n",
       "<symbol overflow=\"visible\" id=\"glyph1-0\">\n",
       "<path style=\"stroke:none;\" d=\"\"/>\n",
       "</symbol>\n",
       "<symbol overflow=\"visible\" id=\"glyph1-1\">\n",
       "<path style=\"stroke:none;\" d=\"M -6.390625 -6.515625 C -7.890625 -6.515625 -9.125 -5.21875 -9.125 -3.546875 C -9.125 -1.734375 -8.0625 -0.546875 -5.78125 -0.484375 L -5.78125 -1.84375 C -7.40625 -1.9375 -7.90625 -2.421875 -7.90625 -3.515625 C -7.90625 -4.515625 -7.3125 -5.125 -6.359375 -5.125 C -5.65625 -5.125 -5.15625 -4.75 -4.703125 -3.96875 L -4.046875 -2.8125 C -3 -0.96875 -2.078125 -0.390625 0 -0.28125 L 0 -6.453125 L -1.34375 -6.453125 L -1.34375 -1.8125 C -1.9375 -1.90625 -2.3125 -2.265625 -2.953125 -3.34375 L -3.625 -4.59375 C -4.28125 -5.84375 -5.296875 -6.515625 -6.390625 -6.515625 Z M -6.390625 -6.515625 \"/>\n",
       "</symbol>\n",
       "<symbol overflow=\"visible\" id=\"glyph1-2\">\n",
       "<path style=\"stroke:none;\" d=\"M -4.390625 -6.46875 C -7.46875 -6.46875 -9.125 -5.359375 -9.125 -3.4375 C -9.125 -1.53125 -7.4375 -0.40625 -4.46875 -0.40625 C -1.46875 -0.40625 0.1875 -1.53125 0.1875 -3.4375 C 0.1875 -5.3125 -1.46875 -6.46875 -4.390625 -6.46875 Z M -4.484375 -5.078125 C -1.96875 -5.078125 -0.984375 -4.640625 -0.984375 -3.40625 C -0.984375 -2.25 -2.03125 -1.78125 -4.453125 -1.78125 C -6.875 -1.78125 -7.890625 -2.25 -7.890625 -3.4375 C -7.890625 -4.625 -6.859375 -5.078125 -4.484375 -5.078125 Z M -4.484375 -5.078125 \"/>\n",
       "</symbol>\n",
       "<symbol overflow=\"visible\" id=\"glyph1-3\">\n",
       "<path style=\"stroke:none;\" d=\"M -3.0625 -6.53125 C -4.8125 -6.53125 -6.09375 -5.25 -6.09375 -3.546875 C -6.09375 -2.921875 -5.890625 -2.328125 -5.71875 -2.09375 L -7.59375 -2.359375 L -7.59375 -6.078125 L -8.9375 -6.078125 L -8.9375 -1.25 L -4.03125 -0.546875 L -4.03125 -1.78125 C -4.6875 -2.328125 -4.859375 -2.65625 -4.859375 -3.34375 C -4.859375 -4.53125 -4.21875 -5.15625 -2.90625 -5.15625 C -1.640625 -5.15625 -1.046875 -4.546875 -1.046875 -3.34375 C -1.046875 -2.390625 -1.40625 -1.921875 -2.53125 -1.625 L -2.53125 -0.28125 C -0.640625 -0.65625 0.1875 -1.796875 0.1875 -3.375 C 0.1875 -5.15625 -1.1875 -6.53125 -3.0625 -6.53125 Z M -3.0625 -6.53125 \"/>\n",
       "</symbol>\n",
       "<symbol overflow=\"visible\" id=\"glyph1-4\">\n",
       "<path style=\"stroke:none;\" d=\"M -2.625 -6.53125 C -3.609375 -6.53125 -4.4375 -5.90625 -4.796875 -5.140625 C -5.25 -5.890625 -5.78125 -6.21875 -6.625 -6.21875 C -8.015625 -6.21875 -9.125 -5.015625 -9.125 -3.4375 C -9.125 -1.875 -8.015625 -0.640625 -6.625 -0.640625 C -5.796875 -0.640625 -5.265625 -0.96875 -4.796875 -1.71875 C -4.4375 -0.96875 -3.609375 -0.328125 -2.640625 -0.328125 C -1.015625 -0.328125 0.1875 -1.6875 0.1875 -3.4375 C 0.1875 -5.1875 -1.015625 -6.53125 -2.625 -6.53125 Z M -6.59375 -4.84375 C -5.78125 -4.84375 -5.359375 -4.359375 -5.359375 -3.4375 C -5.359375 -2.515625 -5.78125 -2.03125 -6.609375 -2.03125 C -7.46875 -2.03125 -7.890625 -2.515625 -7.890625 -3.4375 C -7.890625 -4.375 -7.46875 -4.84375 -6.59375 -4.84375 Z M -2.609375 -5.15625 C -1.5625 -5.15625 -1.046875 -4.53125 -1.046875 -3.40625 C -1.046875 -2.34375 -1.578125 -1.71875 -2.609375 -1.71875 C -3.65625 -1.71875 -4.171875 -2.34375 -4.171875 -3.4375 C -4.171875 -4.53125 -3.65625 -5.15625 -2.609375 -5.15625 Z M -2.609375 -5.15625 \"/>\n",
       "</symbol>\n",
       "<symbol overflow=\"visible\" id=\"glyph1-5\">\n",
       "<path style=\"stroke:none;\" d=\"M -6.8125 -6.078125 L -6.8125 -4.8125 L -1.359375 -2.90625 L -1.359375 -3.171875 L -6.8125 -1.390625 L -6.8125 0.0625 L 0 -2.34375 L 0 -3.640625 L -6.8125 -6.25 Z M -6.8125 -6.078125 \"/>\n",
       "</symbol>\n",
       "<symbol overflow=\"visible\" id=\"glyph1-6\">\n",
       "<path style=\"stroke:none;\" d=\"M -3.34375 -6.5 C -5.609375 -6.5 -7 -5.28125 -7 -3.40625 C -7 -1.5625 -5.59375 -0.3125 -3.40625 -0.3125 C -1.203125 -0.3125 0.1875 -1.546875 0.1875 -3.40625 C 0.1875 -5.25 -1.203125 -6.5 -3.34375 -6.5 Z M -3.359375 -5.15625 C -1.828125 -5.15625 -1.03125 -4.5625 -1.03125 -3.40625 C -1.03125 -2.25 -1.8125 -1.65625 -3.40625 -1.65625 C -4.96875 -1.65625 -5.78125 -2.25 -5.78125 -3.40625 C -5.78125 -4.59375 -4.984375 -5.15625 -3.359375 -5.15625 Z M -3.359375 -5.15625 \"/>\n",
       "</symbol>\n",
       "<symbol overflow=\"visible\" id=\"glyph1-7\">\n",
       "<path style=\"stroke:none;\" d=\"M -0.125 -3.296875 L -1.171875 -3.296875 C -1.09375 -3.03125 -1.09375 -2.875 -1.09375 -2.671875 C -1.09375 -2.21875 -1.078125 -2.21875 -1.53125 -2.21875 L -5.703125 -2.21875 L -5.703125 -3.296875 L -6.8125 -3.296875 L -6.8125 -2.21875 L -8.609375 -2.21875 L -8.609375 -0.921875 L -6.8125 -0.921875 L -6.8125 -0.03125 L -5.703125 -0.03125 L -5.703125 -0.921875 L -1.078125 -0.921875 C -0.40625 -0.921875 0.09375 -1.515625 0.09375 -2.328125 C 0.09375 -2.578125 0.0625 -2.828125 -0.015625 -3.296875 Z M -0.125 -3.296875 \"/>\n",
       "</symbol>\n",
       "<symbol overflow=\"visible\" id=\"glyph1-8\">\n",
       "<path style=\"stroke:none;\" d=\"M -3.09375 -6.53125 C -4.046875 -6.53125 -4.65625 -6.46875 -5.140625 -6.28125 C -6.21875 -5.84375 -7 -4.71875 -7 -3.5 C -7 -1.671875 -5.515625 -0.359375 -3.359375 -0.359375 C -1.21875 -0.359375 0.1875 -1.640625 0.1875 -3.46875 C 0.1875 -4.96875 -0.78125 -6.140625 -2.25 -6.421875 L -2.25 -5.125 C -1.25 -4.796875 -1.03125 -4.34375 -1.03125 -3.515625 C -1.03125 -2.421875 -1.59375 -1.734375 -2.96875 -1.71875 L -2.96875 -6.53125 Z M -3.9375 -5.390625 C -3.9375 -5.390625 -4.0625 -5.203125 -4.09375 -5.21875 L -4.09375 -1.75 C -5.109375 -1.828125 -5.78125 -2.4375 -5.78125 -3.484375 C -5.78125 -4.515625 -5.046875 -5.15625 -4.03125 -5.15625 Z M -3.9375 -5.390625 \"/>\n",
       "</symbol>\n",
       "<symbol overflow=\"visible\" id=\"glyph1-9\">\n",
       "<path style=\"stroke:none;\" d=\"M -0.125 -4.46875 L -9.125 -4.46875 L -9.125 -3.515625 C -7.625 -3.09375 -7.578125 -2.96875 -7.34375 -1.140625 L -6.3125 -1.140625 L -6.3125 -3.09375 L 0 -3.09375 L 0 -4.46875 Z M -0.125 -4.46875 \"/>\n",
       "</symbol>\n",
       "<symbol overflow=\"visible\" id=\"glyph1-10\">\n",
       "<path style=\"stroke:none;\" d=\"M -2.5625 -6.59375 C -3.453125 -6.59375 -4.15625 -6.21875 -4.578125 -5.5 C -4.765625 -5.171875 -4.875 -4.921875 -5.171875 -3.90625 L -8.0625 -3.90625 C -8.03125 -4.609375 -7.53125 -5.0625 -6.484375 -5.078125 L -6.484375 -6.328125 C -8.03125 -6.328125 -9.09375 -5.28125 -9.203125 -3.90625 L -9.890625 -3.90625 L -9.890625 -2.90625 L -9.1875 -2.90625 C -9.015625 -1.4375 -8 -0.4375 -6.578125 -0.4375 C -5.78125 -0.4375 -5.09375 -0.78125 -4.65625 -1.359375 C -4.421875 -1.6875 -4.25 -2.125 -4.015625 -2.90625 L -0.84375 -2.90625 C -0.90625 -2.484375 -1.109375 -2.078125 -1.5 -1.796875 C -1.78125 -1.59375 -1.90625 -1.609375 -2.859375 -1.515625 L -2.859375 -0.28125 C -2.65625 -0.28125 -2.578125 -0.265625 -2.515625 -0.265625 C -0.90625 -0.265625 0.1875 -1.34375 0.28125 -2.90625 L 1.578125 -2.90625 L 1.578125 -3.90625 L 0.28125 -3.90625 C 0.15625 -5.53125 -0.984375 -6.59375 -2.5625 -6.59375 Z M -5.328125 -3.03125 C -5.59375 -2.046875 -5.9375 -1.71875 -6.703125 -1.71875 C -7.53125 -1.71875 -7.9375 -2.109375 -8.03125 -2.90625 L -5.34375 -2.90625 Z M -2.40625 -5.3125 C -1.53125 -5.3125 -0.96875 -4.890625 -0.84375 -3.90625 L -3.8125 -3.90625 C -3.484375 -5.046875 -3.234375 -5.3125 -2.40625 -5.3125 Z M -2.40625 -5.3125 \"/>\n",
       "</symbol>\n",
       "<symbol overflow=\"visible\" id=\"glyph1-11\">\n",
       "<path style=\"stroke:none;\" d=\"M -0.125 -8.28125 L -9.375 -5.03125 L -9.375 -3.375 L 0 -0.03125 L 0 -1.53125 L -2.734375 -2.484375 L -2.734375 -5.84375 L 0 -6.78125 L 0 -8.34375 Z M -3.96875 -5.59375 L -3.96875 -2.875 L -7.984375 -4.328125 L -7.984375 -4.0625 L -3.96875 -5.40625 Z M -3.96875 -5.59375 \"/>\n",
       "</symbol>\n",
       "</g>\n",
       "<clipPath id=\"clip1\">\n",
       "  <path d=\"M 239 59.039062 L 248 59.039062 L 248 66 L 239 66 Z M 239 59.039062 \"/>\n",
       "</clipPath>\n",
       "<clipPath id=\"clip2\">\n",
       "  <path d=\"M 65 135 L 73 135 L 73 143.558594 L 65 143.558594 Z M 65 135 \"/>\n",
       "</clipPath>\n",
       "<clipPath id=\"clip3\">\n",
       "  <path d=\"M 59.039062 72 L 258.757812 72 L 258.757812 130 L 59.039062 130 Z M 59.039062 72 \"/>\n",
       "</clipPath>\n",
       "</defs>\n",
       "<g id=\"surface175\">\n",
       "<rect x=\"0\" y=\"0\" width=\"288\" height=\"216\" style=\"fill:rgb(100%,100%,100%);fill-opacity:1;stroke:none;\"/>\n",
       "<path style=\"fill:none;stroke-width:1;stroke-linecap:round;stroke-linejoin:round;stroke:rgb(0%,0%,0%);stroke-opacity:1;stroke-miterlimit:10;\" d=\"M 249.730469 80.328125 C 249.730469 84.597656 243.332031 84.597656 243.332031 80.328125 C 243.332031 76.0625 249.730469 76.0625 249.730469 80.328125 \"/>\n",
       "<path style=\"fill:none;stroke-width:1;stroke-linecap:round;stroke-linejoin:round;stroke:rgb(0%,0%,0%);stroke-opacity:1;stroke-miterlimit:10;\" d=\"M 182.117188 87.152344 C 182.117188 91.417969 175.71875 91.417969 175.71875 87.152344 C 175.71875 82.886719 182.117188 82.886719 182.117188 87.152344 \"/>\n",
       "<path style=\"fill:none;stroke-width:1;stroke-linecap:round;stroke-linejoin:round;stroke:rgb(0%,0%,0%);stroke-opacity:1;stroke-miterlimit:10;\" d=\"M 248.992188 74.644531 C 248.992188 78.910156 242.589844 78.910156 242.589844 74.644531 C 242.589844 70.375 248.992188 70.375 248.992188 74.644531 \"/>\n",
       "<path style=\"fill:none;stroke-width:1;stroke-linecap:round;stroke-linejoin:round;stroke:rgb(0%,0%,0%);stroke-opacity:1;stroke-miterlimit:10;\" d=\"M 240.457031 79.191406 C 240.457031 83.457031 234.058594 83.457031 234.058594 79.191406 C 234.058594 74.925781 240.457031 74.925781 240.457031 79.191406 \"/>\n",
       "<path style=\"fill:none;stroke-width:1;stroke-linecap:round;stroke-linejoin:round;stroke:rgb(0%,0%,0%);stroke-opacity:1;stroke-miterlimit:10;\" d=\"M 203.828125 72.367188 C 203.828125 76.636719 197.429688 76.636719 197.429688 72.367188 C 197.429688 68.101562 203.828125 68.101562 203.828125 72.367188 \"/>\n",
       "<path style=\"fill:none;stroke-width:1;stroke-linecap:round;stroke-linejoin:round;stroke:rgb(0%,0%,0%);stroke-opacity:1;stroke-miterlimit:10;\" d=\"M 247.824219 79.191406 C 247.824219 83.457031 241.425781 83.457031 241.425781 79.191406 C 241.425781 74.925781 247.824219 74.925781 247.824219 79.191406 \"/>\n",
       "<path style=\"fill:none;stroke-width:1;stroke-linecap:round;stroke-linejoin:round;stroke:rgb(0%,0%,0%);stroke-opacity:1;stroke-miterlimit:10;\" d=\"M 214.230469 90.566406 C 214.230469 94.832031 207.832031 94.832031 207.832031 90.566406 C 207.832031 86.296875 214.230469 86.296875 214.230469 90.566406 \"/>\n",
       "<path style=\"fill:none;stroke-width:1;stroke-linecap:round;stroke-linejoin:round;stroke:rgb(0%,0%,0%);stroke-opacity:1;stroke-miterlimit:10;\" d=\"M 252.324219 76.917969 C 252.324219 81.183594 245.921875 81.183594 245.921875 76.917969 C 245.921875 72.652344 252.324219 72.652344 252.324219 76.917969 \"/>\n",
       "<path style=\"fill:none;stroke-width:1;stroke-linecap:round;stroke-linejoin:round;stroke:rgb(0%,0%,0%);stroke-opacity:1;stroke-miterlimit:10;\" d=\"M 248.917969 71.230469 C 248.917969 75.496094 242.515625 75.496094 242.515625 71.230469 C 242.515625 66.964844 248.917969 66.964844 248.917969 71.230469 \"/>\n",
       "<path style=\"fill:none;stroke-width:1;stroke-linecap:round;stroke-linejoin:round;stroke:rgb(0%,0%,0%);stroke-opacity:1;stroke-miterlimit:10;\" d=\"M 231.277344 74.644531 C 231.277344 78.910156 224.878906 78.910156 224.878906 74.644531 C 224.878906 70.375 231.277344 70.375 231.277344 74.644531 \"/>\n",
       "<path style=\"fill:none;stroke-width:1;stroke-linecap:round;stroke-linejoin:round;stroke:rgb(0%,0%,0%);stroke-opacity:1;stroke-miterlimit:10;\" d=\"M 244.957031 80.328125 C 244.957031 84.597656 238.554688 84.597656 238.554688 80.328125 C 238.554688 76.0625 244.957031 76.0625 244.957031 80.328125 \"/>\n",
       "<path style=\"fill:none;stroke-width:1;stroke-linecap:round;stroke-linejoin:round;stroke:rgb(0%,0%,0%);stroke-opacity:1;stroke-miterlimit:10;\" d=\"M 206.070312 76.917969 C 206.070312 81.183594 199.667969 81.183594 199.667969 76.917969 C 199.667969 72.652344 206.070312 72.652344 206.070312 76.917969 \"/>\n",
       "<path style=\"fill:none;stroke-width:1;stroke-linecap:round;stroke-linejoin:round;stroke:rgb(0%,0%,0%);stroke-opacity:1;stroke-miterlimit:10;\" d=\"M 174.824219 98.527344 C 174.824219 102.792969 168.425781 102.792969 168.425781 98.527344 C 168.425781 94.257812 174.824219 94.257812 174.824219 98.527344 \"/>\n",
       "<path style=\"fill:none;stroke-width:1;stroke-linecap:round;stroke-linejoin:round;stroke:rgb(0%,0%,0%);stroke-opacity:1;stroke-miterlimit:10;\" d=\"M 214.527344 67.820312 C 214.527344 72.085938 208.128906 72.085938 208.128906 67.820312 C 208.128906 63.554688 214.527344 63.554688 214.527344 67.820312 \"/>\n",
       "<path style=\"fill:none;stroke-width:1;stroke-linecap:round;stroke-linejoin:round;stroke:rgb(0%,0%,0%);stroke-opacity:1;stroke-miterlimit:10;\" d=\"M 159.609375 100.800781 C 159.609375 105.066406 153.210938 105.066406 153.210938 100.800781 C 153.210938 96.535156 159.609375 96.535156 159.609375 100.800781 \"/>\n",
       "<path style=\"fill:none;stroke-width:1;stroke-linecap:round;stroke-linejoin:round;stroke:rgb(0%,0%,0%);stroke-opacity:1;stroke-miterlimit:10;\" d=\"M 177.136719 84.878906 C 177.136719 89.144531 170.738281 89.144531 170.738281 84.878906 C 170.738281 80.613281 177.136719 80.613281 177.136719 84.878906 \"/>\n",
       "<path style=\"fill:none;stroke-width:1;stroke-linecap:round;stroke-linejoin:round;stroke:rgb(0%,0%,0%);stroke-opacity:1;stroke-miterlimit:10;\" d=\"M 240.699219 75.78125 C 240.699219 80.046875 234.300781 80.046875 234.300781 75.78125 C 234.300781 71.515625 240.699219 71.515625 240.699219 75.78125 \"/>\n",
       "<path style=\"fill:none;stroke-width:1;stroke-linecap:round;stroke-linejoin:round;stroke:rgb(0%,0%,0%);stroke-opacity:1;stroke-miterlimit:10;\" d=\"M 247.714844 80.328125 C 247.714844 84.597656 241.3125 84.597656 241.3125 80.328125 C 241.3125 76.0625 247.714844 76.0625 247.714844 80.328125 \"/>\n",
       "<path style=\"fill:none;stroke-width:1;stroke-linecap:round;stroke-linejoin:round;stroke:rgb(0%,0%,0%);stroke-opacity:1;stroke-miterlimit:10;\" d=\"M 170.605469 89.425781 C 170.605469 93.695312 164.203125 93.695312 164.203125 89.425781 C 164.203125 85.160156 170.605469 85.160156 170.605469 89.425781 \"/>\n",
       "<path style=\"fill:none;stroke-width:1;stroke-linecap:round;stroke-linejoin:round;stroke:rgb(0%,0%,0%);stroke-opacity:1;stroke-miterlimit:10;\" d=\"M 246.546875 81.464844 C 246.546875 85.734375 240.148438 85.734375 240.148438 81.464844 C 240.148438 77.199219 246.546875 77.199219 246.546875 81.464844 \"/>\n",
       "<path style=\"fill:none;stroke-width:1;stroke-linecap:round;stroke-linejoin:round;stroke:rgb(0%,0%,0%);stroke-opacity:1;stroke-miterlimit:10;\" d=\"M 180.933594 86.015625 C 180.933594 90.28125 174.53125 90.28125 174.53125 86.015625 C 174.53125 81.75 180.933594 81.75 180.933594 86.015625 \"/>\n",
       "<path style=\"fill:none;stroke-width:1;stroke-linecap:round;stroke-linejoin:round;stroke:rgb(0%,0%,0%);stroke-opacity:1;stroke-miterlimit:10;\" d=\"M 200.664062 96.25 C 200.664062 100.519531 194.265625 100.519531 194.265625 96.25 C 194.265625 91.984375 200.664062 91.984375 200.664062 96.25 \"/>\n",
       "<path style=\"fill:none;stroke-width:1;stroke-linecap:round;stroke-linejoin:round;stroke:rgb(0%,0%,0%);stroke-opacity:1;stroke-miterlimit:10;\" d=\"M 236.128906 84.878906 C 236.128906 89.144531 229.726562 89.144531 229.726562 84.878906 C 229.726562 80.613281 236.128906 80.613281 236.128906 84.878906 \"/>\n",
       "<path style=\"fill:none;stroke-width:1;stroke-linecap:round;stroke-linejoin:round;stroke:rgb(0%,0%,0%);stroke-opacity:1;stroke-miterlimit:10;\" d=\"M 246.898438 81.464844 C 246.898438 85.734375 240.5 85.734375 240.5 81.464844 C 240.5 77.199219 246.898438 77.199219 246.898438 81.464844 \"/>\n",
       "<path style=\"fill:none;stroke-width:1;stroke-linecap:round;stroke-linejoin:round;stroke:rgb(0%,0%,0%);stroke-opacity:1;stroke-miterlimit:10;\" d=\"M 250.175781 84.878906 C 250.175781 89.144531 243.777344 89.144531 243.777344 84.878906 C 243.777344 80.613281 250.175781 80.613281 250.175781 84.878906 \"/>\n",
       "<path style=\"fill:none;stroke-width:1;stroke-linecap:round;stroke-linejoin:round;stroke:rgb(0%,0%,0%);stroke-opacity:1;stroke-miterlimit:10;\" d=\"M 234.738281 78.054688 C 234.738281 82.320312 228.339844 82.320312 228.339844 78.054688 C 228.339844 73.789062 234.738281 73.789062 234.738281 78.054688 \"/>\n",
       "<path style=\"fill:none;stroke-width:1;stroke-linecap:round;stroke-linejoin:round;stroke:rgb(0%,0%,0%);stroke-opacity:1;stroke-miterlimit:10;\" d=\"M 235 86.015625 C 235 90.28125 228.597656 90.28125 228.597656 86.015625 C 228.597656 81.75 235 81.75 235 86.015625 \"/>\n",
       "<path style=\"fill:none;stroke-width:1;stroke-linecap:round;stroke-linejoin:round;stroke:rgb(0%,0%,0%);stroke-opacity:1;stroke-miterlimit:10;\" d=\"M 247.898438 68.957031 C 247.898438 73.222656 241.5 73.222656 241.5 68.957031 C 241.5 64.691406 247.898438 64.691406 247.898438 68.957031 \"/>\n",
       "<path style=\"fill:none;stroke-width:1;stroke-linecap:round;stroke-linejoin:round;stroke:rgb(0%,0%,0%);stroke-opacity:1;stroke-miterlimit:10;\" d=\"M 253.601562 72.367188 C 253.601562 76.636719 247.199219 76.636719 247.199219 72.367188 C 247.199219 68.101562 253.601562 68.101562 253.601562 72.367188 \"/>\n",
       "<path style=\"fill:none;stroke-width:1;stroke-linecap:round;stroke-linejoin:round;stroke:rgb(0%,0%,0%);stroke-opacity:1;stroke-miterlimit:10;\" d=\"M 174.066406 86.015625 C 174.066406 90.28125 167.664062 90.28125 167.664062 86.015625 C 167.664062 81.75 174.066406 81.75 174.066406 86.015625 \"/>\n",
       "<path style=\"fill:none;stroke-width:1;stroke-linecap:round;stroke-linejoin:round;stroke:rgb(0%,0%,0%);stroke-opacity:1;stroke-miterlimit:10;\" d=\"M 207.640625 84.878906 C 207.640625 89.144531 201.242188 89.144531 201.242188 84.878906 C 201.242188 80.613281 207.640625 80.613281 207.640625 84.878906 \"/>\n",
       "<path style=\"fill:none;stroke-width:1;stroke-linecap:round;stroke-linejoin:round;stroke:rgb(0%,0%,0%);stroke-opacity:1;stroke-miterlimit:10;\" d=\"M 234.8125 75.78125 C 234.8125 80.046875 228.414062 80.046875 228.414062 75.78125 C 228.414062 71.515625 234.8125 71.515625 234.8125 75.78125 \"/>\n",
       "<path style=\"fill:none;stroke-width:1;stroke-linecap:round;stroke-linejoin:round;stroke:rgb(0%,0%,0%);stroke-opacity:1;stroke-miterlimit:10;\" d=\"M 209.382812 82.605469 C 209.382812 86.871094 202.980469 86.871094 202.980469 82.605469 C 202.980469 78.335938 209.382812 78.335938 209.382812 82.605469 \"/>\n",
       "<path style=\"fill:none;stroke-width:1;stroke-linecap:round;stroke-linejoin:round;stroke:rgb(0%,0%,0%);stroke-opacity:1;stroke-miterlimit:10;\" d=\"M 193.09375 80.328125 C 193.09375 84.597656 186.695312 84.597656 186.695312 80.328125 C 186.695312 76.0625 193.09375 76.0625 193.09375 80.328125 \"/>\n",
       "<path style=\"fill:none;stroke-width:1;stroke-linecap:round;stroke-linejoin:round;stroke:rgb(0%,0%,0%);stroke-opacity:1;stroke-miterlimit:10;\" d=\"M 235.683594 81.464844 C 235.683594 85.734375 229.28125 85.734375 229.28125 81.464844 C 229.28125 77.199219 235.683594 77.199219 235.683594 81.464844 \"/>\n",
       "<path style=\"fill:none;stroke-width:1;stroke-linecap:round;stroke-linejoin:round;stroke:rgb(0%,0%,0%);stroke-opacity:1;stroke-miterlimit:10;\" d=\"M 111.375 100.800781 C 111.375 105.066406 104.976562 105.066406 104.976562 100.800781 C 104.976562 96.535156 111.375 96.535156 111.375 100.800781 \"/>\n",
       "<path style=\"fill:none;stroke-width:1;stroke-linecap:round;stroke-linejoin:round;stroke:rgb(0%,0%,0%);stroke-opacity:1;stroke-miterlimit:10;\" d=\"M 152.300781 96.25 C 152.300781 100.519531 145.898438 100.519531 145.898438 96.25 C 145.898438 91.984375 152.300781 91.984375 152.300781 96.25 \"/>\n",
       "<path style=\"fill:none;stroke-width:1;stroke-linecap:round;stroke-linejoin:round;stroke:rgb(0%,0%,0%);stroke-opacity:1;stroke-miterlimit:10;\" d=\"M 172.234375 95.113281 C 172.234375 99.378906 165.832031 99.378906 165.832031 95.113281 C 165.832031 90.847656 172.234375 90.847656 172.234375 95.113281 \"/>\n",
       "<path style=\"fill:none;stroke-width:1;stroke-linecap:round;stroke-linejoin:round;stroke:rgb(0%,0%,0%);stroke-opacity:1;stroke-miterlimit:10;\" d=\"M 251.878906 75.78125 C 251.878906 80.046875 245.480469 80.046875 245.480469 75.78125 C 245.480469 71.515625 251.878906 71.515625 251.878906 75.78125 \"/>\n",
       "<path style=\"fill:none;stroke-width:1;stroke-linecap:round;stroke-linejoin:round;stroke:rgb(0%,0%,0%);stroke-opacity:1;stroke-miterlimit:10;\" d=\"M 234.683594 81.464844 C 234.683594 85.734375 228.285156 85.734375 228.285156 81.464844 C 228.285156 77.199219 234.683594 77.199219 234.683594 81.464844 \"/>\n",
       "<path style=\"fill:none;stroke-width:1;stroke-linecap:round;stroke-linejoin:round;stroke:rgb(0%,0%,0%);stroke-opacity:1;stroke-miterlimit:10;\" d=\"M 148.28125 89.425781 C 148.28125 93.695312 141.882812 93.695312 141.882812 89.425781 C 141.882812 85.160156 148.28125 85.160156 148.28125 89.425781 \"/>\n",
       "<path style=\"fill:none;stroke-width:1;stroke-linecap:round;stroke-linejoin:round;stroke:rgb(0%,0%,0%);stroke-opacity:1;stroke-miterlimit:10;\" d=\"M 244.125 68.957031 C 244.125 73.222656 237.722656 73.222656 237.722656 68.957031 C 237.722656 64.691406 244.125 64.691406 244.125 68.957031 \"/>\n",
       "<path style=\"fill:none;stroke-width:1;stroke-linecap:round;stroke-linejoin:round;stroke:rgb(0%,0%,0%);stroke-opacity:1;stroke-miterlimit:10;\" d=\"M 199.109375 90.566406 C 199.109375 94.832031 192.707031 94.832031 192.707031 90.566406 C 192.707031 86.296875 199.109375 86.296875 199.109375 90.566406 \"/>\n",
       "<path style=\"fill:none;stroke-width:1;stroke-linecap:round;stroke-linejoin:round;stroke:rgb(0%,0%,0%);stroke-opacity:1;stroke-miterlimit:10;\" d=\"M 229.167969 83.742188 C 229.167969 88.007812 222.769531 88.007812 222.769531 83.742188 C 222.769531 79.472656 229.167969 79.472656 229.167969 83.742188 \"/>\n",
       "<path style=\"fill:none;stroke-width:1;stroke-linecap:round;stroke-linejoin:round;stroke:rgb(0%,0%,0%);stroke-opacity:1;stroke-miterlimit:10;\" d=\"M 229.128906 86.015625 C 229.128906 90.28125 222.730469 90.28125 222.730469 86.015625 C 222.730469 81.75 229.128906 81.75 229.128906 86.015625 \"/>\n",
       "<path style=\"fill:none;stroke-width:1;stroke-linecap:round;stroke-linejoin:round;stroke:rgb(0%,0%,0%);stroke-opacity:1;stroke-miterlimit:10;\" d=\"M 248.269531 84.878906 C 248.269531 89.144531 241.871094 89.144531 241.871094 84.878906 C 241.871094 80.613281 248.269531 80.613281 248.269531 84.878906 \"/>\n",
       "<path style=\"fill:none;stroke-width:1;stroke-linecap:round;stroke-linejoin:round;stroke:rgb(0%,0%,0%);stroke-opacity:1;stroke-miterlimit:10;\" d=\"M 200.496094 86.015625 C 200.496094 90.28125 194.097656 90.28125 194.097656 86.015625 C 194.097656 81.75 200.496094 81.75 200.496094 86.015625 \"/>\n",
       "<path style=\"fill:none;stroke-width:1;stroke-linecap:round;stroke-linejoin:round;stroke:rgb(0%,0%,0%);stroke-opacity:1;stroke-miterlimit:10;\" d=\"M 163.496094 100.800781 C 163.496094 105.066406 157.097656 105.066406 157.097656 100.800781 C 157.097656 96.535156 163.496094 96.535156 163.496094 100.800781 \"/>\n",
       "<path style=\"fill:none;stroke-width:1;stroke-linecap:round;stroke-linejoin:round;stroke:rgb(0%,0%,0%);stroke-opacity:1;stroke-miterlimit:10;\" d=\"M 212.214844 88.289062 C 212.214844 92.558594 205.8125 92.558594 205.8125 88.289062 C 205.8125 84.023438 212.214844 84.023438 212.214844 88.289062 \"/>\n",
       "<path style=\"fill:none;stroke-width:1;stroke-linecap:round;stroke-linejoin:round;stroke:rgb(0%,0%,0%);stroke-opacity:1;stroke-miterlimit:10;\" d=\"M 238.550781 73.507812 C 238.550781 77.773438 232.152344 77.773438 232.152344 73.507812 C 232.152344 69.238281 238.550781 69.238281 238.550781 73.507812 \"/>\n",
       "<path style=\"fill:none;stroke-width:1;stroke-linecap:round;stroke-linejoin:round;stroke:rgb(0%,0%,0%);stroke-opacity:1;stroke-miterlimit:10;\" d=\"M 219.859375 82.605469 C 219.859375 86.871094 213.457031 86.871094 213.457031 82.605469 C 213.457031 78.335938 219.859375 78.335938 219.859375 82.605469 \"/>\n",
       "<path style=\"fill:none;stroke-width:1;stroke-linecap:round;stroke-linejoin:round;stroke:rgb(0%,0%,0%);stroke-opacity:1;stroke-miterlimit:10;\" d=\"M 227.296875 83.742188 C 227.296875 88.007812 220.898438 88.007812 220.898438 83.742188 C 220.898438 79.472656 227.296875 79.472656 227.296875 83.742188 \"/>\n",
       "<path style=\"fill:none;stroke-width:1;stroke-linecap:round;stroke-linejoin:round;stroke:rgb(0%,0%,0%);stroke-opacity:1;stroke-miterlimit:10;\" d=\"M 215.933594 83.742188 C 215.933594 88.007812 209.535156 88.007812 209.535156 83.742188 C 209.535156 79.472656 215.933594 79.472656 215.933594 83.742188 \"/>\n",
       "<path style=\"fill:none;stroke-width:1;stroke-linecap:round;stroke-linejoin:round;stroke:rgb(0%,0%,0%);stroke-opacity:1;stroke-miterlimit:10;\" d=\"M 240.179688 84.878906 C 240.179688 89.144531 233.78125 89.144531 233.78125 84.878906 C 233.78125 80.613281 240.179688 80.613281 240.179688 84.878906 \"/>\n",
       "<path style=\"fill:none;stroke-width:1;stroke-linecap:round;stroke-linejoin:round;stroke:rgb(0%,0%,0%);stroke-opacity:1;stroke-miterlimit:10;\" d=\"M 219.988281 79.191406 C 219.988281 83.457031 213.585938 83.457031 213.585938 79.191406 C 213.585938 74.925781 219.988281 74.925781 219.988281 79.191406 \"/>\n",
       "<path style=\"fill:none;stroke-width:1;stroke-linecap:round;stroke-linejoin:round;stroke:rgb(0%,0%,0%);stroke-opacity:1;stroke-miterlimit:10;\" d=\"M 226.796875 97.386719 C 226.796875 101.65625 220.398438 101.65625 220.398438 97.386719 C 220.398438 93.121094 226.796875 93.121094 226.796875 97.386719 \"/>\n",
       "<path style=\"fill:none;stroke-width:1;stroke-linecap:round;stroke-linejoin:round;stroke:rgb(0%,0%,0%);stroke-opacity:1;stroke-miterlimit:10;\" d=\"M 175.25 97.386719 C 175.25 101.65625 168.851562 101.65625 168.851562 97.386719 C 168.851562 93.121094 175.25 93.121094 175.25 97.386719 \"/>\n",
       "<path style=\"fill:none;stroke-width:1;stroke-linecap:round;stroke-linejoin:round;stroke:rgb(0%,0%,0%);stroke-opacity:1;stroke-miterlimit:10;\" d=\"M 205.976562 93.976562 C 205.976562 98.242188 199.574219 98.242188 199.574219 93.976562 C 199.574219 89.710938 205.976562 89.710938 205.976562 93.976562 \"/>\n",
       "<path style=\"fill:none;stroke-width:1;stroke-linecap:round;stroke-linejoin:round;stroke:rgb(0%,0%,0%);stroke-opacity:1;stroke-miterlimit:10;\" d=\"M 248.230469 74.644531 C 248.230469 78.910156 241.832031 78.910156 241.832031 74.644531 C 241.832031 70.375 248.230469 70.375 248.230469 74.644531 \"/>\n",
       "<path style=\"fill:none;stroke-width:1;stroke-linecap:round;stroke-linejoin:round;stroke:rgb(0%,0%,0%);stroke-opacity:1;stroke-miterlimit:10;\" d=\"M 219.171875 87.152344 C 219.171875 91.417969 212.773438 91.417969 212.773438 87.152344 C 212.773438 82.886719 219.171875 82.886719 219.171875 87.152344 \"/>\n",
       "<path style=\"fill:none;stroke-width:1;stroke-linecap:round;stroke-linejoin:round;stroke:rgb(0%,0%,0%);stroke-opacity:1;stroke-miterlimit:10;\" d=\"M 178.546875 88.289062 C 178.546875 92.558594 172.144531 92.558594 172.144531 88.289062 C 172.144531 84.023438 178.546875 84.023438 178.546875 88.289062 \"/>\n",
       "<path style=\"fill:none;stroke-width:1;stroke-linecap:round;stroke-linejoin:round;stroke:rgb(0%,0%,0%);stroke-opacity:1;stroke-miterlimit:10;\" d=\"M 214.601562 84.878906 C 214.601562 89.144531 208.199219 89.144531 208.199219 84.878906 C 208.199219 80.613281 214.601562 80.613281 214.601562 84.878906 \"/>\n",
       "<path style=\"fill:none;stroke-width:1;stroke-linecap:round;stroke-linejoin:round;stroke:rgb(0%,0%,0%);stroke-opacity:1;stroke-miterlimit:10;\" d=\"M 207.9375 84.878906 C 207.9375 89.144531 201.539062 89.144531 201.539062 84.878906 C 201.539062 80.613281 207.9375 80.613281 207.9375 84.878906 \"/>\n",
       "<path style=\"fill:none;stroke-width:1;stroke-linecap:round;stroke-linejoin:round;stroke:rgb(0%,0%,0%);stroke-opacity:1;stroke-miterlimit:10;\" d=\"M 211.085938 74.644531 C 211.085938 78.910156 204.683594 78.910156 204.683594 74.644531 C 204.683594 70.375 211.085938 70.375 211.085938 74.644531 \"/>\n",
       "<path style=\"fill:none;stroke-width:1;stroke-linecap:round;stroke-linejoin:round;stroke:rgb(0%,0%,0%);stroke-opacity:1;stroke-miterlimit:10;\" d=\"M 244.457031 73.507812 C 244.457031 77.773438 238.054688 77.773438 238.054688 73.507812 C 238.054688 69.238281 244.457031 69.238281 244.457031 73.507812 \"/>\n",
       "<path style=\"fill:none;stroke-width:1;stroke-linecap:round;stroke-linejoin:round;stroke:rgb(0%,0%,0%);stroke-opacity:1;stroke-miterlimit:10;\" d=\"M 214.824219 84.878906 C 214.824219 89.144531 208.421875 89.144531 208.421875 84.878906 C 208.421875 80.613281 214.824219 80.613281 214.824219 84.878906 \"/>\n",
       "<path style=\"fill:none;stroke-width:1;stroke-linecap:round;stroke-linejoin:round;stroke:rgb(0%,0%,0%);stroke-opacity:1;stroke-miterlimit:10;\" d=\"M 86.238281 88.289062 C 86.238281 92.558594 79.839844 92.558594 79.839844 88.289062 C 79.839844 84.023438 86.238281 84.023438 86.238281 88.289062 \"/>\n",
       "<path style=\"fill:none;stroke-width:1;stroke-linecap:round;stroke-linejoin:round;stroke:rgb(0%,0%,0%);stroke-opacity:1;stroke-miterlimit:10;\" d=\"M 252.101562 78.054688 C 252.101562 82.320312 245.699219 82.320312 245.699219 78.054688 C 245.699219 73.789062 252.101562 73.789062 252.101562 78.054688 \"/>\n",
       "<path style=\"fill:none;stroke-width:1;stroke-linecap:round;stroke-linejoin:round;stroke:rgb(0%,0%,0%);stroke-opacity:1;stroke-miterlimit:10;\" d=\"M 245.640625 73.507812 C 245.640625 77.773438 239.242188 77.773438 239.242188 73.507812 C 239.242188 69.238281 245.640625 69.238281 245.640625 73.507812 \"/>\n",
       "<path style=\"fill:none;stroke-width:1;stroke-linecap:round;stroke-linejoin:round;stroke:rgb(0%,0%,0%);stroke-opacity:1;stroke-miterlimit:10;\" d=\"M 159.703125 90.566406 C 159.703125 94.832031 153.304688 94.832031 153.304688 90.566406 C 153.304688 86.296875 159.703125 86.296875 159.703125 90.566406 \"/>\n",
       "<path style=\"fill:none;stroke-width:1;stroke-linecap:round;stroke-linejoin:round;stroke:rgb(0%,0%,0%);stroke-opacity:1;stroke-miterlimit:10;\" d=\"M 207.769531 82.605469 C 207.769531 86.871094 201.371094 86.871094 201.371094 82.605469 C 201.371094 78.335938 207.769531 78.335938 207.769531 82.605469 \"/>\n",
       "<path style=\"fill:none;stroke-width:1;stroke-linecap:round;stroke-linejoin:round;stroke:rgb(0%,0%,0%);stroke-opacity:1;stroke-miterlimit:10;\" d=\"M 245.160156 74.644531 C 245.160156 78.910156 238.761719 78.910156 238.761719 74.644531 C 238.761719 70.375 245.160156 70.375 245.160156 74.644531 \"/>\n",
       "<path style=\"fill:none;stroke-width:1;stroke-linecap:round;stroke-linejoin:round;stroke:rgb(0%,0%,0%);stroke-opacity:1;stroke-miterlimit:10;\" d=\"M 237.683594 89.425781 C 237.683594 93.695312 231.28125 93.695312 231.28125 89.425781 C 231.28125 85.160156 237.683594 85.160156 237.683594 89.425781 \"/>\n",
       "<g clip-path=\"url(#clip1)\" clip-rule=\"nonzero\">\n",
       "<path style=\"fill:none;stroke-width:1;stroke-linecap:round;stroke-linejoin:round;stroke:rgb(0%,0%,0%);stroke-opacity:1;stroke-miterlimit:10;\" d=\"M 246.621094 62.132812 C 246.621094 66.398438 240.222656 66.398438 240.222656 62.132812 C 240.222656 57.867188 246.621094 57.867188 246.621094 62.132812 \"/>\n",
       "</g>\n",
       "<path style=\"fill:none;stroke-width:1;stroke-linecap:round;stroke-linejoin:round;stroke:rgb(0%,0%,0%);stroke-opacity:1;stroke-miterlimit:10;\" d=\"M 225.390625 78.054688 C 225.390625 82.320312 218.992188 82.320312 218.992188 78.054688 C 218.992188 73.789062 225.390625 73.789062 225.390625 78.054688 \"/>\n",
       "<path style=\"fill:none;stroke-width:1;stroke-linecap:round;stroke-linejoin:round;stroke:rgb(0%,0%,0%);stroke-opacity:1;stroke-miterlimit:10;\" d=\"M 191.761719 81.464844 C 191.761719 85.734375 185.359375 85.734375 185.359375 81.464844 C 185.359375 77.199219 191.761719 77.199219 191.761719 81.464844 \"/>\n",
       "<path style=\"fill:none;stroke-width:1;stroke-linecap:round;stroke-linejoin:round;stroke:rgb(0%,0%,0%);stroke-opacity:1;stroke-miterlimit:10;\" d=\"M 169.160156 96.25 C 169.160156 100.519531 162.761719 100.519531 162.761719 96.25 C 162.761719 91.984375 169.160156 91.984375 169.160156 96.25 \"/>\n",
       "<path style=\"fill:none;stroke-width:1;stroke-linecap:round;stroke-linejoin:round;stroke:rgb(0%,0%,0%);stroke-opacity:1;stroke-miterlimit:10;\" d=\"M 214.675781 92.839844 C 214.675781 97.105469 208.273438 97.105469 208.273438 92.839844 C 208.273438 88.574219 214.675781 88.574219 214.675781 92.839844 \"/>\n",
       "<path style=\"fill:none;stroke-width:1;stroke-linecap:round;stroke-linejoin:round;stroke:rgb(0%,0%,0%);stroke-opacity:1;stroke-miterlimit:10;\" d=\"M 249.75 76.917969 C 249.75 81.183594 243.351562 81.183594 243.351562 76.917969 C 243.351562 72.652344 249.75 72.652344 249.75 76.917969 \"/>\n",
       "<path style=\"fill:none;stroke-width:1;stroke-linecap:round;stroke-linejoin:round;stroke:rgb(0%,0%,0%);stroke-opacity:1;stroke-miterlimit:10;\" d=\"M 252.933594 71.230469 C 252.933594 75.496094 246.535156 75.496094 246.535156 71.230469 C 246.535156 66.964844 252.933594 66.964844 252.933594 71.230469 \"/>\n",
       "<path style=\"fill:none;stroke-width:1;stroke-linecap:round;stroke-linejoin:round;stroke:rgb(0%,0%,0%);stroke-opacity:1;stroke-miterlimit:10;\" d=\"M 251.414062 75.78125 C 251.414062 80.046875 245.015625 80.046875 245.015625 75.78125 C 245.015625 71.515625 251.414062 71.515625 251.414062 75.78125 \"/>\n",
       "<path style=\"fill:none;stroke-width:1;stroke-linecap:round;stroke-linejoin:round;stroke:rgb(0%,0%,0%);stroke-opacity:1;stroke-miterlimit:10;\" d=\"M 248.621094 78.054688 C 248.621094 82.320312 242.222656 82.320312 242.222656 78.054688 C 242.222656 73.789062 248.621094 73.789062 248.621094 78.054688 \"/>\n",
       "<path style=\"fill:none;stroke-width:1;stroke-linecap:round;stroke-linejoin:round;stroke:rgb(0%,0%,0%);stroke-opacity:1;stroke-miterlimit:10;\" d=\"M 184.355469 89.425781 C 184.355469 93.695312 177.957031 93.695312 177.957031 89.425781 C 177.957031 85.160156 184.355469 85.160156 184.355469 89.425781 \"/>\n",
       "<path style=\"fill:none;stroke-width:1;stroke-linecap:round;stroke-linejoin:round;stroke:rgb(0%,0%,0%);stroke-opacity:1;stroke-miterlimit:10;\" d=\"M 208.457031 96.25 C 208.457031 100.519531 202.054688 100.519531 202.054688 96.25 C 202.054688 91.984375 208.457031 91.984375 208.457031 96.25 \"/>\n",
       "<path style=\"fill:none;stroke-width:1;stroke-linecap:round;stroke-linejoin:round;stroke:rgb(0%,0%,0%);stroke-opacity:1;stroke-miterlimit:10;\" d=\"M 249.878906 86.015625 C 249.878906 90.28125 243.480469 90.28125 243.480469 86.015625 C 243.480469 81.75 249.878906 81.75 249.878906 86.015625 \"/>\n",
       "<path style=\"fill:none;stroke-width:1;stroke-linecap:round;stroke-linejoin:round;stroke:rgb(0%,0%,0%);stroke-opacity:1;stroke-miterlimit:10;\" d=\"M 248.417969 84.878906 C 248.417969 89.144531 242.015625 89.144531 242.015625 84.878906 C 242.015625 80.613281 248.417969 80.613281 248.417969 84.878906 \"/>\n",
       "<path style=\"fill:none;stroke-width:1;stroke-linecap:round;stroke-linejoin:round;stroke:rgb(0%,0%,0%);stroke-opacity:1;stroke-miterlimit:10;\" d=\"M 89.664062 131.507812 C 89.664062 135.773438 83.265625 135.773438 83.265625 131.507812 C 83.265625 127.238281 89.664062 127.238281 89.664062 131.507812 \"/>\n",
       "<path style=\"fill:none;stroke-width:1;stroke-linecap:round;stroke-linejoin:round;stroke:rgb(0%,0%,0%);stroke-opacity:1;stroke-miterlimit:10;\" d=\"M 105.75 109.898438 C 105.75 114.164062 99.347656 114.164062 99.347656 109.898438 C 99.347656 105.632812 105.75 105.632812 105.75 109.898438 \"/>\n",
       "<path style=\"fill:none;stroke-width:1;stroke-linecap:round;stroke-linejoin:round;stroke:rgb(0%,0%,0%);stroke-opacity:1;stroke-miterlimit:10;\" d=\"M 95.714844 125.820312 C 95.714844 130.085938 89.316406 130.085938 89.316406 125.820312 C 89.316406 121.554688 95.714844 121.554688 95.714844 125.820312 \"/>\n",
       "<path style=\"fill:none;stroke-width:1;stroke-linecap:round;stroke-linejoin:round;stroke:rgb(0%,0%,0%);stroke-opacity:1;stroke-miterlimit:10;\" d=\"M 79.929688 125.820312 C 79.929688 130.085938 73.527344 130.085938 73.527344 125.820312 C 73.527344 121.554688 79.929688 121.554688 79.929688 125.820312 \"/>\n",
       "<path style=\"fill:none;stroke-width:1;stroke-linecap:round;stroke-linejoin:round;stroke:rgb(0%,0%,0%);stroke-opacity:1;stroke-miterlimit:10;\" d=\"M 113.800781 117.859375 C 113.800781 122.125 107.398438 122.125 107.398438 117.859375 C 107.398438 113.59375 113.800781 113.59375 113.800781 117.859375 \"/>\n",
       "<path style=\"fill:none;stroke-width:1;stroke-linecap:round;stroke-linejoin:round;stroke:rgb(0%,0%,0%);stroke-opacity:1;stroke-miterlimit:10;\" d=\"M 78.097656 129.230469 C 78.097656 133.496094 71.695312 133.496094 71.695312 129.230469 C 71.695312 124.964844 78.097656 124.964844 78.097656 129.230469 \"/>\n",
       "<path style=\"fill:none;stroke-width:1;stroke-linecap:round;stroke-linejoin:round;stroke:rgb(0%,0%,0%);stroke-opacity:1;stroke-miterlimit:10;\" d=\"M 121.886719 115.585938 C 121.886719 119.851562 115.488281 119.851562 115.488281 115.585938 C 115.488281 111.316406 121.886719 111.316406 121.886719 115.585938 \"/>\n",
       "<path style=\"fill:none;stroke-width:1;stroke-linecap:round;stroke-linejoin:round;stroke:rgb(0%,0%,0%);stroke-opacity:1;stroke-miterlimit:10;\" d=\"M 137.511719 111.035156 C 137.511719 115.300781 131.109375 115.300781 131.109375 111.035156 C 131.109375 106.769531 137.511719 106.769531 137.511719 111.035156 \"/>\n",
       "<path style=\"fill:none;stroke-width:1;stroke-linecap:round;stroke-linejoin:round;stroke:rgb(0%,0%,0%);stroke-opacity:1;stroke-miterlimit:10;\" d=\"M 141.398438 104.210938 C 141.398438 108.476562 134.996094 108.476562 134.996094 104.210938 C 134.996094 99.945312 141.398438 99.945312 141.398438 104.210938 \"/>\n",
       "<path style=\"fill:none;stroke-width:1;stroke-linecap:round;stroke-linejoin:round;stroke:rgb(0%,0%,0%);stroke-opacity:1;stroke-miterlimit:10;\" d=\"M 143.785156 109.898438 C 143.785156 114.164062 137.386719 114.164062 137.386719 109.898438 C 137.386719 105.632812 143.785156 105.632812 143.785156 109.898438 \"/>\n",
       "<path style=\"fill:none;stroke-width:1;stroke-linecap:round;stroke-linejoin:round;stroke:rgb(0%,0%,0%);stroke-opacity:1;stroke-miterlimit:10;\" d=\"M 77.464844 121.269531 C 77.464844 125.539062 71.066406 125.539062 71.066406 121.269531 C 71.066406 117.003906 77.464844 117.003906 77.464844 121.269531 \"/>\n",
       "<path style=\"fill:none;stroke-width:1;stroke-linecap:round;stroke-linejoin:round;stroke:rgb(0%,0%,0%);stroke-opacity:1;stroke-miterlimit:10;\" d=\"M 104.359375 113.308594 C 104.359375 117.578125 97.960938 117.578125 97.960938 113.308594 C 97.960938 109.042969 104.359375 109.042969 104.359375 113.308594 \"/>\n",
       "<path style=\"fill:none;stroke-width:1;stroke-linecap:round;stroke-linejoin:round;stroke:rgb(0%,0%,0%);stroke-opacity:1;stroke-miterlimit:10;\" d=\"M 163.550781 106.484375 C 163.550781 110.753906 157.152344 110.753906 157.152344 106.484375 C 157.152344 102.21875 163.550781 102.21875 163.550781 106.484375 \"/>\n",
       "<path style=\"fill:none;stroke-width:1;stroke-linecap:round;stroke-linejoin:round;stroke:rgb(0%,0%,0%);stroke-opacity:1;stroke-miterlimit:10;\" d=\"M 125.496094 120.132812 C 125.496094 124.398438 119.097656 124.398438 119.097656 120.132812 C 119.097656 115.867188 125.496094 115.867188 125.496094 120.132812 \"/>\n",
       "<path style=\"fill:none;stroke-width:1;stroke-linecap:round;stroke-linejoin:round;stroke:rgb(0%,0%,0%);stroke-opacity:1;stroke-miterlimit:10;\" d=\"M 175.714844 101.9375 C 175.714844 106.203125 169.3125 106.203125 169.3125 101.9375 C 169.3125 97.671875 175.714844 97.671875 175.714844 101.9375 \"/>\n",
       "<path style=\"fill:none;stroke-width:1;stroke-linecap:round;stroke-linejoin:round;stroke:rgb(0%,0%,0%);stroke-opacity:1;stroke-miterlimit:10;\" d=\"M 103.636719 116.722656 C 103.636719 120.988281 97.238281 120.988281 97.238281 116.722656 C 97.238281 112.453125 103.636719 112.453125 103.636719 116.722656 \"/>\n",
       "<path style=\"fill:none;stroke-width:1;stroke-linecap:round;stroke-linejoin:round;stroke:rgb(0%,0%,0%);stroke-opacity:1;stroke-miterlimit:10;\" d=\"M 178.878906 103.074219 C 178.878906 107.339844 172.476562 107.339844 172.476562 103.074219 C 172.476562 98.808594 178.878906 98.808594 178.878906 103.074219 \"/>\n",
       "<path style=\"fill:none;stroke-width:1;stroke-linecap:round;stroke-linejoin:round;stroke:rgb(0%,0%,0%);stroke-opacity:1;stroke-miterlimit:10;\" d=\"M 101.992188 118.996094 C 101.992188 123.261719 95.589844 123.261719 95.589844 118.996094 C 95.589844 114.730469 101.992188 114.730469 101.992188 118.996094 \"/>\n",
       "<path style=\"fill:none;stroke-width:1;stroke-linecap:round;stroke-linejoin:round;stroke:rgb(0%,0%,0%);stroke-opacity:1;stroke-miterlimit:10;\" d=\"M 113.746094 114.445312 C 113.746094 118.714844 107.34375 118.714844 107.34375 114.445312 C 107.34375 110.179688 113.746094 110.179688 113.746094 114.445312 \"/>\n",
       "<path style=\"fill:none;stroke-width:1;stroke-linecap:round;stroke-linejoin:round;stroke:rgb(0%,0%,0%);stroke-opacity:1;stroke-miterlimit:10;\" d=\"M 92.457031 121.269531 C 92.457031 125.539062 86.058594 125.539062 86.058594 121.269531 C 86.058594 117.003906 92.457031 117.003906 92.457031 121.269531 \"/>\n",
       "<path style=\"fill:none;stroke-width:1;stroke-linecap:round;stroke-linejoin:round;stroke:rgb(0%,0%,0%);stroke-opacity:1;stroke-miterlimit:10;\" d=\"M 163.40625 101.9375 C 163.40625 106.203125 157.003906 106.203125 157.003906 101.9375 C 157.003906 97.671875 163.40625 97.671875 163.40625 101.9375 \"/>\n",
       "<path style=\"fill:none;stroke-width:1;stroke-linecap:round;stroke-linejoin:round;stroke:rgb(0%,0%,0%);stroke-opacity:1;stroke-miterlimit:10;\" d=\"M 94.367188 126.957031 C 94.367188 131.222656 87.964844 131.222656 87.964844 126.957031 C 87.964844 122.691406 94.367188 122.691406 94.367188 126.957031 \"/>\n",
       "<path style=\"fill:none;stroke-width:1;stroke-linecap:round;stroke-linejoin:round;stroke:rgb(0%,0%,0%);stroke-opacity:1;stroke-miterlimit:10;\" d=\"M 106.414062 108.761719 C 106.414062 113.027344 100.015625 113.027344 100.015625 108.761719 C 100.015625 104.492188 106.414062 104.492188 106.414062 108.761719 \"/>\n",
       "<path style=\"fill:none;stroke-width:1;stroke-linecap:round;stroke-linejoin:round;stroke:rgb(0%,0%,0%);stroke-opacity:1;stroke-miterlimit:10;\" d=\"M 87.089844 117.859375 C 87.089844 122.125 80.691406 122.125 80.691406 117.859375 C 80.691406 113.59375 87.089844 113.59375 87.089844 117.859375 \"/>\n",
       "<path style=\"fill:none;stroke-width:1;stroke-linecap:round;stroke-linejoin:round;stroke:rgb(0%,0%,0%);stroke-opacity:1;stroke-miterlimit:10;\" d=\"M 108.65625 113.308594 C 108.65625 117.578125 102.253906 117.578125 102.253906 113.308594 C 102.253906 109.042969 108.65625 109.042969 108.65625 113.308594 \"/>\n",
       "<g clip-path=\"url(#clip2)\" clip-rule=\"nonzero\">\n",
       "<path style=\"fill:none;stroke-width:1;stroke-linecap:round;stroke-linejoin:round;stroke:rgb(0%,0%,0%);stroke-opacity:1;stroke-miterlimit:10;\" d=\"M 72.46875 139.464844 C 72.46875 143.734375 66.070312 143.734375 66.070312 139.464844 C 66.070312 135.199219 72.46875 135.199219 72.46875 139.464844 \"/>\n",
       "</g>\n",
       "<path style=\"fill:none;stroke-width:1;stroke-linecap:round;stroke-linejoin:round;stroke:rgb(0%,0%,0%);stroke-opacity:1;stroke-miterlimit:10;\" d=\"M 74.003906 124.683594 C 74.003906 128.949219 67.605469 128.949219 67.605469 124.683594 C 67.605469 120.414062 74.003906 120.414062 74.003906 124.683594 \"/>\n",
       "<path style=\"fill:none;stroke-width:1;stroke-linecap:round;stroke-linejoin:round;stroke:rgb(0%,0%,0%);stroke-opacity:1;stroke-miterlimit:10;\" d=\"M 141.601562 114.445312 C 141.601562 118.714844 135.199219 118.714844 135.199219 114.445312 C 135.199219 110.179688 141.601562 110.179688 141.601562 114.445312 \"/>\n",
       "<path style=\"fill:none;stroke-width:1;stroke-linecap:round;stroke-linejoin:round;stroke:rgb(0%,0%,0%);stroke-opacity:1;stroke-miterlimit:10;\" d=\"M 87.074219 125.820312 C 87.074219 130.085938 80.671875 130.085938 80.671875 125.820312 C 80.671875 121.554688 87.074219 121.554688 87.074219 125.820312 \"/>\n",
       "<path style=\"fill:none;stroke-width:1;stroke-linecap:round;stroke-linejoin:round;stroke:rgb(0%,0%,0%);stroke-opacity:1;stroke-miterlimit:10;\" d=\"M 165.71875 108.761719 C 165.71875 113.027344 159.316406 113.027344 159.316406 108.761719 C 159.316406 104.492188 165.71875 104.492188 165.71875 108.761719 \"/>\n",
       "<path style=\"fill:none;stroke-width:1;stroke-linecap:round;stroke-linejoin:round;stroke:rgb(0%,0%,0%);stroke-opacity:1;stroke-miterlimit:10;\" d=\"M 121.074219 108.761719 C 121.074219 113.027344 114.675781 113.027344 114.675781 108.761719 C 114.675781 104.492188 121.074219 104.492188 121.074219 108.761719 \"/>\n",
       "<path style=\"fill:none;stroke-width:1;stroke-linecap:round;stroke-linejoin:round;stroke:rgb(0%,0%,0%);stroke-opacity:1;stroke-miterlimit:10;\" d=\"M 142.933594 104.210938 C 142.933594 108.476562 136.535156 108.476562 136.535156 104.210938 C 136.535156 99.945312 142.933594 99.945312 142.933594 104.210938 \"/>\n",
       "<path style=\"fill:none;stroke-width:1;stroke-linecap:round;stroke-linejoin:round;stroke:rgb(0%,0%,0%);stroke-opacity:1;stroke-miterlimit:10;\" d=\"M 100.789062 117.859375 C 100.789062 122.125 94.386719 122.125 94.386719 117.859375 C 94.386719 113.59375 100.789062 113.59375 100.789062 117.859375 \"/>\n",
       "<path style=\"fill:none;stroke-width:1;stroke-linecap:round;stroke-linejoin:round;stroke:rgb(0%,0%,0%);stroke-opacity:1;stroke-miterlimit:10;\" d=\"M 148.207031 109.898438 C 148.207031 114.164062 141.808594 114.164062 141.808594 109.898438 C 141.808594 105.632812 148.207031 105.632812 148.207031 109.898438 \"/>\n",
       "<path style=\"fill:none;stroke-width:1;stroke-linecap:round;stroke-linejoin:round;stroke:rgb(0%,0%,0%);stroke-opacity:1;stroke-miterlimit:10;\" d=\"M 159.589844 104.210938 C 159.589844 108.476562 153.191406 108.476562 153.191406 104.210938 C 153.191406 99.945312 159.589844 99.945312 159.589844 104.210938 \"/>\n",
       "<path style=\"fill:none;stroke-width:1;stroke-linecap:round;stroke-linejoin:round;stroke:rgb(0%,0%,0%);stroke-opacity:1;stroke-miterlimit:10;\" d=\"M 151.113281 114.445312 C 151.113281 118.714844 144.714844 118.714844 144.714844 114.445312 C 144.714844 110.179688 151.113281 110.179688 151.113281 114.445312 \"/>\n",
       "<path style=\"fill:none;stroke-width:1;stroke-linecap:round;stroke-linejoin:round;stroke:rgb(0%,0%,0%);stroke-opacity:1;stroke-miterlimit:10;\" d=\"M 123.925781 103.074219 C 123.925781 107.339844 117.523438 107.339844 117.523438 103.074219 C 117.523438 98.808594 123.925781 98.808594 123.925781 103.074219 \"/>\n",
       "<path style=\"fill:none;stroke-width:1;stroke-linecap:round;stroke-linejoin:round;stroke:rgb(0%,0%,0%);stroke-opacity:1;stroke-miterlimit:10;\" d=\"M 93.105469 113.308594 C 93.105469 117.578125 86.707031 117.578125 86.707031 113.308594 C 86.707031 109.042969 93.105469 109.042969 93.105469 113.308594 \"/>\n",
       "<path style=\"fill:none;stroke-width:1;stroke-linecap:round;stroke-linejoin:round;stroke:rgb(0%,0%,0%);stroke-opacity:1;stroke-miterlimit:10;\" d=\"M 70.914062 124.683594 C 70.914062 128.949219 64.515625 128.949219 64.515625 124.683594 C 64.515625 120.414062 70.914062 120.414062 70.914062 124.683594 \"/>\n",
       "<path style=\"fill:none;stroke-width:1;stroke-linecap:round;stroke-linejoin:round;stroke:rgb(0%,0%,0%);stroke-opacity:1;stroke-miterlimit:10;\" d=\"M 87.941406 125.820312 C 87.941406 130.085938 81.542969 130.085938 81.542969 125.820312 C 81.542969 121.554688 87.941406 121.554688 87.941406 125.820312 \"/>\n",
       "<path style=\"fill:none;stroke-width:1;stroke-linecap:round;stroke-linejoin:round;stroke:rgb(0%,0%,0%);stroke-opacity:1;stroke-miterlimit:10;\" d=\"M 78.097656 128.09375 C 78.097656 132.359375 71.695312 132.359375 71.695312 128.09375 C 71.695312 123.828125 78.097656 123.828125 78.097656 128.09375 \"/>\n",
       "<path style=\"fill:none;stroke-width:1;stroke-linecap:round;stroke-linejoin:round;stroke:rgb(0%,0%,0%);stroke-opacity:1;stroke-miterlimit:10;\" d=\"M 99.824219 136.054688 C 99.824219 140.320312 93.425781 140.320312 93.425781 136.054688 C 93.425781 131.789062 99.824219 131.789062 99.824219 136.054688 \"/>\n",
       "<path style=\"fill:none;stroke-width:1;stroke-linecap:round;stroke-linejoin:round;stroke:rgb(0%,0%,0%);stroke-opacity:1;stroke-miterlimit:10;\" d=\"M 181.488281 114.445312 C 181.488281 118.714844 175.089844 118.714844 175.089844 114.445312 C 175.089844 110.179688 181.488281 110.179688 181.488281 114.445312 \"/>\n",
       "<path style=\"fill:none;stroke-width:1;stroke-linecap:round;stroke-linejoin:round;stroke:rgb(0%,0%,0%);stroke-opacity:1;stroke-miterlimit:10;\" d=\"M 75.097656 129.230469 C 75.097656 133.496094 68.695312 133.496094 68.695312 129.230469 C 68.695312 124.964844 75.097656 124.964844 75.097656 129.230469 \"/>\n",
       "<path style=\"fill:none;stroke-width:1;stroke-linecap:round;stroke-linejoin:round;stroke:rgb(0%,0%,0%);stroke-opacity:1;stroke-miterlimit:10;\" d=\"M 75.097656 129.230469 C 75.097656 133.496094 68.695312 133.496094 68.695312 129.230469 C 68.695312 124.964844 75.097656 124.964844 75.097656 129.230469 \"/>\n",
       "<path style=\"fill:none;stroke-width:1;stroke-linecap:round;stroke-linejoin:round;stroke:rgb(0%,0%,0%);stroke-opacity:1;stroke-miterlimit:10;\" d=\"M 73.929688 131.507812 C 73.929688 135.773438 67.53125 135.773438 67.53125 131.507812 C 67.53125 127.238281 73.929688 127.238281 73.929688 131.507812 \"/>\n",
       "<path style=\"fill:none;stroke-width:1;stroke-linecap:round;stroke-linejoin:round;stroke:rgb(0%,0%,0%);stroke-opacity:1;stroke-miterlimit:10;\" d=\"M 69.859375 123.546875 C 69.859375 127.8125 63.460938 127.8125 63.460938 123.546875 C 63.460938 119.277344 69.859375 119.277344 69.859375 123.546875 \"/>\n",
       "<path style=\"fill:none;stroke-width:1;stroke-linecap:round;stroke-linejoin:round;stroke:rgb(0%,0%,0%);stroke-opacity:1;stroke-miterlimit:10;\" d=\"M 133.011719 103.074219 C 133.011719 107.339844 126.613281 107.339844 126.613281 103.074219 C 126.613281 98.808594 133.011719 98.808594 133.011719 103.074219 \"/>\n",
       "<path style=\"fill:none;stroke-width:1;stroke-linecap:round;stroke-linejoin:round;stroke:rgb(0%,0%,0%);stroke-opacity:1;stroke-miterlimit:10;\" d=\"M 103.75 117.859375 C 103.75 122.125 97.347656 122.125 97.347656 117.859375 C 97.347656 113.59375 103.75 113.59375 103.75 117.859375 \"/>\n",
       "<path style=\"fill:none;stroke-width:1;stroke-linecap:round;stroke-linejoin:round;stroke:rgb(0%,0%,0%);stroke-opacity:1;stroke-miterlimit:10;\" d=\"M 69.601562 125.820312 C 69.601562 130.085938 63.199219 130.085938 63.199219 125.820312 C 63.199219 121.554688 69.601562 121.554688 69.601562 125.820312 \"/>\n",
       "<path style=\"fill:none;stroke-width:1;stroke-linecap:round;stroke-linejoin:round;stroke:rgb(0%,0%,0%);stroke-opacity:1;stroke-miterlimit:10;\" d=\"M 101.472656 125.820312 C 101.472656 130.085938 95.074219 130.085938 95.074219 125.820312 C 95.074219 121.554688 101.472656 121.554688 101.472656 125.820312 \"/>\n",
       "<path style=\"fill:none;stroke-width:1;stroke-linecap:round;stroke-linejoin:round;stroke:rgb(0%,0%,0%);stroke-opacity:1;stroke-miterlimit:10;\" d=\"M 70.710938 130.367188 C 70.710938 134.636719 64.3125 134.636719 64.3125 130.367188 C 64.3125 126.101562 70.710938 126.101562 70.710938 130.367188 \"/>\n",
       "<path style=\"fill:none;stroke-width:1;stroke-linecap:round;stroke-linejoin:round;stroke:rgb(0%,0%,0%);stroke-opacity:1;stroke-miterlimit:10;\" d=\"M 85.054688 115.585938 C 85.054688 119.851562 78.65625 119.851562 78.65625 115.585938 C 78.65625 111.316406 85.054688 111.316406 85.054688 115.585938 \"/>\n",
       "<path style=\"fill:none;stroke-width:1;stroke-linecap:round;stroke-linejoin:round;stroke:rgb(0%,0%,0%);stroke-opacity:1;stroke-miterlimit:10;\" d=\"M 86.074219 115.585938 C 86.074219 119.851562 79.671875 119.851562 79.671875 115.585938 C 79.671875 111.316406 86.074219 111.316406 86.074219 115.585938 \"/>\n",
       "<path style=\"fill:none;stroke-width:1;stroke-linecap:round;stroke-linejoin:round;stroke:rgb(0%,0%,0%);stroke-opacity:1;stroke-miterlimit:10;\" d=\"M 122.445312 121.269531 C 122.445312 125.539062 116.042969 125.539062 116.042969 121.269531 C 116.042969 117.003906 122.445312 117.003906 122.445312 121.269531 \"/>\n",
       "<path style=\"fill:none;stroke-width:1;stroke-linecap:round;stroke-linejoin:round;stroke:rgb(0%,0%,0%);stroke-opacity:1;stroke-miterlimit:10;\" d=\"M 128.253906 108.761719 C 128.253906 113.027344 121.855469 113.027344 121.855469 108.761719 C 121.855469 104.492188 128.253906 104.492188 128.253906 108.761719 \"/>\n",
       "<path style=\"fill:none;stroke-width:1;stroke-linecap:round;stroke-linejoin:round;stroke:rgb(0%,0%,0%);stroke-opacity:1;stroke-miterlimit:10;\" d=\"M 108.691406 120.132812 C 108.691406 124.398438 102.292969 124.398438 102.292969 120.132812 C 102.292969 115.867188 108.691406 115.867188 108.691406 120.132812 \"/>\n",
       "<path style=\"fill:none;stroke-width:1;stroke-linecap:round;stroke-linejoin:round;stroke:rgb(0%,0%,0%);stroke-opacity:1;stroke-miterlimit:10;\" d=\"M 128.773438 108.761719 C 128.773438 113.027344 122.375 113.027344 122.375 108.761719 C 122.375 104.492188 128.773438 104.492188 128.773438 108.761719 \"/>\n",
       "<path style=\"fill:none;stroke-width:1;stroke-linecap:round;stroke-linejoin:round;stroke:rgb(0%,0%,0%);stroke-opacity:1;stroke-miterlimit:10;\" d=\"M 113.890625 114.445312 C 113.890625 118.714844 107.492188 118.714844 107.492188 114.445312 C 107.492188 110.179688 113.890625 110.179688 113.890625 114.445312 \"/>\n",
       "<path style=\"fill:none;stroke-width:1;stroke-linecap:round;stroke-linejoin:round;stroke:rgb(0%,0%,0%);stroke-opacity:1;stroke-miterlimit:10;\" d=\"M 194.40625 107.625 C 194.40625 111.890625 188.007812 111.890625 188.007812 107.625 C 188.007812 103.355469 194.40625 103.355469 194.40625 107.625 \"/>\n",
       "<path style=\"fill:none;stroke-width:1;stroke-linecap:round;stroke-linejoin:round;stroke:rgb(0%,0%,0%);stroke-opacity:1;stroke-miterlimit:10;\" d=\"M 145.082031 116.722656 C 145.082031 120.988281 138.679688 120.988281 138.679688 116.722656 C 138.679688 112.453125 145.082031 112.453125 145.082031 116.722656 \"/>\n",
       "<path style=\"fill:none;stroke-width:1;stroke-linecap:round;stroke-linejoin:round;stroke:rgb(0%,0%,0%);stroke-opacity:1;stroke-miterlimit:10;\" d=\"M 135.328125 105.347656 C 135.328125 109.617188 128.925781 109.617188 128.925781 105.347656 C 128.925781 101.082031 135.328125 101.082031 135.328125 105.347656 \"/>\n",
       "<path style=\"fill:none;stroke-width:1;stroke-linecap:round;stroke-linejoin:round;stroke:rgb(0%,0%,0%);stroke-opacity:1;stroke-miterlimit:10;\" d=\"M 135.253906 103.074219 C 135.253906 107.339844 128.851562 107.339844 128.851562 103.074219 C 128.851562 98.808594 135.253906 98.808594 135.253906 103.074219 \"/>\n",
       "<path style=\"fill:none;stroke-width:1;stroke-linecap:round;stroke-linejoin:round;stroke:rgb(0%,0%,0%);stroke-opacity:1;stroke-miterlimit:10;\" d=\"M 113.820312 125.820312 C 113.820312 130.085938 107.417969 130.085938 107.417969 125.820312 C 107.417969 121.554688 113.820312 121.554688 113.820312 125.820312 \"/>\n",
       "<path style=\"fill:none;stroke-width:1;stroke-linecap:round;stroke-linejoin:round;stroke:rgb(0%,0%,0%);stroke-opacity:1;stroke-miterlimit:10;\" d=\"M 74.429688 130.367188 C 74.429688 134.636719 68.03125 134.636719 68.03125 130.367188 C 68.03125 126.101562 74.429688 126.101562 74.429688 130.367188 \"/>\n",
       "<path style=\"fill:none;stroke-width:1;stroke-linecap:round;stroke-linejoin:round;stroke:rgb(0%,0%,0%);stroke-opacity:1;stroke-miterlimit:10;\" d=\"M 98.566406 114.445312 C 98.566406 118.714844 92.167969 118.714844 92.167969 114.445312 C 92.167969 110.179688 98.566406 110.179688 98.566406 114.445312 \"/>\n",
       "<path style=\"fill:none;stroke-width:1;stroke-linecap:round;stroke-linejoin:round;stroke:rgb(0%,0%,0%);stroke-opacity:1;stroke-miterlimit:10;\" d=\"M 109.617188 113.308594 C 109.617188 117.578125 103.21875 117.578125 103.21875 113.308594 C 103.21875 109.042969 109.617188 109.042969 109.617188 113.308594 \"/>\n",
       "<path style=\"fill:none;stroke-width:1;stroke-linecap:round;stroke-linejoin:round;stroke:rgb(0%,0%,0%);stroke-opacity:1;stroke-miterlimit:10;\" d=\"M 74.226562 121.269531 C 74.226562 125.539062 67.828125 125.539062 67.828125 121.269531 C 67.828125 117.003906 74.226562 117.003906 74.226562 121.269531 \"/>\n",
       "<path style=\"fill:none;stroke-width:1;stroke-linecap:round;stroke-linejoin:round;stroke:rgb(0%,0%,0%);stroke-opacity:1;stroke-miterlimit:10;\" d=\"M 171.808594 103.074219 C 171.808594 107.339844 165.40625 107.339844 165.40625 103.074219 C 165.40625 98.808594 171.808594 98.808594 171.808594 103.074219 \"/>\n",
       "<path style=\"fill:none;stroke-width:1;stroke-linecap:round;stroke-linejoin:round;stroke:rgb(0%,0%,0%);stroke-opacity:1;stroke-miterlimit:10;\" d=\"M 165.386719 104.210938 C 165.386719 108.476562 158.984375 108.476562 158.984375 104.210938 C 158.984375 99.945312 165.386719 99.945312 165.386719 104.210938 \"/>\n",
       "<path style=\"fill:none;stroke-width:1;stroke-linecap:round;stroke-linejoin:round;stroke:rgb(0%,0%,0%);stroke-opacity:1;stroke-miterlimit:10;\" d=\"M 75.523438 117.859375 C 75.523438 122.125 69.121094 122.125 69.121094 117.859375 C 69.121094 113.59375 75.523438 113.59375 75.523438 117.859375 \"/>\n",
       "<path style=\"fill:none;stroke-width:1;stroke-linecap:round;stroke-linejoin:round;stroke:rgb(0%,0%,0%);stroke-opacity:1;stroke-miterlimit:10;\" d=\"M 139.027344 122.40625 C 139.027344 126.675781 132.628906 126.675781 132.628906 122.40625 C 132.628906 118.140625 139.027344 118.140625 139.027344 122.40625 \"/>\n",
       "<path style=\"fill:none;stroke-width:1;stroke-linecap:round;stroke-linejoin:round;stroke:rgb(0%,0%,0%);stroke-opacity:1;stroke-miterlimit:10;\" d=\"M 158.019531 112.171875 C 158.019531 116.4375 151.617188 116.4375 151.617188 112.171875 C 151.617188 107.90625 158.019531 107.90625 158.019531 112.171875 \"/>\n",
       "<path style=\"fill:none;stroke-width:1;stroke-linecap:round;stroke-linejoin:round;stroke:rgb(0%,0%,0%);stroke-opacity:1;stroke-miterlimit:10;\" d=\"M 120.074219 108.761719 C 120.074219 113.027344 113.675781 113.027344 113.675781 108.761719 C 113.675781 104.492188 120.074219 104.492188 120.074219 108.761719 \"/>\n",
       "<path style=\"fill:none;stroke-width:1;stroke-linecap:round;stroke-linejoin:round;stroke:rgb(0%,0%,0%);stroke-opacity:1;stroke-miterlimit:10;\" d=\"M 87.238281 126.957031 C 87.238281 131.222656 80.839844 131.222656 80.839844 126.957031 C 80.839844 122.691406 87.238281 122.691406 87.238281 126.957031 \"/>\n",
       "<path style=\"fill:none;stroke-width:1;stroke-linecap:round;stroke-linejoin:round;stroke:rgb(0%,0%,0%);stroke-opacity:1;stroke-miterlimit:10;\" d=\"M 114.132812 121.269531 C 114.132812 125.539062 107.734375 125.539062 107.734375 121.269531 C 107.734375 117.003906 114.132812 117.003906 114.132812 121.269531 \"/>\n",
       "<path style=\"fill:none;stroke-width:1;stroke-linecap:round;stroke-linejoin:round;stroke:rgb(0%,0%,0%);stroke-opacity:1;stroke-miterlimit:10;\" d=\"M 128.941406 106.484375 C 128.941406 110.753906 122.539062 110.753906 122.539062 106.484375 C 122.539062 102.21875 128.941406 102.21875 128.941406 106.484375 \"/>\n",
       "<path style=\"fill:none;stroke-width:1;stroke-linecap:round;stroke-linejoin:round;stroke:rgb(0%,0%,0%);stroke-opacity:1;stroke-miterlimit:10;\" d=\"M 132.566406 100.800781 C 132.566406 105.066406 126.167969 105.066406 126.167969 100.800781 C 126.167969 96.535156 132.566406 96.535156 132.566406 100.800781 \"/>\n",
       "<path style=\"fill:none;stroke-width:1;stroke-linecap:round;stroke-linejoin:round;stroke:rgb(0%,0%,0%);stroke-opacity:1;stroke-miterlimit:10;\" d=\"M 74.542969 130.367188 C 74.542969 134.636719 68.140625 134.636719 68.140625 130.367188 C 68.140625 126.101562 74.542969 126.101562 74.542969 130.367188 \"/>\n",
       "<path style=\"fill:none;stroke-width:1;stroke-linecap:round;stroke-linejoin:round;stroke:rgb(0%,0%,0%);stroke-opacity:1;stroke-miterlimit:10;\" d=\"M 90.8125 121.269531 C 90.8125 125.539062 84.410156 125.539062 84.410156 121.269531 C 84.410156 117.003906 90.8125 117.003906 90.8125 121.269531 \"/>\n",
       "<path style=\"fill:none;stroke-width:1;stroke-linecap:round;stroke-linejoin:round;stroke:rgb(0%,0%,0%);stroke-opacity:1;stroke-miterlimit:10;\" d=\"M 76.894531 124.683594 C 76.894531 128.949219 70.492188 128.949219 70.492188 124.683594 C 70.492188 120.414062 76.894531 120.414062 76.894531 124.683594 \"/>\n",
       "<path style=\"fill:none;stroke-width:1;stroke-linecap:round;stroke-linejoin:round;stroke:rgb(0%,0%,0%);stroke-opacity:1;stroke-miterlimit:10;\" d=\"M 93.234375 129.230469 C 93.234375 133.496094 86.835938 133.496094 86.835938 129.230469 C 86.835938 124.964844 93.234375 124.964844 93.234375 129.230469 \"/>\n",
       "<path style=\"fill:none;stroke-width:1;stroke-linecap:round;stroke-linejoin:round;stroke:rgb(0%,0%,0%);stroke-opacity:1;stroke-miterlimit:10;\" d=\"M 101.601562 113.308594 C 101.601562 117.578125 95.203125 117.578125 95.203125 113.308594 C 95.203125 109.042969 101.601562 109.042969 101.601562 113.308594 \"/>\n",
       "<path style=\"fill:none;stroke-width:1;stroke-linecap:round;stroke-linejoin:round;stroke:rgb(0%,0%,0%);stroke-opacity:1;stroke-miterlimit:10;\" d=\"M 80.390625 121.269531 C 80.390625 125.539062 73.992188 125.539062 73.992188 121.269531 C 73.992188 117.003906 80.390625 117.003906 80.390625 121.269531 \"/>\n",
       "<path style=\"fill:none;stroke-width:1;stroke-linecap:round;stroke-linejoin:round;stroke:rgb(0%,0%,0%);stroke-opacity:1;stroke-miterlimit:10;\" d=\"M 94.199219 116.722656 C 94.199219 120.988281 87.796875 120.988281 87.796875 116.722656 C 87.796875 112.453125 94.199219 112.453125 94.199219 116.722656 \"/>\n",
       "<path style=\"fill:none;stroke-width:1;stroke-linecap:round;stroke-linejoin:round;stroke:rgb(0%,0%,0%);stroke-opacity:1;stroke-miterlimit:10;\" d=\"M 126.832031 114.445312 C 126.832031 118.714844 120.429688 118.714844 120.429688 114.445312 C 120.429688 110.179688 126.832031 110.179688 126.832031 114.445312 \"/>\n",
       "<path style=\"fill:none;stroke-width:1;stroke-linecap:round;stroke-linejoin:round;stroke:rgb(0%,0%,0%);stroke-opacity:1;stroke-miterlimit:10;\" d=\"M 80.445312 123.546875 C 80.445312 127.8125 74.046875 127.8125 74.046875 123.546875 C 74.046875 119.277344 80.445312 119.277344 80.445312 123.546875 \"/>\n",
       "<path style=\"fill:none;stroke-width:1;stroke-linecap:round;stroke-linejoin:round;stroke:rgb(0%,0%,0%);stroke-opacity:1;stroke-miterlimit:10;\" d=\"M 66.234375 142.558594 L 251.324219 142.558594 \"/>\n",
       "<path style=\"fill:none;stroke-width:1;stroke-linecap:round;stroke-linejoin:round;stroke:rgb(0%,0%,0%);stroke-opacity:1;stroke-miterlimit:10;\" d=\"M 66.234375 142.558594 L 66.234375 149.761719 \"/>\n",
       "<path style=\"fill:none;stroke-width:1;stroke-linecap:round;stroke-linejoin:round;stroke:rgb(0%,0%,0%);stroke-opacity:1;stroke-miterlimit:10;\" d=\"M 103.25 142.558594 L 103.25 149.761719 \"/>\n",
       "<path style=\"fill:none;stroke-width:1;stroke-linecap:round;stroke-linejoin:round;stroke:rgb(0%,0%,0%);stroke-opacity:1;stroke-miterlimit:10;\" d=\"M 140.269531 142.558594 L 140.269531 149.761719 \"/>\n",
       "<path style=\"fill:none;stroke-width:1;stroke-linecap:round;stroke-linejoin:round;stroke:rgb(0%,0%,0%);stroke-opacity:1;stroke-miterlimit:10;\" d=\"M 177.289062 142.558594 L 177.289062 149.761719 \"/>\n",
       "<path style=\"fill:none;stroke-width:1;stroke-linecap:round;stroke-linejoin:round;stroke:rgb(0%,0%,0%);stroke-opacity:1;stroke-miterlimit:10;\" d=\"M 214.308594 142.558594 L 214.308594 149.761719 \"/>\n",
       "<path style=\"fill:none;stroke-width:1;stroke-linecap:round;stroke-linejoin:round;stroke:rgb(0%,0%,0%);stroke-opacity:1;stroke-miterlimit:10;\" d=\"M 251.324219 142.558594 L 251.324219 149.761719 \"/>\n",
       "<g style=\"fill:rgb(0%,0%,0%);fill-opacity:1;\">\n",
       "  <use xlink:href=\"#glyph0-1\" x=\"62.757812\" y=\"169.921875\"/>\n",
       "</g>\n",
       "<g style=\"fill:rgb(0%,0%,0%);fill-opacity:1;\">\n",
       "  <use xlink:href=\"#glyph0-2\" x=\"96.300781\" y=\"169.921875\"/>\n",
       "  <use xlink:href=\"#glyph0-1\" x=\"103.250809\" y=\"169.921875\"/>\n",
       "</g>\n",
       "<g style=\"fill:rgb(0%,0%,0%);fill-opacity:1;\">\n",
       "  <use xlink:href=\"#glyph0-3\" x=\"133.320312\" y=\"169.921875\"/>\n",
       "  <use xlink:href=\"#glyph0-1\" x=\"140.27034\" y=\"169.921875\"/>\n",
       "</g>\n",
       "<g style=\"fill:rgb(0%,0%,0%);fill-opacity:1;\">\n",
       "  <use xlink:href=\"#glyph0-4\" x=\"170.339844\" y=\"169.921875\"/>\n",
       "  <use xlink:href=\"#glyph0-1\" x=\"177.289871\" y=\"169.921875\"/>\n",
       "</g>\n",
       "<g style=\"fill:rgb(0%,0%,0%);fill-opacity:1;\">\n",
       "  <use xlink:href=\"#glyph0-5\" x=\"207.359375\" y=\"169.921875\"/>\n",
       "  <use xlink:href=\"#glyph0-1\" x=\"214.309402\" y=\"169.921875\"/>\n",
       "</g>\n",
       "<g style=\"fill:rgb(0%,0%,0%);fill-opacity:1;\">\n",
       "  <use xlink:href=\"#glyph0-6\" x=\"240.898438\" y=\"169.921875\"/>\n",
       "  <use xlink:href=\"#glyph0-1\" x=\"247.848465\" y=\"169.921875\"/>\n",
       "  <use xlink:href=\"#glyph0-1\" x=\"254.798492\" y=\"169.921875\"/>\n",
       "</g>\n",
       "<path style=\"fill:none;stroke-width:1;stroke-linecap:round;stroke-linejoin:round;stroke:rgb(0%,0%,0%);stroke-opacity:1;stroke-miterlimit:10;\" d=\"M 59.039062 134.917969 L 59.039062 66.683594 \"/>\n",
       "<path style=\"fill:none;stroke-width:1;stroke-linecap:round;stroke-linejoin:round;stroke:rgb(0%,0%,0%);stroke-opacity:1;stroke-miterlimit:10;\" d=\"M 59.039062 134.917969 L 51.839844 134.917969 \"/>\n",
       "<path style=\"fill:none;stroke-width:1;stroke-linecap:round;stroke-linejoin:round;stroke:rgb(0%,0%,0%);stroke-opacity:1;stroke-miterlimit:10;\" d=\"M 59.039062 123.546875 L 51.839844 123.546875 \"/>\n",
       "<path style=\"fill:none;stroke-width:1;stroke-linecap:round;stroke-linejoin:round;stroke:rgb(0%,0%,0%);stroke-opacity:1;stroke-miterlimit:10;\" d=\"M 59.039062 112.171875 L 51.839844 112.171875 \"/>\n",
       "<path style=\"fill:none;stroke-width:1;stroke-linecap:round;stroke-linejoin:round;stroke:rgb(0%,0%,0%);stroke-opacity:1;stroke-miterlimit:10;\" d=\"M 59.039062 100.800781 L 51.839844 100.800781 \"/>\n",
       "<path style=\"fill:none;stroke-width:1;stroke-linecap:round;stroke-linejoin:round;stroke:rgb(0%,0%,0%);stroke-opacity:1;stroke-miterlimit:10;\" d=\"M 59.039062 89.425781 L 51.839844 89.425781 \"/>\n",
       "<path style=\"fill:none;stroke-width:1;stroke-linecap:round;stroke-linejoin:round;stroke:rgb(0%,0%,0%);stroke-opacity:1;stroke-miterlimit:10;\" d=\"M 59.039062 78.054688 L 51.839844 78.054688 \"/>\n",
       "<path style=\"fill:none;stroke-width:1;stroke-linecap:round;stroke-linejoin:round;stroke:rgb(0%,0%,0%);stroke-opacity:1;stroke-miterlimit:10;\" d=\"M 59.039062 66.683594 L 51.839844 66.683594 \"/>\n",
       "<g style=\"fill:rgb(0%,0%,0%);fill-opacity:1;\">\n",
       "  <use xlink:href=\"#glyph1-1\" x=\"43.199219\" y=\"141.867188\"/>\n",
       "  <use xlink:href=\"#glyph1-2\" x=\"43.199219\" y=\"134.91716\"/>\n",
       "</g>\n",
       "<g style=\"fill:rgb(0%,0%,0%);fill-opacity:1;\">\n",
       "  <use xlink:href=\"#glyph1-3\" x=\"43.199219\" y=\"107.75\"/>\n",
       "  <use xlink:href=\"#glyph1-2\" x=\"43.199219\" y=\"100.799973\"/>\n",
       "</g>\n",
       "<g style=\"fill:rgb(0%,0%,0%);fill-opacity:1;\">\n",
       "  <use xlink:href=\"#glyph1-4\" x=\"43.199219\" y=\"73.632812\"/>\n",
       "  <use xlink:href=\"#glyph1-2\" x=\"43.199219\" y=\"66.682785\"/>\n",
       "</g>\n",
       "<path style=\"fill:none;stroke-width:1;stroke-linecap:round;stroke-linejoin:round;stroke:rgb(0%,0%,0%);stroke-opacity:1;stroke-miterlimit:10;\" d=\"M 59.039062 142.558594 L 257.761719 142.558594 L 257.761719 59.039062 L 59.039062 59.039062 L 59.039062 142.558594 \"/>\n",
       "<g style=\"fill:rgb(0%,0%,0%);fill-opacity:1;\">\n",
       "  <use xlink:href=\"#glyph0-7\" x=\"119.835938\" y=\"198.71875\"/>\n",
       "  <use xlink:href=\"#glyph0-8\" x=\"126.085968\" y=\"198.71875\"/>\n",
       "  <use xlink:href=\"#glyph0-9\" x=\"133.035995\" y=\"198.71875\"/>\n",
       "  <use xlink:href=\"#glyph0-10\" x=\"136.511002\" y=\"198.71875\"/>\n",
       "  <use xlink:href=\"#glyph0-6\" x=\"143.461029\" y=\"198.71875\"/>\n",
       "  <use xlink:href=\"#glyph0-11\" x=\"150.411057\" y=\"198.71875\"/>\n",
       "  <use xlink:href=\"#glyph0-12\" x=\"157.361084\" y=\"198.71875\"/>\n",
       "  <use xlink:href=\"#glyph0-13\" x=\"163.611115\" y=\"198.71875\"/>\n",
       "  <use xlink:href=\"#glyph0-14\" x=\"170.561142\" y=\"198.71875\"/>\n",
       "  <use xlink:href=\"#glyph0-15\" x=\"177.511169\" y=\"198.71875\"/>\n",
       "  <use xlink:href=\"#glyph0-10\" x=\"181.673691\" y=\"198.71875\"/>\n",
       "  <use xlink:href=\"#glyph0-16\" x=\"188.623718\" y=\"198.71875\"/>\n",
       "</g>\n",
       "<g style=\"fill:rgb(0%,0%,0%);fill-opacity:1;\">\n",
       "  <use xlink:href=\"#glyph1-5\" x=\"14.398438\" y=\"135.542969\"/>\n",
       "  <use xlink:href=\"#glyph1-6\" x=\"14.398438\" y=\"129.292938\"/>\n",
       "  <use xlink:href=\"#glyph1-7\" x=\"14.398438\" y=\"122.342911\"/>\n",
       "  <use xlink:href=\"#glyph1-8\" x=\"14.398438\" y=\"118.867905\"/>\n",
       "  <use xlink:href=\"#glyph1-9\" x=\"14.398438\" y=\"111.917877\"/>\n",
       "  <use xlink:href=\"#glyph1-10\" x=\"14.398438\" y=\"104.96785\"/>\n",
       "  <use xlink:href=\"#glyph1-5\" x=\"14.398438\" y=\"98.017822\"/>\n",
       "  <use xlink:href=\"#glyph1-6\" x=\"14.398438\" y=\"91.767792\"/>\n",
       "  <use xlink:href=\"#glyph1-7\" x=\"14.398438\" y=\"84.817764\"/>\n",
       "  <use xlink:href=\"#glyph1-8\" x=\"14.398438\" y=\"81.342758\"/>\n",
       "  <use xlink:href=\"#glyph1-11\" x=\"14.398438\" y=\"74.392731\"/>\n",
       "</g>\n",
       "<g clip-path=\"url(#clip3)\" clip-rule=\"nonzero\">\n",
       "<path style=\"fill:none;stroke-width:1;stroke-linecap:round;stroke-linejoin:round;stroke:rgb(0%,0%,0%);stroke-opacity:1;stroke-miterlimit:10;\" d=\"M 59.039062 129.21875 L 257.761719 72.585938 \"/>\n",
       "</g>\n",
       "</g>\n",
       "</svg>\n"
      ]
     },
     "metadata": {
      "image/svg+xml": {
       "isolated": true
      }
     },
     "output_type": "display_data"
    }
   ],
   "source": [
    "require(foreign)\n",
    "vote1<-read.dta(\"https://github.com/thousandoaks/Wooldridge/blob/master/vote1.dta?raw=true\")\n",
    "\n",
    "# OLS regression (parentheses for immediate output):\n",
    "( VOTEres <- lm(voteA ~ shareA, data=vote1) )\n",
    "\n",
    "# scatter plot with regression line:\n",
    "plot(vote1$shareA, vote1$voteA)\n",
    "abline(VOTEres)"
   ]
  },
  {
   "cell_type": "markdown",
   "metadata": {},
   "source": [
    "This means that if Candidate A's share of spending increases by one percentage point, Candidate A receives almost one-half a percentage point (0.464) more of the total vote."
   ]
  },
  {
   "cell_type": "markdown",
   "metadata": {},
   "source": [
    "## 2-3 Properties of OLS on Any Sample of Data"
   ]
  },
  {
   "cell_type": "markdown",
   "metadata": {},
   "source": [
    "### 2-3a Coefficients, Fitted Values and Residuals"
   ]
  },
  {
   "cell_type": "markdown",
   "metadata": {
    "collapsed": true
   },
   "source": [
    "The object returned by lm contains all relevant information on the regression. "
   ]
  },
  {
   "cell_type": "markdown",
   "metadata": {},
   "source": [
    "### Wooldridge. Example 2.6 CEO Salary and Return on Equity (Option A)"
   ]
  },
  {
   "cell_type": "code",
   "execution_count": null,
   "metadata": {},
   "outputs": [],
   "source": [
    "require(foreign)\n",
    "ceosal1<-read.dta(\"https://github.com/thousandoaks/Wooldridge/blob/master/ceosal1.dta?raw=true\")\n",
    "\n",
    "# extract variables as vectors:\n",
    "sal <- ceosal1$salary\n",
    "roe <- ceosal1$roe\n",
    "\n",
    "# regression with vectors:\n",
    "CEOregres <- lm( sal ~ roe  )\n",
    "\n",
    "# obtain predicted values and residuals\n",
    "sal.hat <- fitted(CEOregres)\n",
    "u.hat <- resid(CEOregres)\n",
    "\n",
    "# Wooldridge, Table 2.2: \n",
    "cbind(roe, sal, sal.hat, u.hat)[1:15,]\n"
   ]
  },
  {
   "cell_type": "markdown",
   "metadata": {},
   "source": [
    "### Wooldridge. Example 2.6 CEO Salary and Return on Equity (Option B)"
   ]
  },
  {
   "cell_type": "code",
   "execution_count": null,
   "metadata": {},
   "outputs": [],
   "source": [
    "names(CEOregres)"
   ]
  },
  {
   "cell_type": "code",
   "execution_count": null,
   "metadata": {},
   "outputs": [],
   "source": [
    "require(foreign)\n",
    "ceosal1<-read.dta(\"https://github.com/thousandoaks/Wooldridge/blob/master/ceosal1.dta?raw=true\")\n",
    "\n",
    "# extract variables as vectors:\n",
    "sal <- ceosal1$salary\n",
    "roe <- ceosal1$roe\n",
    "\n",
    "# regression with vectors:\n",
    "CEOregres <- lm( sal ~ roe  )\n",
    "\n",
    "# obtain predicted values and residuals\n",
    "sal.hat <- CEOregres$fitted.values\n",
    "u.hat <- CEOregres$residuals\n",
    "\n",
    "# Wooldridge, Table 2.2: \n",
    "cbind(roe, sal, sal.hat, u.hat)[1:15,]\n"
   ]
  },
  {
   "cell_type": "code",
   "execution_count": null,
   "metadata": {},
   "outputs": [],
   "source": []
  },
  {
   "cell_type": "markdown",
   "metadata": {},
   "source": [
    "### 2-3b Algebraic properties of OLS statistics"
   ]
  },
  {
   "cell_type": "markdown",
   "metadata": {
    "collapsed": true
   },
   "source": [
    "Writing each Y_i as its fitted value, plus its residual, provides another way to interpret an OLS regression. For each i, write"
   ]
  },
  {
   "cell_type": "markdown",
   "metadata": {},
   "source": [
    "\\begin{equation}\n",
    "y_i=\\hat{y_i}+\\hat{u_i}\n",
    "\\end{equation}"
   ]
  },
  {
   "cell_type": "markdown",
   "metadata": {
    "collapsed": true
   },
   "source": [
    "Thus we can view OLS as decomposing each Yi into two parts, a fitted valueand a residual. The fitted values and residuals are uncorrelated in the sample."
   ]
  },
  {
   "cell_type": "markdown",
   "metadata": {
    "collapsed": true
   },
   "source": [
    "Wooldridge defines the total sum of squares (SST),the explained sum of squares (SSE), and the residual sum of squares (SSR) as follows:"
   ]
  },
  {
   "cell_type": "markdown",
   "metadata": {},
   "source": [
    "\\begin{equation}\n",
    "\\tag{2.33}\n",
    "SST=\\sum_{i=1}^n (y_i-\\vec{y})^2\n",
    "\\end{equation}"
   ]
  },
  {
   "cell_type": "markdown",
   "metadata": {},
   "source": [
    "\\begin{equation}\n",
    "\\tag{2.34}\n",
    "SSE=\\sum_{i=1}^n (\\hat{y_i}-\\vec{y_i})^2\n",
    "\\end{equation}"
   ]
  },
  {
   "cell_type": "markdown",
   "metadata": {},
   "source": [
    "\\begin{equation}\n",
    "\\tag{2.35}\n",
    "SSR=\\sum_{i=1}^n \\hat{u_i}^2\n",
    "\\end{equation}"
   ]
  },
  {
   "cell_type": "markdown",
   "metadata": {},
   "source": [
    "SST is a measure of the total sample variation in the Yi, this is, a measure of how spread out the Yi are in the sample. Similarly SSE measures the sample variation in the Yhati, and SSR measures the sample variation in the uhati. The total variation in y can always be expressed as the sum of the explained variation and the unexplained variation SSR, Thus,"
   ]
  },
  {
   "cell_type": "markdown",
   "metadata": {},
   "source": [
    "\\begin{equation}\n",
    "\\tag{2.36}\n",
    "SST= SSE+ SSR\n",
    "\\end{equation}"
   ]
  },
  {
   "cell_type": "code",
   "execution_count": null,
   "metadata": {},
   "outputs": [],
   "source": []
  },
  {
   "cell_type": "markdown",
   "metadata": {},
   "source": [
    "### 2-3c Goodness-of-Fit"
   ]
  },
  {
   "cell_type": "markdown",
   "metadata": {
    "collapsed": true
   },
   "source": [
    "So far, we have no way of measuring how well the explanatory or independent variable, x, explains the dependent variable, y. "
   ]
  },
  {
   "cell_type": "markdown",
   "metadata": {},
   "source": [
    "Assuming that the total sum of squares, SST, is not equal to zero we can divide (2.36) by SST to get 1=SSE/SST+SSR/SST. The R-squared of the regression, sometimes called the coefficient of determination, is defined as"
   ]
  },
  {
   "cell_type": "markdown",
   "metadata": {},
   "source": [
    "\\begin{equation}\n",
    "\\tag{2.38}\n",
    "R^2:= SSE/SST = 1-SSR/SST = 1- \\frac{Var(\\hat{u})}{Var(y)}\n",
    "\\end{equation}"
   ]
  },
  {
   "cell_type": "markdown",
   "metadata": {},
   "source": [
    "R^2 is the ratio of the explained variation compared to the total variation. Thus it is interpreted as the fraction of the sample variation in y that is explained by x. "
   ]
  },
  {
   "cell_type": "markdown",
   "metadata": {},
   "source": [
    "If the data points all lie on the same line, OLS provides a perfect fit to the data. In this case, R^2=1. A value of R^2 that is nearly equal to zero indicates a poor fit of the OLS line: very little of the variation in the Yi is captured by the variation in the yHATi (which all lie on the OLS regression line)."
   ]
  },
  {
   "cell_type": "markdown",
   "metadata": {},
   "source": [
    "### Wooldridge. Example 2.8 CEO Salary and Return on Equity"
   ]
  },
  {
   "cell_type": "code",
   "execution_count": 9,
   "metadata": {},
   "outputs": [
    {
     "name": "stdout",
     "output_type": "stream",
     "text": [
      "R^2 (1st option): 0.01318862\n",
      "R^2 (2nd option): 0.01318862\n",
      "R^2 (3rd option): 0.01318862"
     ]
    }
   ],
   "source": [
    "library(foreign)\n",
    "ceosal1<-read.dta(\"https://github.com/thousandoaks/Wooldridge/blob/master/ceosal1.dta?raw=true\")\n",
    "\n",
    "CEOregres <- lm( salary ~ roe, data=ceosal1 )\n",
    "\n",
    "# Calculate predicted values & residuals:\n",
    "sal.hat <- fitted(CEOregres)\n",
    "u.hat <- resid(CEOregres)\n",
    "\n",
    "# Calculate R^2 in three different ways:\n",
    "sal <- ceosal1$salary\n",
    "cat(\"R^2 (1st option):\",var(sal.hat) / var(sal))\n",
    "cat(\"\\nR^2 (2nd option):\",1 - var(u.hat) / var(sal))\n",
    "cat(\"\\nR^2 (3rd option):\",cor(sal, sal.hat)^2)"
   ]
  },
  {
   "cell_type": "markdown",
   "metadata": {
    "collapsed": true
   },
   "source": [
    "### Wooldridge. Example 2.9 Voting Outcomes and Campaign Expenditures"
   ]
  },
  {
   "cell_type": "code",
   "execution_count": 10,
   "metadata": {},
   "outputs": [
    {
     "data": {
      "text/plain": [
       "\n",
       "Call:\n",
       "lm(formula = voteA ~ shareA, data = vote1)\n",
       "\n",
       "Residuals:\n",
       "     Min       1Q   Median       3Q      Max \n",
       "-16.8924  -4.0649  -0.1697   3.4972  29.9759 \n",
       "\n",
       "Coefficients:\n",
       "            Estimate Std. Error t value Pr(>|t|)    \n",
       "(Intercept) 26.81254    0.88719   30.22   <2e-16 ***\n",
       "shareA       0.46382    0.01454   31.90   <2e-16 ***\n",
       "---\n",
       "Signif. codes:  0 ‘***’ 0.001 ‘**’ 0.01 ‘*’ 0.05 ‘.’ 0.1 ‘ ’ 1\n",
       "\n",
       "Residual standard error: 6.385 on 171 degrees of freedom\n",
       "Multiple R-squared:  0.8561,\tAdjusted R-squared:  0.8553 \n",
       "F-statistic:  1018 on 1 and 171 DF,  p-value: < 2.2e-16\n"
      ]
     },
     "metadata": {},
     "output_type": "display_data"
    }
   ],
   "source": [
    "library(foreign)\n",
    "vote1 <- read.dta(\"https://github.com/thousandoaks/Wooldridge/blob/master/vote1.dta?raw=true\")\n",
    "\n",
    "VOTEres <- lm(voteA ~ shareA, data=vote1)\n",
    "\n",
    "# Summary of the regression results\n",
    "summary(VOTEres)\n",
    "\n"
   ]
  },
  {
   "cell_type": "markdown",
   "metadata": {},
   "source": [
    "In the previous example R^2= 0.856. Thus the share of campaign expenditures explains over 85% of the variation in the election outcomes for this sample."
   ]
  },
  {
   "cell_type": "markdown",
   "metadata": {},
   "source": [
    "## 2-4 Nonlinearities in Simple Regression"
   ]
  },
  {
   "cell_type": "markdown",
   "metadata": {},
   "source": [
    "So far we have focused on linear relationships between the dependent and independent variables. However linear relationships are not nearly general enough for all economic applications. Fortunately it is relatively easy to incorporate many nonlinearities into simple regression analysis"
   ]
  },
  {
   "cell_type": "markdown",
   "metadata": {},
   "source": [
    "Recall the wage education example, where we regressed hourly wage on years of education. We obtain a slope estimation of 0.54, which means that each additional year of education is predicted to increase hourly wage by 54 cents. Because of the linear nature of the equation (2.27) 54 cents is the increase for either the first year of education or the twentieth year, this may not be reasonable."
   ]
  },
  {
   "cell_type": "markdown",
   "metadata": {},
   "source": [
    "Probably a better characterization of how wages changes with education is that each year of education increases wages by a constant percentage. For example an increase in education from 5 years to 6 years increases wages by, say, 8% (ceteris paribus), and an increase in education from 11 to 12 years also increases wages by 8%. A model that gives (approximately) a constant percentage effect is"
   ]
  },
  {
   "cell_type": "markdown",
   "metadata": {},
   "source": [
    "\\begin{equation}\n",
    "\\tag{2.42}\n",
    "log(wage)=\\beta_0 + \\beta_1 * educ +u\n",
    "\\end{equation}"
   ]
  },
  {
   "cell_type": "markdown",
   "metadata": {},
   "source": [
    "### Wooldridge. Example 2.10  A Log Wage Equation"
   ]
  },
  {
   "cell_type": "markdown",
   "metadata": {
    "collapsed": true
   },
   "source": [
    "Using the same data as in example 2.4 but using log(wage) as the dependent variable, we obtain the following relationship:"
   ]
  },
  {
   "cell_type": "code",
   "execution_count": null,
   "metadata": {},
   "outputs": [],
   "source": [
    "require(foreign)\n",
    "wage1 <- read.dta(\"https://github.com/thousandoaks/Wooldridge/blob/master/wage1.dta?raw=true\")\n",
    "\n",
    "# Estimate log-level model\n",
    "lm( log(wage) ~ educ, data=wage1 )"
   ]
  },
  {
   "cell_type": "markdown",
   "metadata": {},
   "source": [
    "\\begin{equation}\n",
    "\\tag{2.44}\n",
    "log(wage)=0.584 + 0.083 * educ +u\n",
    "\\end{equation}"
   ]
  },
  {
   "cell_type": "markdown",
   "metadata": {},
   "source": [
    "From the above we see that wage increases by 8.3% for every additional year of education. This is what economists mean when they refer to \"return to another year of education\""
   ]
  },
  {
   "cell_type": "markdown",
   "metadata": {
    "collapsed": true
   },
   "source": [
    "It is important to remember that the main reason for using the log of wage in (2.42) is to impose a constant percentage effect of education on wage."
   ]
  },
  {
   "cell_type": "markdown",
   "metadata": {
    "collapsed": true
   },
   "source": [
    "Finally it is important to note that equation (2.44) might not capture all of the nonlinearity in the relationship between wage and schooling. If there are \"\"diploma effects then the twelfth year of education (graduation from high school) could be worth much more that the eleventh year."
   ]
  },
  {
   "cell_type": "markdown",
   "metadata": {},
   "source": [
    "### Wooldridge. Example 2.11 CEO Salary and Firm Sales"
   ]
  },
  {
   "cell_type": "markdown",
   "metadata": {},
   "source": [
    "We can estimate a constant elasticity model relating CEO salary to firm sales. The data set in the same one used in Example 2.3, except we now relate salary to sales. Let sales be annual firms sales, measures in millions of dollars. A constant elasticity model is "
   ]
  },
  {
   "cell_type": "markdown",
   "metadata": {},
   "source": [
    "\\begin{equation}\n",
    "\\tag{2.45}\n",
    "log(salary)=\\beta_0 + \\beta_1 * log(sales) +u\n",
    "\\end{equation}"
   ]
  },
  {
   "cell_type": "markdown",
   "metadata": {},
   "source": [
    "where &beta;1 is the elasticity of salary with respect to sales. Estimating this equation by OLS gives"
   ]
  },
  {
   "cell_type": "code",
   "execution_count": null,
   "metadata": {},
   "outputs": [],
   "source": [
    "require(foreign)\n",
    "ceosal1<-read.dta(\"https://github.com/thousandoaks/Wooldridge/blob/master/ceosal1.dta?raw=true\")\n",
    "\n",
    "# Estimate log-log model\n",
    "lm( log(salary) ~ log(sales), data=ceosal1 )"
   ]
  },
  {
   "cell_type": "code",
   "execution_count": null,
   "metadata": {},
   "outputs": [],
   "source": []
  },
  {
   "cell_type": "markdown",
   "metadata": {},
   "source": [
    "The coefficient of log(sales) is the estimated elasticity of salary with respect to sales. It implies that a 1% increase in firm sales increases CEO salary by about 0.257%. This is the usual interpretation of an elasticity"
   ]
  },
  {
   "cell_type": "markdown",
   "metadata": {},
   "source": [
    "## 2-5 Expected Values and Variances of the OLS Estimators"
   ]
  },
  {
   "cell_type": "markdown",
   "metadata": {},
   "source": [
    "We now return to the population model and study the statistical properties of OLS. In other words, we now view B0Hat and B1Hat as estimators of &B0; and &B1; that appear in the population model. This means that we will study properties of the distributions of B0Hat and B1Hat over different random samples from the population."
   ]
  },
  {
   "cell_type": "markdown",
   "metadata": {},
   "source": [
    "### 2-5a Unbiadseness of OLS"
   ]
  },
  {
   "cell_type": "markdown",
   "metadata": {},
   "source": [
    "The unbiadseness of OLS is verified under a set of 4 assumptions."
   ]
  },
  {
   "cell_type": "markdown",
   "metadata": {},
   "source": [
    "### Assumption SLR.1 Linear in parameters"
   ]
  },
  {
   "cell_type": "markdown",
   "metadata": {},
   "source": [
    "In the population model, the dependent variable, y, is related to the independent variable, x, and the error (or disturbance), u, as"
   ]
  },
  {
   "cell_type": "markdown",
   "metadata": {},
   "source": [
    "\\begin{equation}\n",
    "y=\\beta_0+\\beta_1*x+u\n",
    "\\tag{2.47}\n",
    "\\end{equation}"
   ]
  },
  {
   "cell_type": "markdown",
   "metadata": {},
   "source": [
    "### Assumption SLR.2 Random Sampling"
   ]
  },
  {
   "cell_type": "markdown",
   "metadata": {},
   "source": [
    "We have a random sample of size n, {(Xi,Yi):i=1,2,...,n}, following the population model in equation (2.47)"
   ]
  },
  {
   "cell_type": "markdown",
   "metadata": {},
   "source": [
    "Let's note at this point that the random sampling assumption might not always verified, for instance in time series data."
   ]
  },
  {
   "cell_type": "markdown",
   "metadata": {},
   "source": [
    "We can write (2.47) in terms of the random sample as"
   ]
  },
  {
   "cell_type": "markdown",
   "metadata": {},
   "source": [
    "\\begin{equation}\n",
    "y=\\beta_0+\\beta_1*x_i+u_i, i=1,2,...,n\n",
    "\\tag{2.48}\n",
    "\\end{equation}"
   ]
  },
  {
   "cell_type": "markdown",
   "metadata": {},
   "source": [
    "where u_i is the error or disturbance for observation i (for example, person i, firm i, city i, and so on). Thus, ui contains the unobservables for observation i that affect yi. The ui should not be confused with the residuals uHATi"
   ]
  },
  {
   "cell_type": "markdown",
   "metadata": {},
   "source": [
    "### Assumption SLR.3 Sample Variation in the Explanatory Variable"
   ]
  },
  {
   "cell_type": "markdown",
   "metadata": {},
   "source": [
    "The sample outcomes on x, namely, {xi,i=1,...,n} are not all the same value."
   ]
  },
  {
   "cell_type": "markdown",
   "metadata": {},
   "source": [
    "### Assumption SLR.4 Zero Conditional Mean"
   ]
  },
  {
   "cell_type": "markdown",
   "metadata": {},
   "source": [
    "The error u has an expected value of zero given any value of the explanatory variable. In other words"
   ]
  },
  {
   "cell_type": "markdown",
   "metadata": {},
   "source": [
    "\\begin{equation}\n",
    "E(u|x) =0\n",
    "\\end{equation}"
   ]
  },
  {
   "cell_type": "markdown",
   "metadata": {},
   "source": [
    "### Theorem 2.1. Unbiadseness of OLS"
   ]
  },
  {
   "cell_type": "markdown",
   "metadata": {},
   "source": [
    "Using Assumptions SLR.1 through SLR.4,"
   ]
  },
  {
   "cell_type": "markdown",
   "metadata": {},
   "source": [
    "\\begin{equation}\n",
    "E(\\hat{\\beta}_0)=\\beta_0\n",
    ";\n",
    "E(\\hat{\\beta}_1)=\\beta_1\n",
    "\\end{equation}"
   ]
  },
  {
   "cell_type": "markdown",
   "metadata": {},
   "source": [
    "for any values of &Beta;0 and &Beta;1. In other words the estimators BHAT0 and BHAT1 are unbiased for &Beta;0 and &Beta;1"
   ]
  },
  {
   "cell_type": "markdown",
   "metadata": {},
   "source": [
    "### Wooldridge. Example 2.12 Student Math Performance and the School Lunch Program"
   ]
  },
  {
   "cell_type": "markdown",
   "metadata": {},
   "source": [
    "Let math10 denote the percentage of tenth graders at high school receiving a passing score on a standarized mathematics exam. Suppose we wish to estimate the effect of the federally funded school lunch program on student performance. If anything, we expect the lunch programm to have a positive ceteris paribus effect on performance: all other factors being equal, if a student who is too poor to each regular meals becomes eligible for the school lunch program, his or her performance should improve. Let lnchprg denote the percentage of students who are eligible for the lunch program. Then, a simple regression model is"
   ]
  },
  {
   "cell_type": "markdown",
   "metadata": {},
   "source": [
    "\\begin{equation}\n",
    "math10=\\beta_0+\\beta_1*lunchprg+u\n",
    "\\tag{2.54}\n",
    "\\end{equation}"
   ]
  },
  {
   "cell_type": "markdown",
   "metadata": {},
   "source": [
    "where u constains school caracteristics and student characteristics that affect overall school performance. Using the data in MEAP93 on 408 Michigan school for the 1992-1992 school year"
   ]
  },
  {
   "cell_type": "code",
   "execution_count": null,
   "metadata": {},
   "outputs": [],
   "source": [
    "library(foreign)\n",
    "meap93<-read.dta(\"https://github.com/thousandoaks/Wooldridge/blob/master/meap93.dta?raw=true\")\n",
    "\n",
    "# Estimate the model and save the results as \"results\"\n",
    "results <- lm(math10 ~ lnchprg, data=meap93)\n",
    "\n",
    "\n",
    "\n",
    "# Automatic calculations:\n",
    "summary(results)"
   ]
  },
  {
   "cell_type": "markdown",
   "metadata": {},
   "source": [
    "\\begin{equation}\n",
    "\\hat{math10}=32.14-0.319*lunchprg\n",
    "\\\\\n",
    "R^2=0.171\n",
    "\\end{equation}"
   ]
  },
  {
   "cell_type": "markdown",
   "metadata": {},
   "source": [
    "This equation predict that if student eligibility in the lunch program increases by 10 percentage points, the percentage of students passing the math exam falls by about 3.2 percentage points. Do we really believe that higher participation in the lunch program actually causes worse performance ? Almost certainly not."
   ]
  },
  {
   "cell_type": "markdown",
   "metadata": {},
   "source": [
    "A better explanation is that the error term u in equation (2.54) is correlated with lunchprg. In fact, u contains factors such as the poverty rate of children attending school, which affects student performance and is highly correlated with eligibility in the lunch program. Variables such as school quality and resources are also contained in u, and these are likely correlated with lunchprg."
   ]
  },
  {
   "cell_type": "markdown",
   "metadata": {},
   "source": [
    "### 2-5b Variances of the OLS Estimators"
   ]
  },
  {
   "cell_type": "markdown",
   "metadata": {},
   "source": [
    "In addition to knowing that the sampling distribution of &beta1HAT is centered about &beta1;, it is important to know how far we can expect &beta1;HAT to be away from &beta1; on average. "
   ]
  },
  {
   "cell_type": "markdown",
   "metadata": {},
   "source": [
    "The homoskedasticity of \"constant variance\" assumption provides a simple approach to compute the variance of the estimators"
   ]
  },
  {
   "cell_type": "markdown",
   "metadata": {},
   "source": [
    "### Assumption SLR.5 Homoskedasticity"
   ]
  },
  {
   "cell_type": "markdown",
   "metadata": {},
   "source": [
    "The error u has the same variance given any value of the explanatory variable. In other words,"
   ]
  },
  {
   "cell_type": "markdown",
   "metadata": {},
   "source": [
    "\\begin{equation}\n",
    "Var(u|x) = \\sigma^2\n",
    "\\end{equation}"
   ]
  },
  {
   "cell_type": "markdown",
   "metadata": {},
   "source": [
    "&sigma;^2 is the unconditional variance of u and so it is often called the error variance or disturbance variance."
   ]
  },
  {
   "cell_type": "markdown",
   "metadata": {},
   "source": [
    "### Theorem 2.2 Sampling Variances of the OLS Estimators"
   ]
  },
  {
   "cell_type": "markdown",
   "metadata": {},
   "source": [
    "Under Assumptions SLR1 through SLR.5"
   ]
  },
  {
   "cell_type": "markdown",
   "metadata": {},
   "source": [
    "\\begin{equation}\n",
    "Var(\\hat{\\beta_1}) = \\frac{\\sigma^2}{\\sum_{i=1}^n (x_i-\\vec{x})^2}=\\sigma^2/SST_x\n",
    "\\tag{2.57}\n",
    "\\end{equation}\n",
    "\\begin{equation}\n",
    "Var(\\hat{\\beta_0}) = \\frac{\\sigma^2*n^{-1}\\sum_{i=1}^nx_i^2 }{\\sum_{i=1}^n (x_i-\\vec{x})^2}\n",
    "\\tag{2.58}\n",
    "\\end{equation}"
   ]
  },
  {
   "cell_type": "markdown",
   "metadata": {},
   "source": [
    "Equations (2.57) and (2.58) are the \"standard\" formulas for simple regression analysis, which are invalid in the presence of heteroskedasticity. "
   ]
  },
  {
   "cell_type": "markdown",
   "metadata": {},
   "source": [
    "### 2-5c Estimating the Error Variance"
   ]
  },
  {
   "cell_type": "markdown",
   "metadata": {},
   "source": [
    "The formulas in (2.57) and (2.58) allow us to isolate the factors that contribute to Var(&beta;1HAT) and Var(&beta0;HAT). But these formulas are unknown, except in the extremely rare case that &sigma;^2 is known. Nevertheless we can use data to estimate &sigma;^2"
   ]
  },
  {
   "cell_type": "markdown",
   "metadata": {},
   "source": [
    "An unbiased estimator of &simga;^2 is:"
   ]
  },
  {
   "cell_type": "markdown",
   "metadata": {},
   "source": [
    "\\begin{equation}\n",
    "\\hat{\\sigma^2}=\\frac{a}{(n-2)}\\sum_{i=1}^nu_i^2=SSR/(n-2)\n",
    "\\tag{2.61}\n",
    "\\end{equation}"
   ]
  },
  {
   "cell_type": "markdown",
   "metadata": {},
   "source": [
    "refer to Wooldridge 2016 page 49 for more details "
   ]
  },
  {
   "cell_type": "markdown",
   "metadata": {},
   "source": [
    "### Theorem 2.3. Unbiased Estimation of &sigma;^2"
   ]
  },
  {
   "cell_type": "markdown",
   "metadata": {},
   "source": [
    "Under Assumptions SLR.1 through SLR.5"
   ]
  },
  {
   "cell_type": "markdown",
   "metadata": {},
   "source": [
    "\\begin{equation}\n",
    "E(\\hat{\\sigma}^2)=\\sigma^2\n",
    "\\end{equation}"
   ]
  },
  {
   "cell_type": "markdown",
   "metadata": {},
   "source": [
    "Theorem 2.3 states that, under assumptions SLR1 trough SLR5, If &sigma;^2 HAT is plugged into the variance formulas (2.57) and (2.58), then we have unbiased estimators of Var(&beta;1HAT) and Var(&beta;0HAT)"
   ]
  },
  {
   "cell_type": "markdown",
   "metadata": {
    "collapsed": true
   },
   "source": [
    "A natural estimator of &sigma; is "
   ]
  },
  {
   "cell_type": "markdown",
   "metadata": {},
   "source": [
    "\\begin{equation}\n",
    "\\hat{\\sigma}=\\sqrt{\\hat{\\sigma}^2}\n",
    "\\tag{2.62}\n",
    "\\end{equation}"
   ]
  },
  {
   "cell_type": "markdown",
   "metadata": {},
   "source": [
    "and is called the standard error of the regression (SER). Other names are the standard error of the estimate and the root mean squared error. Although &sigma;HAT is not an umbiased estimator of &sigma; it is a consistent estimator of &sigma;"
   ]
  },
  {
   "cell_type": "markdown",
   "metadata": {},
   "source": [
    "a natural estimator of the standard deviation of &beta;1 HAT is"
   ]
  },
  {
   "cell_type": "markdown",
   "metadata": {},
   "source": [
    "\\begin{equation}\n",
    "se(\\hat{\\beta}_1)=\\hat{\\sigma}/\\sqrt{SST_x}=\\hat{\\sigma}/(\\sum_{i=1}^n(x_i-\\vec{x})^2)^{1/2}\n",
    "\\end{equation}"
   ]
  },
  {
   "cell_type": "markdown",
   "metadata": {},
   "source": [
    "this is called the standard error of &beta;1HAT. Similarly, se(&beta;0 HAT) is obtained from sd(&beta;0 HAT) by replacing &sigma; with &sigma;HAT. Standard errors play a central role in econometrics as they are used to construct test statistics and confidence intervals\n"
   ]
  },
  {
   "cell_type": "markdown",
   "metadata": {},
   "source": [
    "## 2-7 Violation of Assumptions SLR.1-SLR.5"
   ]
  },
  {
   "cell_type": "markdown",
   "metadata": {},
   "source": [
    "Lets start first with an analysis of the performance of OLS under assumptions SLR.1 through SLR.5. We simulate a sample of size n=1000 with population parameters &beta;0=1 and &beta;1=0.5. We set the standard deviation of the error term tu to &sigma;=2"
   ]
  },
  {
   "cell_type": "code",
   "execution_count": null,
   "metadata": {},
   "outputs": [],
   "source": [
    "# Set the random seed\n",
    "set.seed(1234567)\n",
    "\n",
    "# set sample size\n",
    "n<-1000\n",
    "\n",
    "# set true parameters: betas and sd of u\n",
    "b0<-1; b1<-0.5; su<-2\n",
    "\n",
    "# Draw a sample of size n:\n",
    "x <- rnorm(n,4,1)\n",
    "u <- rnorm(n,0,su)\n",
    "y <- b0 + b1*x + u\n",
    "\n",
    "# estimate parameters by OLS\n",
    "(olsres <- lm(y~x))\n",
    "\n",
    "# features of the sample for the variance formula:\n",
    "#mean(x^2)\n",
    "#sum((x-mean(x))^2)\n",
    "\n"
   ]
  },
  {
   "cell_type": "markdown",
   "metadata": {},
   "source": [
    "The previous results reveal that OLS works reasonably well in estimating the true values &beta;0=1 and &beta;1=0.5 with &beta;0HAT=1.2 and &beta;1HAT=0.43"
   ]
  },
  {
   "cell_type": "markdown",
   "metadata": {
    "collapsed": true
   },
   "source": [
    "Theorem 2.2. of Wooldridge (2016) states the sampling variance of the estimators conditional on the sample values {x1,..,xn}. Using equations (2.57) and (2.58)"
   ]
  },
  {
   "cell_type": "markdown",
   "metadata": {},
   "source": [
    "\\begin{equation}\n",
    "Var(\\hat{\\beta_1}) = \\frac{\\sigma^2}{\\sum_{i=1}^n (x_i-\\vec{x})^2}=\\frac{4}{990.41}=0.0040\n",
    "\\end{equation}\n",
    "\\begin{equation}\n",
    "Var(\\hat{\\beta_0}) = \\frac{\\sigma^2*n^{-1}\\sum_{i=1}^nx_i^2 }{\\sum_{i=1}^n (x_i-\\vec{x})^2}=\\frac{4*16.996}{990.41}=0.0685\n",
    "\\end{equation}"
   ]
  },
  {
   "cell_type": "markdown",
   "metadata": {},
   "source": [
    "According to Wooldridge 2016 the standard error of &beta;1 HAT is SQRT(0.004)=0.063 so getting and estimate of &beta;1HAT=0.438 for one sample doesn't seem unreasonable given that &beta;1=0.5. The following figure shows the real regression on the population sample and the one computed via OLS."
   ]
  },
  {
   "cell_type": "code",
   "execution_count": null,
   "metadata": {},
   "outputs": [],
   "source": [
    "# Graph\n",
    "plot(x, y, col=\"gray\", xlim=c(0,8) )\n",
    "abline(b0,b1,lwd=2)\n",
    "abline(olsres,col=\"gray\",lwd=2)\n",
    "legend(\"topleft\",c(\"pop. regr. fct.\",\"OLS regr. fct.\"),\n",
    "                               lwd=2,col=c(\"black\",\"gray\"))"
   ]
  },
  {
   "cell_type": "markdown",
   "metadata": {
    "collapsed": true
   },
   "source": [
    "Since the expected values and variances of our estimates are defined over separate random samples from the same population, it might make sense to repeat the same simulation over many simulates examples."
   ]
  },
  {
   "cell_type": "code",
   "execution_count": null,
   "metadata": {},
   "outputs": [],
   "source": [
    "# Set the random seed\n",
    "set.seed(1234567)\n",
    "\n",
    "# set sample size and number of simulations\n",
    "n<-1000; r<-10000\n",
    "\n",
    "# set true parameters: betas and sd of u\n",
    "b0<-1; b1<-0.5; su<-2\n",
    "\n",
    "# initialize b0hat and b1hat to store results later:\n",
    "b0hat <- numeric(r)\n",
    "b1hat <- numeric(r)\n",
    "\n",
    "# Draw a sample of x, fixed over replications:\n",
    "x <- rnorm(n,4,1)\n",
    "\n",
    "# repeat r times:\n",
    "for(j in 1:r) {\n",
    "  # Draw a sample of y:\n",
    "  u <- rnorm(n,0,su)\n",
    "  y <- b0 + b1*x + u\n",
    "  \n",
    "  # estimate parameters by OLS and store them in the vectors\n",
    "  bhat <- coefficients( lm(y~x) )\n",
    "  b0hat[j] <- bhat[\"(Intercept)\"]\n",
    "  b1hat[j] <- bhat[\"x\"]\n",
    "}"
   ]
  },
  {
   "cell_type": "code",
   "execution_count": null,
   "metadata": {},
   "outputs": [],
   "source": [
    "# MC estimate of the expected values:\n",
    "cat(\"Average value of B0HAT:\",mean(b0hat))\n",
    "cat(\"\\nAverage value of B1HAT:\",mean(b1hat))\n",
    "\n",
    "# MC estimate of the variances:\n",
    "cat(\"\\nVariance of B0HAT:\",var(b0hat))\n",
    "cat(\"\\nVariance of B1HAT:\",var(b1hat))\n",
    "\n",
    "# Initialize empty plot\n",
    "plot( NULL, xlim=c(0,8), ylim=c(0,6), xlab=\"x\", ylab=\"y\")\n",
    "# add OLS regression lines\n",
    "for (j in 1:10) abline(b0hat[j],b1hat[j],col=\"gray\")\n",
    "# add population regression line\n",
    "abline(b0,b1,lwd=2)\n",
    "# add legend\n",
    "legend(\"topleft\",c(\"Population\",\"OLS regressions\"),\n",
    "                           lwd=c(2,1),col=c(\"black\",\"gray\"))"
   ]
  },
  {
   "cell_type": "markdown",
   "metadata": {},
   "source": [
    "### 2-7.1 Violation of SLR.4"
   ]
  },
  {
   "cell_type": "markdown",
   "metadata": {},
   "source": [
    "We will come back to a more systematic discussion of the consequences of violating the SLR.4 assumption (zero conditional mean). "
   ]
  },
  {
   "cell_type": "markdown",
   "metadata": {},
   "source": [
    "Consider a case where in the population u is not mean independent of x. A simple example is"
   ]
  },
  {
   "cell_type": "markdown",
   "metadata": {},
   "source": [
    "\\begin{equation}\n",
    "E(u|x)=\\frac{x-4}{5}\n",
    "\\end{equation}"
   ]
  },
  {
   "cell_type": "markdown",
   "metadata": {},
   "source": [
    "What happens to the OLS estimator ? The following code presents the outputs"
   ]
  },
  {
   "cell_type": "code",
   "execution_count": null,
   "metadata": {},
   "outputs": [],
   "source": [
    "# Set the random seed\n",
    "set.seed(1234567)\n",
    "\n",
    "# set sample size and number of simulations\n",
    "n<-1000; r<-10000\n",
    "\n",
    "# set true parameters: betas and sd of u\n",
    "b0<-1; b1<-0.5; su<-2\n",
    "\n",
    "# initialize b0hat and b1hat to store results later:\n",
    "b0hat <- numeric(r)\n",
    "b1hat <- numeric(r)\n",
    "\n",
    "# Draw a sample of x, fixed over replications:\n",
    "x <- rnorm(n,4,1)\n",
    "\n",
    "# repeat r times:\n",
    "for(j in 1:r) {\n",
    "  # Draw a sample of y:\n",
    "  u <- rnorm(n, (x-4)/5, su)\n",
    "  y <- b0 + b1*x + u\n",
    "  \n",
    "  # estimate parameters by OLS and store them in the vectors\n",
    "  bhat <- coefficients( lm(y~x) )\n",
    "  b0hat[j] <- bhat[\"(Intercept)\"]\n",
    "  b1hat[j] <- bhat[\"x\"]\n",
    "}"
   ]
  },
  {
   "cell_type": "code",
   "execution_count": null,
   "metadata": {},
   "outputs": [],
   "source": [
    "# MC estimate of the expected values:\n",
    "cat(\"Estimate b0:\",mean(b0hat))\n",
    "cat(\"\\nEstimate of b1:\",mean(b1hat))\n",
    "\n",
    "# MC estimate of the variances:\n",
    "cat(\"\\nEstimate of the variance of b0:\",var(b0hat))\n",
    "cat(\"\\nEstimate of the variance of b1:\",var(b1hat))\n"
   ]
  },
  {
   "cell_type": "markdown",
   "metadata": {},
   "source": [
    "As we appreciate the average estimates are far from the population parameters (&beta;0=1 and &beta;1=0.5)"
   ]
  },
  {
   "cell_type": "markdown",
   "metadata": {},
   "source": [
    "### 2-7.2 Violation of SLR.5"
   ]
  },
  {
   "cell_type": "markdown",
   "metadata": {},
   "source": [
    "Theorem 2.1 (unbiadseness) does not require Assumption SLR.5 (homoskedasticity), but Theorem 2.2 (sampling variance) does. As an example for a violation consider the population specification"
   ]
  },
  {
   "cell_type": "markdown",
   "metadata": {},
   "source": [
    "\\begin{equation}\n",
    "Var(u_i|x_i)=\\frac{4}{e^4.5}*e^{x_i}\n",
    "\\end{equation}"
   ]
  },
  {
   "cell_type": "markdown",
   "metadata": {},
   "source": [
    "So SLR.5 is clearly violated since the variance depends on x. Assumption SLR.4 holds. "
   ]
  },
  {
   "cell_type": "code",
   "execution_count": null,
   "metadata": {},
   "outputs": [],
   "source": [
    "# Set the random seed\n",
    "set.seed(1234567)\n",
    "\n",
    "# set sample size and number of simulations\n",
    "n<-1000; r<-10000\n",
    "\n",
    "# set true parameters: betas and sd of u\n",
    "b0<-1; b1<-0.5; su<-2\n",
    "\n",
    "# initialize b0hat and b1hat to store results later:\n",
    "b0hat <- numeric(r)\n",
    "b1hat <- numeric(r)\n",
    "\n",
    "# Draw a sample of x, fixed over replications:\n",
    "x <- rnorm(n,4,1)\n",
    "\n",
    "# repeat r times:\n",
    "for(j in 1:r) {\n",
    "  # Draw a sample of y:\n",
    "  varu <- 4/exp(4.5) * exp(x)\n",
    "  u <- rnorm(n, 0, sqrt(varu) )\n",
    "  y <- b0 + b1*x + u\n",
    "  \n",
    "  # estimate parameters by OLS and store them in the vectors\n",
    "  bhat <- coefficients( lm(y~x) )\n",
    "  b0hat[j] <- bhat[\"(Intercept)\"]\n",
    "  b1hat[j] <- bhat[\"x\"]\n",
    "}\n"
   ]
  },
  {
   "cell_type": "code",
   "execution_count": null,
   "metadata": {},
   "outputs": [],
   "source": [
    "# MC estimate of the expected values:\n",
    "cat(\"Estimate b0:\",mean(b0hat))\n",
    "cat(\"\\nEstimate of b1:\",mean(b1hat))\n",
    "\n",
    "# MC estimate of the variances:\n",
    "cat(\"\\nEstimate of the variance of b0:\",var(b0hat))\n",
    "cat(\"\\nEstimate of the variance of b1:\",var(b1hat))\n"
   ]
  },
  {
   "cell_type": "markdown",
   "metadata": {},
   "source": [
    "The previous results reveal that: (1) the unbiadsedness provided by Theorem 2.1 is unaffected, (2) the formula for sampling variance provided by Theorem 2.2 is incorrect"
   ]
  },
  {
   "cell_type": "code",
   "execution_count": null,
   "metadata": {},
   "outputs": [],
   "source": []
  }
 ],
 "metadata": {
  "kernelspec": {
   "display_name": "R",
   "language": "R",
   "name": "r"
  },
  "language_info": {
   "codemirror_mode": "r",
   "file_extension": ".r",
   "mimetype": "text/x-r-source",
   "name": "R",
   "pygments_lexer": "r",
   "version": "3.4.1"
  }
 },
 "nbformat": 4,
 "nbformat_minor": 2
}
